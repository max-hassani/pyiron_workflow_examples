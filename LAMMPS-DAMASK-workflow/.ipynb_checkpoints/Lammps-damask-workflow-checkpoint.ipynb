{
 "cells": [
  {
   "cell_type": "code",
   "execution_count": 10,
   "metadata": {},
   "outputs": [],
   "source": [
    "from pyiron import Project\n",
    "import pyiron_contrib\n",
    "from elastic import ElasticMatrixJob\n",
    "import numpy as np\n",
    "import matplotlib.pyplot as plt\n",
    "import seaborn as sns\n",
    "sns.set_context('talk')"
   ]
  },
  {
   "cell_type": "code",
   "execution_count": 3,
   "metadata": {},
   "outputs": [],
   "source": [
    "pr = Project('scratch')\n",
    "#pr.remove_jobs(recursive=True)"
   ]
  },
  {
   "cell_type": "code",
   "execution_count": 4,
   "metadata": {},
   "outputs": [],
   "source": [
    "lammps = pr.create_job(pr.job_type.Lammps, 'hr')\n",
    "lammps.structure = pr.create_ase_bulk('Cu', cubic=True).repeat(5)\n",
    "lammps.structure[:3] = 'Ni'"
   ]
  },
  {
   "cell_type": "code",
   "execution_count": 5,
   "metadata": {},
   "outputs": [
    {
     "data": {
      "text/plain": [
       "['FeCuNi_eam_alloy',\n",
       " '1985--Foiles-S-M--Ni-Cu--LAMMPS--ipr1',\n",
       " '2009--Bonny-G--Fe-Cu-Ni--LAMMPS--ipr1',\n",
       " '1985--Foiles-S-M--Ni-Cu--LAMMPS--ipr1',\n",
       " '2009--Bonny-G--Fe-Cu-Ni--LAMMPS--ipr1',\n",
       " '2013--Onat-B--Cu-Ni--LAMMPS--ipr2',\n",
       " '2018--Farkas-D--Fe-Ni-Cr-Co-Cu--LAMMPS--ipr1',\n",
       " '2013--Onat-B--Cu-Ni--LAMMPS--ipr1',\n",
       " '2018--Farkas-D--Fe-Ni-Cr-Co-Cu--LAMMPS--ipr2',\n",
       " '1989--Adams-J-B--Ag-Au-Cu-Ni-Pd-Pt--LAMMPS--ipr1',\n",
       " '1986--Foiles-S-M--Ag-Au-Cu-Ni-Pd-Pt--LAMMPS--ipr1',\n",
       " 'EAM_Dynamo_BonnyPasianotCastin_2009_FeCuNi__MO_469343973171_005',\n",
       " 'EAM_Dynamo_OnatDurukanoglu_2014_CuNi__MO_592013496703_005',\n",
       " 'EMT_Asap_Standard_JacobsenStoltzeNorskov_1996_AlAgAuCuNiPdPt__MO_115316750986_001']"
      ]
     },
     "execution_count": 5,
     "metadata": {},
     "output_type": "execute_result"
    }
   ],
   "source": [
    "lammps.list_potentials()"
   ]
  },
  {
   "cell_type": "code",
   "execution_count": 6,
   "metadata": {},
   "outputs": [
    {
     "data": {
      "text/html": [
       "<div>\n",
       "<style scoped>\n",
       "    .dataframe tbody tr th:only-of-type {\n",
       "        vertical-align: middle;\n",
       "    }\n",
       "\n",
       "    .dataframe tbody tr th {\n",
       "        vertical-align: top;\n",
       "    }\n",
       "\n",
       "    .dataframe thead th {\n",
       "        text-align: right;\n",
       "    }\n",
       "</style>\n",
       "<table border=\"1\" class=\"dataframe\">\n",
       "  <thead>\n",
       "    <tr style=\"text-align: right;\">\n",
       "      <th></th>\n",
       "      <th>Config</th>\n",
       "      <th>Filename</th>\n",
       "      <th>Model</th>\n",
       "      <th>Name</th>\n",
       "      <th>Species</th>\n",
       "    </tr>\n",
       "  </thead>\n",
       "  <tbody>\n",
       "    <tr>\n",
       "      <th>170</th>\n",
       "      <td>[pair_style eam\\n, pair_coeff 1 1 Cu_smf7.eam\\...</td>\n",
       "      <td>[NISTiprpy/1985--Foiles-S-M--Ni-Cu--LAMMPS--ip...</td>\n",
       "      <td>NISTiprpy</td>\n",
       "      <td>1985--Foiles-S-M--Ni-Cu--LAMMPS--ipr1</td>\n",
       "      <td>[Cu, Ni]</td>\n",
       "    </tr>\n",
       "    <tr>\n",
       "      <th>385</th>\n",
       "      <td>[pair_style eam\\n, pair_coeff 1 1 Cu_smf7.eam\\...</td>\n",
       "      <td>[NISTiprpy/1985--Foiles-S-M--Ni-Cu--LAMMPS--ip...</td>\n",
       "      <td>NISTiprpy</td>\n",
       "      <td>1985--Foiles-S-M--Ni-Cu--LAMMPS--ipr1</td>\n",
       "      <td>[Cu, Ni]</td>\n",
       "    </tr>\n",
       "  </tbody>\n",
       "</table>\n",
       "</div>"
      ],
      "text/plain": [
       "                                                Config  \\\n",
       "170  [pair_style eam\\n, pair_coeff 1 1 Cu_smf7.eam\\...   \n",
       "385  [pair_style eam\\n, pair_coeff 1 1 Cu_smf7.eam\\...   \n",
       "\n",
       "                                              Filename      Model  \\\n",
       "170  [NISTiprpy/1985--Foiles-S-M--Ni-Cu--LAMMPS--ip...  NISTiprpy   \n",
       "385  [NISTiprpy/1985--Foiles-S-M--Ni-Cu--LAMMPS--ip...  NISTiprpy   \n",
       "\n",
       "                                      Name   Species  \n",
       "170  1985--Foiles-S-M--Ni-Cu--LAMMPS--ipr1  [Cu, Ni]  \n",
       "385  1985--Foiles-S-M--Ni-Cu--LAMMPS--ipr1  [Cu, Ni]  "
      ]
     },
     "execution_count": 6,
     "metadata": {},
     "output_type": "execute_result"
    }
   ],
   "source": [
    "lammps.potential = lammps.list_potentials()[1]\n",
    "lammps.potential"
   ]
  },
  {
   "cell_type": "code",
   "execution_count": 7,
   "metadata": {},
   "outputs": [],
   "source": [
    "sqs = pr.create_job(pr.job_type.SQSJob, 'sr')\n",
    "sqs.input.iterations = 100\n",
    "sqs.input.weights = None\n",
    "sqs.input.n_output_structures = 2 "
   ]
  },
  {
   "cell_type": "code",
   "execution_count": 8,
   "metadata": {},
   "outputs": [],
   "source": [
    "elastic = pr.create_job(ElasticMatrixJob, 'er')\n",
    "elastic.input['num_of_points'] = 3\n",
    "elastic.input['fit_order'] = 2\n",
    "elastic.input['eps_range'] = 0.005\n",
    "elastic.input['relax_atoms'] = False\n",
    "elastic.input['sqrt_eta'] = False"
   ]
  },
  {
   "cell_type": "code",
   "execution_count": 9,
   "metadata": {},
   "outputs": [
    {
     "name": "stderr",
     "output_type": "stream",
     "text": [
      "2020-11-03 22:52:52,006 - pyiron_log - WARNING - The job single is being loaded instead of running. To re-run use the argument 'delete_existing_job=True in create_job'\n"
     ]
    }
   ],
   "source": [
    "sqs_elastic = pr.create_job(pr.job_type.SQSElasticConstants, 'single')\n",
    "sqs_elastic.ref_ham = lammps\n",
    "sqs_elastic.ref_sqs = sqs\n",
    "sqs_elastic.ref_elastic = elastic\n",
    "sqs_elastic.run()"
   ]
  },
  {
   "cell_type": "code",
   "execution_count": 10,
   "metadata": {},
   "outputs": [
    {
     "data": {
      "text/plain": [
       "array([[1.40774359e-02, 2.55649855e-03, 1.73211000e-03, 1.48026116e-03,\n",
       "        7.57595726e-03, 3.45691046e-03],\n",
       "       [2.55649855e-03, 5.45840562e-05, 3.84007345e+01, 7.53139417e-03,\n",
       "        1.46577565e-03, 1.55998336e-03],\n",
       "       [1.73211000e-03, 3.84007345e+01, 1.40005185e-05, 7.53702599e-03,\n",
       "        7.55910607e-03, 2.32398979e-03],\n",
       "       [1.48026116e-03, 7.53139417e-03, 7.53702599e-03, 6.19363746e-05,\n",
       "        4.82144751e-06, 1.99536109e-03],\n",
       "       [7.57595726e-03, 1.46577565e-03, 7.55910607e-03, 4.82144751e-06,\n",
       "        1.22834582e-06, 1.99305148e-03],\n",
       "       [3.45691046e-03, 1.55998336e-03, 2.32398979e-03, 1.99536109e-03,\n",
       "        1.99305148e-03, 1.69107762e-05]])"
      ]
     },
     "execution_count": 10,
     "metadata": {},
     "output_type": "execute_result"
    }
   ],
   "source": [
    "sqs_elastic.output.elastic_matrices.sem"
   ]
  },
  {
   "cell_type": "code",
   "execution_count": 11,
   "metadata": {},
   "outputs": [],
   "source": [
    "sqs_elastic_loaded = pr.load(sqs_elastic.job_name)"
   ]
  },
  {
   "cell_type": "code",
   "execution_count": 12,
   "metadata": {},
   "outputs": [
    {
     "data": {
      "text/plain": [
       "array([[ 1.68900612e+02,  1.23595155e+02,  1.23596664e+02,\n",
       "        -2.96052232e-03,  1.51519145e-02,  2.29060518e-02],\n",
       "       [ 1.23595155e+02,  1.68872305e+02,  2.00401475e+02,\n",
       "         1.50627883e-02, -2.93155130e-03,  3.29343380e-02],\n",
       "       [ 1.23596664e+02,  2.00401475e+02,  1.68872168e+02,\n",
       "         1.50740520e-02,  1.51182121e-02, -1.35957090e-03],\n",
       "       [-2.96052232e-03,  1.50627883e-02,  1.50740520e-02,\n",
       "         7.68189628e+01, -7.97102472e-03, -3.99072217e-03],\n",
       "       [ 1.51519145e-02, -2.93155130e-03,  1.51182121e-02,\n",
       "        -7.97102472e-03,  7.68189046e+01, -3.98610296e-03],\n",
       "       [ 2.29060518e-02,  3.29343380e-02, -1.35957090e-03,\n",
       "        -3.99072217e-03, -3.98610296e-03,  7.68189409e+01]])"
      ]
     },
     "execution_count": 12,
     "metadata": {},
     "output_type": "execute_result"
    }
   ],
   "source": [
    "sqs_elastic_loaded.output.elastic_matrices.mean"
   ]
  },
  {
   "cell_type": "code",
   "execution_count": 13,
   "metadata": {},
   "outputs": [
    {
     "name": "stderr",
     "output_type": "stream",
     "text": [
      "/opt/conda/lib/python3.8/site-packages/pyiron_base/generic/inputlist.py:287: VisibleDeprecationWarning: Creating an ndarray from ragged nested sequences (which is a list-or-tuple of lists-or-tuples-or ndarrays with different lengths or shapes) is deprecated. If you meant to do this, you must specify 'dtype=object' when creating the ndarray\n",
      "  return np.array(self._store)\n"
     ]
    },
    {
     "data": {
      "text/plain": [
       "[array([[-2.14892552e-06, -1.35561960e-05, -2.45638657e-07],\n",
       "       [-1.35561960e-05,  8.36779563e-06, -3.35861931e-06],\n",
       "       [-2.45638657e-07, -3.35861931e-06, -5.30382949e-06]])\n",
       " array([[-8.48217229e-06, -6.53610757e-06,  6.53610757e-06],\n",
       "       [-6.53610757e-06,  4.74977618e-06, -1.37995977e-06],\n",
       "       [ 6.53610757e-06, -1.37995977e-06,  4.74977618e-06]])\n",
       " None None None]"
      ]
     },
     "execution_count": 13,
     "metadata": {},
     "output_type": "execute_result"
    }
   ],
   "source": [
    "sqs_elastic_loaded.output.residual_pressures"
   ]
  },
  {
   "cell_type": "code",
   "execution_count": 14,
   "metadata": {},
   "outputs": [
    {
     "name": "stderr",
     "output_type": "stream",
     "text": [
      "/opt/conda/lib/python3.8/site-packages/pyiron_base/generic/inputlist.py:323: UserWarning: The input in InputList changed, while the state of the job was already finished.\n",
      "  warnings.warn(\n",
      "2020-11-03 22:53:17,670 - pyiron_log - WARNING - The job scan is being loaded instead of running. To re-run use the argument 'delete_existing_job=True in create_job'\n"
     ]
    }
   ],
   "source": [
    "sqs_elastic_ref = pr.create_job(pr.job_type.SQSElasticConstants, 'se')\n",
    "sqs_elastic_ref.ref_ham = lammps\n",
    "sqs_elastic_ref.ref_sqs = sqs\n",
    "sqs_elastic_ref.ref_elastic = elastic\n",
    "\n",
    "job = sqs_elastic_ref.create_job(pr.job_type.SQSElasticConstantsList, 'scan')\n",
    "job.input.compositions = [\n",
    "    {'Cu': 1., 'Ni': 0.},\n",
    "    {'Cu': 0.95, 'Ni': 0.05},\n",
    "    {'Cu': 0.90, 'Ni': 0.10},\n",
    "    {'Cu': 0.85, 'Ni': 0.15},\n",
    "    {'Cu': 0.80, 'Ni': 0.20},\n",
    "    {'Cu': 0.70, 'Ni': 0.30},\n",
    "    {'Cu': 0.60, 'Ni': 0.40},\n",
    "    {'Cu': 0.50, 'Ni': 0.50},\n",
    "    {'Cu': 0.40, 'Ni': 0.60},\n",
    "    {'Cu': 0.30, 'Ni': 0.70},\n",
    "    {'Cu': 0.20, 'Ni': 0.80},\n",
    "    {'Cu': 0.10, 'Ni': 0.90},\n",
    "    {'Cu': 0., 'Ni': 1.}\n",
    "]\n",
    "job.run()"
   ]
  },
  {
   "cell_type": "code",
   "execution_count": 15,
   "metadata": {},
   "outputs": [],
   "source": [
    "loaded = pr.load(job.job_name)"
   ]
  },
  {
   "cell_type": "code",
   "execution_count": 16,
   "metadata": {},
   "outputs": [
    {
     "data": {
      "text/plain": [
       "<AxesSubplot:xlabel='Ni Atomic fraction', ylabel='Elastic constants (GPa)'>"
      ]
     },
     "execution_count": 16,
     "metadata": {},
     "output_type": "execute_result"
    },
    {
     "data": {
      "image/png": "[encoded data removed]",
      "text/plain": [
       "<Figure size 432x288 with 1 Axes>"
      ]
     },
     "metadata": {
      "needs_background": "light"
     },
     "output_type": "display_data"
    }
   ],
   "source": [
    "loaded.plot('Ni')"
   ]
  },
  {
   "cell_type": "code",
   "execution_count": 17,
   "metadata": {},
   "outputs": [
    {
     "name": "stdout",
     "output_type": "stream",
     "text": [
      "/home/pyiron_user/pyiron/projects/from_liam/newComposition\n"
     ]
    }
   ],
   "source": [
    "import os\n",
    "cwd = os.getcwd()\n",
    "print(cwd)\n",
    "os.chdir(cwd)"
   ]
  },
  {
   "cell_type": "code",
   "execution_count": 18,
   "metadata": {},
   "outputs": [],
   "source": [
    "concentrations=[0.2,0.6,1.0]"
   ]
  },
  {
   "cell_type": "code",
   "execution_count": 24,
   "metadata": {},
   "outputs": [
    {
     "name": "stdout",
     "output_type": "stream",
     "text": [
      "/home/pyiron_user/pyiron/projects/from_liam/newComposition/Ni-20\n",
      "moduli: 173.71850375345454, 124.98294717254554, 83.41454597757046\n",
      "Ni-20\n",
      "simulation 0 done\n",
      "/home/pyiron_user/pyiron/projects/from_liam/newComposition/Ni-60\n",
      "moduli: 193.5127538778634, 131.42867768811908, 103.4621448611117\n",
      "Ni-60\n",
      "simulation 1 done\n",
      "/home/pyiron_user/pyiron/projects/from_liam/newComposition/Ni-100\n",
      "moduli: 233.58918421892918, 152.31282855048707, 132.38982822960776\n",
      "Ni-100\n",
      "simulation 2 done\n"
     ]
    }
   ],
   "source": [
    "from damask import Geom\n",
    "from damask import seeds\n",
    "#import numpy as np\n",
    "import subprocess,shlex\n",
    "import os\n",
    "import damask\n",
    "from simulation_runner import simulation\n",
    "simulation_folder =[]\n",
    "job_file = []\n",
    "grid = np.array([16,16,16])\n",
    "size = np.array([1.0,1.0,1.0])\n",
    "grains = 20\n",
    "seeds = seeds.from_random(size,grains)\n",
    "for i,c in enumerate(concentrations):\n",
    "    os.chdir(cwd)\n",
    "    simulation_folder.append('Ni-{}'.format(int(c*100)))\n",
    "    os.system('mkdir {}'.format(simulation_folder[i]))\n",
    "    os.system('cp Examples/material.yaml {}'.format(simulation_folder[i]))\n",
    "    os.system('cp Examples/tensionX.load {}/tension_Ni{}.load'.format(simulation_folder[i],int(c*100)))\n",
    "    path = cwd+'/'+simulation_folder[i];\n",
    "    print(path)\n",
    "    C11 = float(loaded.get_C11_poly('Ni')(c))\n",
    "    C12 = float(loaded.get_C12_poly('Ni')(c))\n",
    "    C44 = float(loaded.get_C44_poly('Ni')(c))\n",
    "    print(\"moduli: {}, {}, {}\".format(C11,C12,C44))\n",
    "    print(simulation_folder[i])\n",
    "    #os.chdir(simulation_folder[i])\n",
    "    os.chdir(path)\n",
    "#    os.system('rm *.hdf5')\n",
    "    load = 'tension_Ni{}.load'.format(int(c*100))\n",
    "    geom_name = 'test.geom'\n",
    "    material_config = 'material.yaml'\n",
    "    job_file.append('{}_{}.hdf5'.format(geom_name.split('.')[0],load.split('.')[0]))\n",
    "    new_geom = Geom.from_Voronoi_tessellation(grid,size,seeds)\n",
    "    new_geom.save_ASCII(geom_name)\n",
    "    new_geom.save(geom_name.split('.')[0])\n",
    "    C_matrix = [C11*1e9,C12*1e9,C44*1e9]\n",
    "    elasticity={}\n",
    "    elasticity.update({'type': 'hooke'})\n",
    "    elastic_constants = {'C_11': C_matrix[0], 'C_12': C_matrix[1], 'C_44': C_matrix[2]}\n",
    "    elasticity.update(elastic_constants)\n",
    "    mat = damask.Config.load(material_config)\n",
    "    mat['phase']['Aluminum']['elasticity'] = elasticity\n",
    "    mat.save(material_config)\n",
    "    simulation.run(simulation_folder[i],geom_name,load)\n",
    "    print('simulation {} done'.format(str(i)))"
   ]
  },
  {
   "cell_type": "code",
   "execution_count": 25,
   "metadata": {},
   "outputs": [
    {
     "name": "stderr",
     "output_type": "stream",
     "text": [
      " ██████████████████████████████████████████████████ 100% ETA 0:00:00\n",
      " ██████████████████████████████████████████████████ 100% ETA 0:00:00\n",
      " ██████████████████████████████████████████████████ 100% ETA 0:00:00\n",
      " ██████████████████████████████████████████████████ 100% ETA 0:00:00\n",
      " ██████████████████████████████████████████████████ 100% ETA 0:00:00\n",
      " ██████████████████████████████████████████████████ 100% ETA 0:00:00\n",
      " ██████████████████████████████████████████████████ 100% ETA 0:00:00\n",
      "/home/pyiron_user/pyiron/projects/from_liam/newComposition/damask_eval.py:19: H5pyDeprecationWarning: The default file mode will change to 'r' (read-only) in h5py 3.0. To suppress this warning, pass the mode you need to h5py.File(), or set the global default h5.get_config().default_file_mode, or set the environment variable H5PY_DEFAULT_READONLY=1. Available modes are: 'r', 'r+', 'w', 'w-'/'x', 'a'. See the docs for details.\n",
      "  hdf = h5py.File(d.fname)\n",
      "/home/pyiron_user/pyiron/projects/from_liam/newComposition/damask_eval.py:37: H5pyDeprecationWarning: The default file mode will change to 'r' (read-only) in h5py 3.0. To suppress this warning, pass the mode you need to h5py.File(), or set the global default h5.get_config().default_file_mode, or set the environment variable H5PY_DEFAULT_READONLY=1. Available modes are: 'r', 'r+', 'w', 'w-'/'x', 'a'. See the docs for details.\n",
      "  hdf = h5py.File(d.fname)\n",
      " ██████████████████████████████████████████████████ 100% ETA 0:00:00\n",
      " ██████████████████████████████████████████████████ 100% ETA 0:00:00\n",
      " ██████████████████████████████████████████████████ 100% ETA 0:00:00\n",
      " ██████████████████████████████████████████████████ 100% ETA 0:00:00\n",
      " ██████████████████████████████████████████████████ 100% ETA 0:00:00\n",
      " ██████████████████████████████████████████████████ 100% ETA 0:00:00\n",
      " ██████████████████████████████████████████████████ 100% ETA 0:00:00\n",
      " ██████████████████████████████████████████████████ 100% ETA 0:00:00\n",
      " ██████████████████████████████████████████████████ 100% ETA 0:00:00\n",
      " ██████████████████████████████████████████████████ 100% ETA 0:00:00\n",
      " ██████████████████████████████████████████████████ 100% ETA 0:00:00\n",
      " ██████████████████████████████████████████████████ 100% ETA 0:00:00\n",
      " ██████████████████████████████████████████████████ 100% ETA 0:00:00\n",
      " ██████████████████████████████████████████████████ 100% ETA 0:00:00\n"
     ]
    }
   ],
   "source": [
    "os.chdir(cwd)\n",
    "import damask\n",
    "import matplotlib as mpl\n",
    "mpl.use('Agg')\n",
    "import matplotlib.pyplot as PyPlot\n",
    "import numpy as np\n",
    "import h5py\n",
    "#from Plot_stress_strain import plot\n",
    "from damask_eval import eval_stress , eval_strain\n",
    "%matplotlib inline\n",
    "d = []\n",
    "stresses = []\n",
    "strains = []\n",
    "#os.chdir(cwd)\n",
    "for i,c in enumerate(concentrations):\n",
    "    path = cwd+'/'+simulation_folder[i];\n",
    "    os.chdir(path)\n",
    "    #os.chdir(simulation_folder[i])\n",
    "    d.append(damask.Result(job_file[i]))                  \n",
    "    d[i].add_Cauchy()\n",
    "    d[i].add_strain_tensor()\n",
    "    d[i].add_Mises('sigma')\n",
    "    d[i].add_Mises('epsilon_V^0.0(F)')\n",
    "    d[i].add_calculation('avg_sigma',\"np.average(#sigma_vM#)\")\n",
    "    d[i].add_calculation('avg_epsilon',\"np.average(#epsilon_V^0.0(F)_vM#)\")\n",
    "    d[i].save_vtk(['sigma','epsilon_V^0.0(F)','sigma_vM','epsilon_V^0.0(F)_vM'])\n",
    "    stresses.append(eval_stress(job_file[i]))\n",
    "    strains.append(eval_strain(job_file[i]))"
   ]
  },
  {
   "cell_type": "code",
   "execution_count": 37,
   "metadata": {},
   "outputs": [
    {
     "data": {
      "text/plain": [
       "Text(0.5, 1.0, 'Stress-Strain')"
      ]
     },
     "execution_count": 37,
     "metadata": {},
     "output_type": "execute_result"
    },
    {
     "data": {
      "image/png": "[encoded data removed]",
      "text/plain": [
       "<Figure size 432x288 with 1 Axes>"
      ]
     },
     "metadata": {
      "needs_background": "light"
     },
     "output_type": "display_data"
    }
   ],
   "source": [
    "import matplotlib.pyplot as plt\n",
    "i = 0;\n",
    "#stresses[0]= eval_stress(job_file[0])\n",
    "#stresses[1]= eval_stress(job_file[1])\n",
    "#stresses[2]= eval_stress(job_file[2])\n",
    "colors = ['r','g','b']\n",
    "#for color, strain, stress, c in zip(colors, strains, stresses, concentrations):\n",
    "plt.plot(strains[0], stresses[0], 'r', linewidth=1, label = 'Ni={}%'.format(0.2*100))\n",
    "plt.plot(strains[1], stresses[1], 'b', linestyle=\"None\",marker = 'o' ,markersize = 10,label = 'Ni={}%'.format(0.6*100))\n",
    "plt.plot(strains[2], stresses[2], 'g', linestyle=\"None\",marker = '*', markersize = 8 ,label = 'Ni={}%'.format(1*100))\n",
    "plt.xlim(-0.001, 0.0015)\n",
    "plt.grid(True)\n",
    "plt.xlabel('$Strain$')\n",
    "plt.ylabel('Stress- MPa')\n",
    "plt.legend( loc='lower right')\n",
    "plt.title(\"Stress-Strain\")"
   ]
  },
  {
   "cell_type": "code",
   "execution_count": null,
   "metadata": {},
   "outputs": [],
   "source": []
  }
 ],
 "metadata": {
  "kernelspec": {
   "display_name": "Python 3",
   "language": "python",
   "name": "python3"
  },
  "language_info": {
   "codemirror_mode": {
    "name": "ipython",
    "version": 3
   },
   "file_extension": ".py",
   "mimetype": "text/x-python",
   "name": "python",
   "nbconvert_exporter": "python",
   "pygments_lexer": "ipython3",
   "version": "3.8.3"
  }
 },
 "nbformat": 4,
 "nbformat_minor": 4
}
