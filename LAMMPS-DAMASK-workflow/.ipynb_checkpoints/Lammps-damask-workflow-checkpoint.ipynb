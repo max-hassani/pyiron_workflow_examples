{
 "cells": [
  {
   "cell_type": "markdown",
   "metadata": {},
   "source": [
    "# SQS elastic constants\n",
    "\n",
    "This notebook demonstrates the functionality of job classes designed to calculate chemistry-dependent elastic data by averaging over one or more special-quasirandom structures."
   ]
  },
  {
   "cell_type": "markdown",
   "metadata": {},
   "source": [
    "The whole workflow for the notebook can be summarized as below:\n",
    "<img src=\"Whole_workflow.png\" />\n",
    "\n",
    "The LAMMPS workflow can be described further as:\n",
    "<img src=\"Lammps_workflow.png\" />"
   ]
  },
  {
   "cell_type": "code",
   "execution_count": 1,
   "metadata": {},
   "outputs": [],
   "source": [
    "from pyiron import Project\n",
    "import pyiron_contrib\n",
    "from elastic import ElasticMatrixJob\n",
    "import numpy as np\n",
    "import matplotlib.pyplot as plt\n",
    "import seaborn as sns\n",
    "sns.set_context('talk')"
   ]
  },
  {
   "cell_type": "code",
   "execution_count": 2,
   "metadata": {},
   "outputs": [],
   "source": [
    "pr = Project('scratch2')\n",
    "#pr.remove_jobs(recursive=True)"
   ]
  },
  {
   "cell_type": "markdown",
   "metadata": {},
   "source": [
    "# Setup reference jobs\n",
    "\n",
    "The input to these SQS elastic job classes is quite minimal, rather run parameters are passed in in the form of reference jobs.\n",
    "\n",
    "Of special importance are the `SQSJob` type reference, which handles the generation of special quasirandom structures, and `ElasticMatrixJob`, which computes the elastic constants. Thankfully, these jobs already existed, so the development of the new SQS elastic jobs was just a matter of stringing them together. \n",
    "\n",
    "An advantage of this setup is that any new improvements to the functionality of these underlying jobs is included in the SQS elastic jobs without having to modify SQS elastic code specifically, since they appear simply as references. However, the flip side of the coin is that the functionality of these jobs was not exhaustively tested. Results are very reasonable for the FCC Al system tested, but keep your physicist hat on when running the code and ensure that your results are coming out sensibly.\n",
    "\n",
    "The final and most basic reference is the model which will interpret atomic positions to produce forces and energies. Here we'll use Lammps, but, if you have a lot of processor power lying around, there should be no barrier to using a quantum mechanical code like Vasp instead.\n",
    "\n",
    "Here, we'll scale a lot of the input parameters way back so the calculations run faster."
   ]
  },
  {
   "cell_type": "code",
   "execution_count": 3,
   "metadata": {},
   "outputs": [],
   "source": [
    "lammps = pr.create_job(pr.job_type.Lammps, 'hr')\n",
    "lammps.structure = pr.create_ase_bulk('Cu', cubic=True).repeat(5)\n",
    "lammps.structure[:3] = 'Ni'"
   ]
  },
  {
   "cell_type": "code",
   "execution_count": 4,
   "metadata": {},
   "outputs": [
    {
     "data": {
      "text/plain": [
       "['FeCuNi_eam_alloy',\n",
       " '1985--Foiles-S-M--Ni-Cu--LAMMPS--ipr1',\n",
       " '2009--Bonny-G--Fe-Cu-Ni--LAMMPS--ipr1',\n",
       " '1985--Foiles-S-M--Ni-Cu--LAMMPS--ipr1',\n",
       " '2009--Bonny-G--Fe-Cu-Ni--LAMMPS--ipr1',\n",
       " '2013--Onat-B--Cu-Ni--LAMMPS--ipr2',\n",
       " '2018--Farkas-D--Fe-Ni-Cr-Co-Cu--LAMMPS--ipr1',\n",
       " '2013--Onat-B--Cu-Ni--LAMMPS--ipr1',\n",
       " '2018--Farkas-D--Fe-Ni-Cr-Co-Cu--LAMMPS--ipr2',\n",
       " '1989--Adams-J-B--Ag-Au-Cu-Ni-Pd-Pt--LAMMPS--ipr1',\n",
       " '1986--Foiles-S-M--Ag-Au-Cu-Ni-Pd-Pt--LAMMPS--ipr1',\n",
       " 'EAM_Dynamo_BonnyPasianotCastin_2009_FeCuNi__MO_469343973171_005',\n",
       " 'EAM_Dynamo_OnatDurukanoglu_2014_CuNi__MO_592013496703_005',\n",
       " 'EMT_Asap_Standard_JacobsenStoltzeNorskov_1996_AlAgAuCuNiPdPt__MO_115316750986_001']"
      ]
     },
     "execution_count": 4,
     "metadata": {},
     "output_type": "execute_result"
    }
   ],
   "source": [
    "lammps.list_potentials()"
   ]
  },
  {
   "cell_type": "code",
   "execution_count": 5,
   "metadata": {},
   "outputs": [
    {
     "data": {
      "text/html": [
       "<div>\n",
       "<style scoped>\n",
       "    .dataframe tbody tr th:only-of-type {\n",
       "        vertical-align: middle;\n",
       "    }\n",
       "\n",
       "    .dataframe tbody tr th {\n",
       "        vertical-align: top;\n",
       "    }\n",
       "\n",
       "    .dataframe thead th {\n",
       "        text-align: right;\n",
       "    }\n",
       "</style>\n",
       "<table border=\"1\" class=\"dataframe\">\n",
       "  <thead>\n",
       "    <tr style=\"text-align: right;\">\n",
       "      <th></th>\n",
       "      <th>Config</th>\n",
       "      <th>Filename</th>\n",
       "      <th>Model</th>\n",
       "      <th>Name</th>\n",
       "      <th>Species</th>\n",
       "    </tr>\n",
       "  </thead>\n",
       "  <tbody>\n",
       "    <tr>\n",
       "      <th>170</th>\n",
       "      <td>[pair_style eam\\n, pair_coeff 1 1 Cu_smf7.eam\\...</td>\n",
       "      <td>[NISTiprpy/1985--Foiles-S-M--Ni-Cu--LAMMPS--ip...</td>\n",
       "      <td>NISTiprpy</td>\n",
       "      <td>1985--Foiles-S-M--Ni-Cu--LAMMPS--ipr1</td>\n",
       "      <td>[Cu, Ni]</td>\n",
       "    </tr>\n",
       "    <tr>\n",
       "      <th>385</th>\n",
       "      <td>[pair_style eam\\n, pair_coeff 1 1 Cu_smf7.eam\\...</td>\n",
       "      <td>[NISTiprpy/1985--Foiles-S-M--Ni-Cu--LAMMPS--ip...</td>\n",
       "      <td>NISTiprpy</td>\n",
       "      <td>1985--Foiles-S-M--Ni-Cu--LAMMPS--ipr1</td>\n",
       "      <td>[Cu, Ni]</td>\n",
       "    </tr>\n",
       "  </tbody>\n",
       "</table>\n",
       "</div>"
      ],
      "text/plain": [
       "                                                Config  \\\n",
       "170  [pair_style eam\\n, pair_coeff 1 1 Cu_smf7.eam\\...   \n",
       "385  [pair_style eam\\n, pair_coeff 1 1 Cu_smf7.eam\\...   \n",
       "\n",
       "                                              Filename      Model  \\\n",
       "170  [NISTiprpy/1985--Foiles-S-M--Ni-Cu--LAMMPS--ip...  NISTiprpy   \n",
       "385  [NISTiprpy/1985--Foiles-S-M--Ni-Cu--LAMMPS--ip...  NISTiprpy   \n",
       "\n",
       "                                      Name   Species  \n",
       "170  1985--Foiles-S-M--Ni-Cu--LAMMPS--ipr1  [Cu, Ni]  \n",
       "385  1985--Foiles-S-M--Ni-Cu--LAMMPS--ipr1  [Cu, Ni]  "
      ]
     },
     "execution_count": 5,
     "metadata": {},
     "output_type": "execute_result"
    }
   ],
   "source": [
    "lammps.potential = lammps.list_potentials()[1]\n",
    "lammps.potential"
   ]
  },
  {
   "cell_type": "code",
   "execution_count": 6,
   "metadata": {},
   "outputs": [],
   "source": [
    "sqs = pr.create_job(pr.job_type.SQSJob, 'sr')\n",
    "sqs.input.iterations = 100\n",
    "sqs.input.weights = None\n",
    "sqs.input.n_output_structures = 2 "
   ]
  },
  {
   "cell_type": "code",
   "execution_count": 7,
   "metadata": {},
   "outputs": [],
   "source": [
    "elastic = pr.create_job(ElasticMatrixJob, 'er')\n",
    "elastic.input['num_of_points'] = 3\n",
    "elastic.input['fit_order'] = 2\n",
    "elastic.input['eps_range'] = 0.005\n",
    "elastic.input['relax_atoms'] = False\n",
    "elastic.input['sqrt_eta'] = False"
   ]
  },
  {
   "cell_type": "markdown",
   "metadata": {},
   "source": [
    "# Option 2: Scan various compositions\n",
    "\n",
    "Alternatively, we might want to look for chemical trends across multiple different compositions. This is also possible. "
   ]
  },
  {
   "cell_type": "code",
   "execution_count": 8,
   "metadata": {},
   "outputs": [
    {
     "name": "stderr",
     "output_type": "stream",
     "text": [
      "/opt/conda/lib/python3.8/site-packages/pyiron_base/generic/inputlist.py:323: UserWarning: The input in InputList changed, while the state of the job was already finished.\n",
      "  warnings.warn(\n",
      "2020-11-13 08:18:51,425 - pyiron_log - WARNING - The job scan is being loaded instead of running. To re-run use the argument 'delete_existing_job=True in create_job'\n"
     ]
    }
   ],
   "source": [
    "sqs_elastic_ref = pr.create_job(pr.job_type.SQSElasticConstants, 'se')\n",
    "sqs_elastic_ref.ref_ham = lammps\n",
    "sqs_elastic_ref.ref_sqs = sqs\n",
    "sqs_elastic_ref.ref_elastic = elastic\n",
    "\n",
    "job = sqs_elastic_ref.create_job(pr.job_type.SQSElasticConstantsList, 'scan')\n",
    "job.input.compositions = [\n",
    "    {'Cu': 1., 'Ni': 0.},\n",
    "    {'Cu': 0.95, 'Ni': 0.05},\n",
    "    {'Cu': 0.90, 'Ni': 0.10},\n",
    "    {'Cu': 0.85, 'Ni': 0.15},\n",
    "    {'Cu': 0.80, 'Ni': 0.20},\n",
    "    {'Cu': 0.70, 'Ni': 0.30},\n",
    "    {'Cu': 0.60, 'Ni': 0.40},\n",
    "    {'Cu': 0.50, 'Ni': 0.50},\n",
    "    {'Cu': 0.40, 'Ni': 0.60},\n",
    "    {'Cu': 0.30, 'Ni': 0.70},\n",
    "    {'Cu': 0.20, 'Ni': 0.80},\n",
    "    {'Cu': 0.10, 'Ni': 0.90},\n",
    "    {'Cu': 0., 'Ni': 1.}\n",
    "]\n",
    "job.run()"
   ]
  },
  {
   "cell_type": "code",
   "execution_count": 9,
   "metadata": {},
   "outputs": [],
   "source": [
    "loaded = pr.load(job.job_name)"
   ]
  },
  {
   "cell_type": "code",
   "execution_count": 10,
   "metadata": {},
   "outputs": [
    {
     "data": {
      "text/plain": [
       "<AxesSubplot:xlabel='Ni Atomic fraction', ylabel='Elastic constants (GPa)'>"
      ]
     },
     "execution_count": 10,
     "metadata": {},
     "output_type": "execute_result"
    },
    {
     "data": {
      "image/png": "[encoded data removed]",
      "text/plain": [
       "<Figure size 432x288 with 1 Axes>"
      ]
     },
     "metadata": {
      "needs_background": "light"
     },
     "output_type": "display_data"
    }
   ],
   "source": [
    "loaded.plot('Ni')"
   ]
  },
  {
   "cell_type": "markdown",
   "metadata": {},
   "source": [
    "## DAMASK simulations\n",
    "Here, we use the above fits to the data from lammps MD simulation to find the elastic constansts for a selected set of Ni concentrations. Then these values are given to DAMASK simulations to obtain the macroscopic elasto-plastic response.    "
   ]
  },
  {
   "cell_type": "markdown",
   "metadata": {},
   "source": [
    "DAMASK workflow can be summarized in this form:\n",
    "<img src=\"DAMASK_workflow.png\" />"
   ]
  },
  {
   "cell_type": "code",
   "execution_count": null,
   "metadata": {},
   "outputs": [],
   "source": [
    "import os\n",
    "cwd = os.getcwd()\n",
    "print(cwd)\n",
    "os.chdir(cwd)"
   ]
  },
  {
   "cell_type": "code",
   "execution_count": 12,
   "metadata": {},
   "outputs": [],
   "source": [
    "concentrations=[0.0001,0.2,0.6,0.9999]"
   ]
  },
  {
   "cell_type": "code",
   "execution_count": null,
   "metadata": {},
   "outputs": [
    {
     "name": "stdout",
     "output_type": "stream",
     "text": [
      "/home/pyiron_user/pyiron/projects/pyiron_workflow_examples/LAMMPS-DAMASK-workflow/Ni-0\n",
      "moduli: 171.39168441183762, 127.11482525692875, 76.6857446179937\n",
      "Ni-0\n",
      "simulation 0 done\n",
      "/home/pyiron_user/pyiron/projects/pyiron_workflow_examples/LAMMPS-DAMASK-workflow/Ni-20\n",
      "moduli: 173.77210230769833, 125.13439910987282, 83.43609635853247\n",
      "Ni-20\n",
      "simulation 1 done\n",
      "/home/pyiron_user/pyiron/projects/pyiron_workflow_examples/LAMMPS-DAMASK-workflow/Ni-60\n",
      "moduli: 193.31169204399694, 131.55594337503655, 103.53386597830276\n",
      "Ni-60\n",
      "simulation 2 done\n",
      "/home/pyiron_user/pyiron/projects/pyiron_workflow_examples/LAMMPS-DAMASK-workflow/Ni-99\n",
      "moduli: 232.5441220477391, 151.81883495812048, 132.41186369626678\n",
      "Ni-99\n"
     ]
    }
   ],
   "source": [
    "from damask import Geom\n",
    "from damask import seeds\n",
    "#import numpy as np\n",
    "import subprocess,shlex\n",
    "import os\n",
    "import damask\n",
    "from simulation_runner import simulation\n",
    "simulation_folder =[]\n",
    "job_file = []\n",
    "\n",
    "#-------------------------------------\n",
    "#GEOMETRY PARAMETERS\n",
    "grid = np.array([16,16,16])\n",
    "size = np.array([1.0,1.0,1.0])\n",
    "grains = 20\n",
    "seeds = seeds.from_random(size,grains)\n",
    "#-------------------------------------\n",
    "\n",
    "for i,c in enumerate(concentrations):\n",
    "    # create folders, copy data etc.\n",
    "    os.chdir(cwd)\n",
    "    simulation_folder.append('Ni-{}'.format(int(c*100)))\n",
    "    os.system('mkdir {}'.format(simulation_folder[i]))\n",
    "    os.system('cp Examples/material.yaml {}'.format(simulation_folder[i]))\n",
    "    os.system('cp Examples/tensionX.load {}/tension_Ni{}.load'.format(simulation_folder[i],int(c*100)))\n",
    "    path = cwd+'/'+simulation_folder[i];\n",
    "    print(path)\n",
    "    \n",
    "    #------------------------------------------------\n",
    "    # LAMMPS TO DAMASK Coupling\n",
    "    C11 = float(loaded.get_C11_poly('Ni')(c))\n",
    "    C12 = float(loaded.get_C12_poly('Ni')(c))\n",
    "    C44 = float(loaded.get_C44_poly('Ni')(c))\n",
    "    print(\"moduli: {}, {}, {}\".format(C11,C12,C44))\n",
    "    #------------------------------------------------\n",
    "    print(simulation_folder[i])\n",
    "    #os.chdir(simulation_folder[i])\n",
    "    os.chdir(path)\n",
    "    load = 'tension_Ni{}.load'.format(int(c*100))\n",
    "    geom_name = 'test.geom'\n",
    "    material_config = 'material.yaml'\n",
    "    job_file.append('{}_{}.hdf5'.format(geom_name.split('.')[0],load.split('.')[0]))\n",
    "    \n",
    "    #---------------------------------------------------------\n",
    "    # Create geometry from scratch\n",
    "    new_geom = Geom.from_Voronoi_tessellation(grid,size,seeds)\n",
    "    new_geom.save_ASCII(geom_name)            # text based file\n",
    "    new_geom.save(geom_name.split('.')[0])    # vtk file for visualization\n",
    "    #---------------------------------------------------------\n",
    "    \n",
    "    C_matrix = [C11*1e9,C12*1e9,C44*1e9]\n",
    "    elasticity={}\n",
    "    elasticity.update({'type': 'hooke'})\n",
    "    elastic_constants = {'C_11': C_matrix[0], 'C_12': C_matrix[1], 'C_44': C_matrix[2]}\n",
    "    elasticity.update(elastic_constants)\n",
    "    mat = damask.Config.load(material_config)\n",
    "    mat['phase']['Aluminum']['elasticity'] = elasticity\n",
    "    mat.save(material_config)\n",
    "    simulation.run(simulation_folder[i],geom_name,load)\n",
    "    print('simulation {} done'.format(str(i)))"
   ]
  },
  {
   "cell_type": "markdown",
   "metadata": {},
   "source": [
    "## post processing of DAMASK simulations\n",
    "Here, the data from damask simulations are post-process to obtain the list of strain, stress, and Von-Mises stress."
   ]
  },
  {
   "cell_type": "code",
   "execution_count": 18,
   "metadata": {},
   "outputs": [
    {
     "name": "stderr",
     "output_type": "stream",
     "text": [
      " █░░░░░░░░░░░░░░░░░░░░░░░░░░░░░░░░░░░░░░░░░░░░░░░░░   2% ETA 0:00:07"
     ]
    },
    {
     "name": "stdout",
     "output_type": "stream",
     "text": [
      "Could not add dataset: Unable to create link (name already exists).\n",
      "Could not add dataset: Unable to create link (name already exists).\n"
     ]
    },
    {
     "name": "stderr",
     "output_type": "stream",
     "text": [
      " ████░░░░░░░░░░░░░░░░░░░░░░░░░░░░░░░░░░░░░░░░░░░░░░   9% ETA 0:00:06"
     ]
    },
    {
     "name": "stdout",
     "output_type": "stream",
     "text": [
      "Could not add dataset: Unable to create link (name already exists).\n",
      "Could not add dataset: Unable to create link (name already exists).\n",
      "Could not add dataset: Unable to create link (name already exists).\n",
      "Could not add dataset: Unable to create link (name already exists).\n",
      "Could not add dataset: Unable to create link (name already exists).\n",
      "Could not add dataset: Unable to create link (name already exists).\n"
     ]
    },
    {
     "name": "stderr",
     "output_type": "stream",
     "text": [
      " ██████████████████████████████████████████████████ 100% ETA 0:00:00\n"
     ]
    },
    {
     "name": "stdout",
     "output_type": "stream",
     "text": [
      "Could not add dataset: Unable to create link (name already exists).\n",
      "Could not add dataset: Unable to create link (name already exists).\n",
      "Could not add dataset: Unable to create link (name already exists).\n",
      "Could not add dataset: Unable to create link (name already exists).\n",
      "Could not add dataset: Unable to create link (name already exists).\n",
      "Could not add dataset: Unable to create link (name already exists).\n",
      "Could not add dataset: Unable to create link (name already exists).\n",
      "Could not add dataset: Unable to create link (name already exists).\n",
      "Could not add dataset: Unable to create link (name already exists).\n",
      "Could not add dataset: Unable to create link (name already exists).\n",
      "Could not add dataset: Unable to create link (name already exists).\n",
      "Could not add dataset: Unable to create link (name already exists).\n",
      "Could not add dataset: Unable to create link (name already exists).\n",
      "Could not add dataset: Unable to create link (name already exists).\n",
      "Could not add dataset: Unable to create link (name already exists).\n",
      "Could not add dataset: Unable to create link (name already exists).\n",
      "Could not add dataset: Unable to create link (name already exists).\n",
      "Could not add dataset: Unable to create link (name already exists).\n",
      "Could not add dataset: Unable to create link (name already exists).\n",
      "Could not add dataset: Unable to create link (name already exists).\n",
      "Could not add dataset: Unable to create link (name already exists).\n",
      "Could not add dataset: Unable to create link (name already exists).\n",
      "Could not add dataset: Unable to create link (name already exists).\n",
      "Could not add dataset: Unable to create link (name already exists).\n",
      "Could not add dataset: Unable to create link (name already exists).\n",
      "Could not add dataset: Unable to create link (name already exists).\n",
      "Could not add dataset: Unable to create link (name already exists).\n",
      "Could not add dataset: Unable to create link (name already exists).\n",
      "Could not add dataset: Unable to create link (name already exists).\n",
      "Could not add dataset: Unable to create link (name already exists).\n",
      "Could not add dataset: Unable to create link (name already exists).\n",
      "Could not add dataset: Unable to create link (name already exists).\n",
      "Could not add dataset: Unable to create link (name already exists).\n",
      "Could not add dataset: Unable to create link (name already exists).\n",
      "Could not add dataset: Unable to create link (name already exists).\n",
      "Could not add dataset: Unable to create link (name already exists).\n",
      "Could not add dataset: Unable to create link (name already exists).\n",
      "Could not add dataset: Unable to create link (name already exists).\n",
      "Could not add dataset: Unable to create link (name already exists).\n",
      "Could not add dataset: Unable to create link (name already exists).\n",
      "Could not add dataset: Unable to create link (name already exists).\n",
      "Could not add dataset: Unable to create link (name already exists).\n",
      "Could not add dataset: Unable to create link (name already exists).\n",
      "Could not add dataset: Unable to create link (name already exists).\n",
      "Could not add dataset: Unable to create link (name already exists).\n",
      "Could not add dataset: Unable to create link (name already exists).\n",
      "Could not add dataset: Unable to create link (name already exists).\n",
      "Could not add dataset: Unable to create link (name already exists).\n",
      "Could not add dataset: Unable to create link (name already exists).\n",
      "Could not add dataset: Unable to create link (name already exists).\n",
      "Could not add dataset: Unable to create link (name already exists).\n",
      "Could not add dataset: Unable to create link (name already exists).\n",
      "Could not add dataset: Unable to create link (name already exists).\n",
      "Could not add dataset: Unable to create link (name already exists).\n",
      "Could not add dataset: Unable to create link (name already exists).\n",
      "Could not add dataset: Unable to create link (name already exists).\n",
      "Could not add dataset: Unable to create link (name already exists).\n",
      "Could not add dataset: Unable to create link (name already exists).\n",
      "Could not add dataset: Unable to create link (name already exists).\n",
      "Could not add dataset: Unable to create link (name already exists).\n",
      "Could not add dataset: Unable to create link (name already exists).\n",
      "Could not add dataset: Unable to create link (name already exists).\n",
      "Could not add dataset: Unable to create link (name already exists).\n",
      "Could not add dataset: Unable to create link (name already exists).\n",
      "Could not add dataset: Unable to create link (name already exists).\n",
      "Could not add dataset: Unable to create link (name already exists).\n",
      "Could not add dataset: Unable to create link (name already exists).\n",
      "Could not add dataset: Unable to create link (name already exists).\n",
      "Could not add dataset: Unable to create link (name already exists).\n",
      "Could not add dataset: Unable to create link (name already exists).\n",
      "Could not add dataset: Unable to create link (name already exists).\n",
      "Could not add dataset: Unable to create link (name already exists).\n",
      "Could not add dataset: Unable to create link (name already exists).\n"
     ]
    },
    {
     "name": "stderr",
     "output_type": "stream",
     "text": [
      " █░░░░░░░░░░░░░░░░░░░░░░░░░░░░░░░░░░░░░░░░░░░░░░░░░   2% ETA 0:00:15"
     ]
    },
    {
     "name": "stdout",
     "output_type": "stream",
     "text": [
      "Could not add dataset: Unable to create link (name already exists).\n",
      "Could not add dataset: Unable to create link (name already exists).\n"
     ]
    },
    {
     "name": "stderr",
     "output_type": "stream",
     "text": [
      " █████████░░░░░░░░░░░░░░░░░░░░░░░░░░░░░░░░░░░░░░░░░  19% ETA 0:00:03"
     ]
    },
    {
     "name": "stdout",
     "output_type": "stream",
     "text": [
      "Could not add dataset: Unable to create link (name already exists).\n",
      "Could not add dataset: Unable to create link (name already exists).\n",
      "Could not add dataset: Unable to create link (name already exists).\n",
      "Could not add dataset: Unable to create link (name already exists).\n",
      "Could not add dataset: Unable to create link (name already exists).\n",
      "Could not add dataset: Unable to create link (name already exists).\n",
      "Could not add dataset: Unable to create link (name already exists).\n",
      "Could not add dataset: Unable to create link (name already exists).\n",
      "Could not add dataset: Unable to create link (name already exists).\n",
      "Could not add dataset: Unable to create link (name already exists).\n",
      "Could not add dataset: Unable to create link (name already exists).\n",
      "Could not add dataset: Unable to create link (name already exists).\n",
      "Could not add dataset: Unable to create link (name already exists).\n",
      "Could not add dataset: Unable to create link (name already exists).\n",
      "Could not add dataset: Unable to create link (name already exists)."
     ]
    },
    {
     "name": "stderr",
     "output_type": "stream",
     "text": [
      " ██████████████████████████░░░░░░░░░░░░░░░░░░░░░░░░  53% ETA 0:00:00"
     ]
    },
    {
     "name": "stdout",
     "output_type": "stream",
     "text": [
      "\n",
      "Could not add dataset: Unable to create link (name already exists).\n",
      "Could not add dataset: Unable to create link (name already exists).\n",
      "Could not add dataset: Unable to create link (name already exists).\n",
      "Could not add dataset: Unable to create link (name already exists).\n",
      "Could not add dataset: Unable to create link (name already exists).\n",
      "Could not add dataset: Unable to create link (name already exists).\n",
      "Could not add dataset: Unable to create link (name already exists).\n",
      "Could not add dataset: Unable to create link (name already exists).\n",
      "Could not add dataset: Unable to create link (name already exists).\n",
      "Could not add dataset: Unable to create link (name already exists).\n",
      "Could not add dataset: Unable to create link (name already exists).\n",
      "Could not add dataset: Unable to create link (name already exists).\n",
      "Could not add dataset: Unable to create link (name already exists).\n",
      "Could not add dataset: Unable to create link (name already exists).\n",
      "Could not add dataset: Unable to create link (name already exists).\n",
      "Could not add dataset: Unable to create link (name already exists).\n",
      "Could not add dataset: Unable to create link (name already exists).\n",
      "Could not add dataset: Unable to create link (name already exists).\n",
      "Could not add dataset: Unable to create link (name already exists).\n",
      "Could not add dataset: Unable to create link (name already exists).\n",
      "Could not add dataset: Unable to create link (name already exists).\n",
      "Could not add dataset: Unable to create link (name already exists).\n",
      "Could not add dataset: Unable to create link (name already exists).\n",
      "Could not add dataset: Unable to create link (name already exists).\n",
      "Could not add dataset: Unable to create link (name already exists).\n",
      "Could not add dataset: Unable to create link (name already exists).\n",
      "Could not add dataset: Unable to create link (name already exists).\n"
     ]
    },
    {
     "name": "stderr",
     "output_type": "stream",
     "text": [
      " ██████████████████████████████████████████████████ 100% ETA 0:00:00\n"
     ]
    },
    {
     "name": "stdout",
     "output_type": "stream",
     "text": [
      "Could not add dataset: Unable to create link (name already exists).\n",
      "Could not add dataset: Unable to create link (name already exists).\n",
      "Could not add dataset: Unable to create link (name already exists).\n",
      "Could not add dataset: Unable to create link (name already exists).\n",
      "Could not add dataset: Unable to create link (name already exists).\n",
      "Could not add dataset: Unable to create link (name already exists).\n",
      "Could not add dataset: Unable to create link (name already exists).\n",
      "Could not add dataset: Unable to create link (name already exists).\n",
      "Could not add dataset: Unable to create link (name already exists).\n",
      "Could not add dataset: Unable to create link (name already exists).\n",
      "Could not add dataset: Unable to create link (name already exists).\n",
      "Could not add dataset: Unable to create link (name already exists).\n",
      "Could not add dataset: Unable to create link (name already exists).\n",
      "Could not add dataset: Unable to create link (name already exists).\n",
      "Could not add dataset: Unable to create link (name already exists).\n",
      "Could not add dataset: Unable to create link (name already exists).\n",
      "Could not add dataset: Unable to create link (name already exists).\n",
      "Could not add dataset: Unable to create link (name already exists).\n",
      "Could not add dataset: Unable to create link (name already exists).\n",
      "Could not add dataset: Unable to create link (name already exists).\n",
      "Could not add dataset: Unable to create link (name already exists).\n",
      "Could not add dataset: Unable to create link (name already exists).\n",
      "Could not add dataset: Unable to create link (name already exists).\n",
      "Could not add dataset: Unable to create link (name already exists).\n",
      "Could not add dataset: Unable to create link (name already exists).\n",
      "Could not add dataset: Unable to create link (name already exists).\n",
      "Could not add dataset: Unable to create link (name already exists).\n",
      "Could not add dataset: Unable to create link (name already exists).\n",
      "Could not add dataset: Unable to create link (name already exists).\n",
      "Could not add dataset: Unable to create link (name already exists).\n",
      "Could not add dataset: Unable to create link (name already exists).\n",
      "Could not add dataset: Unable to create link (name already exists).\n",
      "Could not add dataset: Unable to create link (name already exists).\n",
      "Could not add dataset: Unable to create link (name already exists).\n",
      "Could not add dataset: Unable to create link (name already exists).\n",
      "Could not add dataset: Unable to create link (name already exists).\n",
      "Could not add dataset: Unable to create link (name already exists).\n"
     ]
    },
    {
     "name": "stderr",
     "output_type": "stream",
     "text": [
      " █░░░░░░░░░░░░░░░░░░░░░░░░░░░░░░░░░░░░░░░░░░░░░░░░░   2% ETA 0:00:03"
     ]
    },
    {
     "name": "stdout",
     "output_type": "stream",
     "text": [
      "Could not add dataset: Unable to create link (name already exists).\n",
      "Could not add dataset: Unable to create link (name already exists).\n"
     ]
    },
    {
     "name": "stderr",
     "output_type": "stream",
     "text": [
      " ██████████░░░░░░░░░░░░░░░░░░░░░░░░░░░░░░░░░░░░░░░░  21% ETA 0:00:01"
     ]
    },
    {
     "name": "stdout",
     "output_type": "stream",
     "text": [
      "Could not add dataset: Unable to create link (name already exists).\n",
      "Could not add dataset: Unable to create link (name already exists).\n",
      "Could not add dataset: Unable to create link (name already exists).\n",
      "Could not add dataset: Unable to create link (name already exists).\n",
      "Could not add dataset: Unable to create link (name already exists).\n",
      "Could not add dataset: Unable to create link (name already exists).\n",
      "Could not add dataset: Unable to create link (name already exists).\n",
      "Could not add dataset: Unable to create link (name already exists).\n",
      "Could not add dataset: Unable to create link (name already exists).\n",
      "Could not add dataset: Unable to create link (name already exists).\n",
      "Could not add dataset: Unable to create link (name already exists).\n",
      "Could not add dataset: Unable to create link (name already exists).\n",
      "Could not add dataset: Unable to create link (name already exists).\n",
      "Could not add dataset: Unable to create link (name already exists).\n",
      "Could not add dataset: Unable to create link (name already exists).\n",
      "Could not add dataset: Unable to create link (name already exists).\n"
     ]
    },
    {
     "name": "stderr",
     "output_type": "stream",
     "text": [
      " ██████████████████████████████████████████████████ 100% ETA 0:00:00\n"
     ]
    },
    {
     "name": "stdout",
     "output_type": "stream",
     "text": [
      "Could not add dataset: Unable to create link (name already exists).\n",
      "Could not add dataset: Unable to create link (name already exists).\n",
      "Could not add dataset: Unable to create link (name already exists).\n",
      "Could not add dataset: Unable to create link (name already exists).\n",
      "Could not add dataset: Unable to create link (name already exists).\n",
      "Could not add dataset: Unable to create link (name already exists).\n",
      "Could not add dataset: Unable to create link (name already exists).\n",
      "Could not add dataset: Unable to create link (name already exists).\n",
      "Could not add dataset: Unable to create link (name already exists).\n",
      "Could not add dataset: Unable to create link (name already exists).\n",
      "Could not add dataset: Unable to create link (name already exists).\n",
      "Could not add dataset: Unable to create link (name already exists).\n",
      "Could not add dataset: Unable to create link (name already exists).\n",
      "Could not add dataset: Unable to create link (name already exists).\n",
      "Could not add dataset: Unable to create link (name already exists).\n",
      "Could not add dataset: Unable to create link (name already exists).\n",
      "Could not add dataset: Unable to create link (name already exists).\n",
      "Could not add dataset: Unable to create link (name already exists).\n",
      "Could not add dataset: Unable to create link (name already exists).\n",
      "Could not add dataset: Unable to create link (name already exists).\n",
      "Could not add dataset: Unable to create link (name already exists).\n",
      "Could not add dataset: Unable to create link (name already exists).\n",
      "Could not add dataset: Unable to create link (name already exists).\n",
      "Could not add dataset: Unable to create link (name already exists).\n",
      "Could not add dataset: Unable to create link (name already exists).\n",
      "Could not add dataset: Unable to create link (name already exists).\n",
      "Could not add dataset: Unable to create link (name already exists).\n",
      "Could not add dataset: Unable to create link (name already exists).\n",
      "Could not add dataset: Unable to create link (name already exists).\n",
      "Could not add dataset: Unable to create link (name already exists).\n",
      "Could not add dataset: Unable to create link (name already exists).\n",
      "Could not add dataset: Unable to create link (name already exists).\n",
      "Could not add dataset: Unable to create link (name already exists).\n",
      "Could not add dataset: Unable to create link (name already exists).\n",
      "Could not add dataset: Unable to create link (name already exists).\n",
      "Could not add dataset: Unable to create link (name already exists).\n",
      "Could not add dataset: Unable to create link (name already exists).\n",
      "Could not add dataset: Unable to create link (name already exists).\n",
      "Could not add dataset: Unable to create link (name already exists).\n",
      "Could not add dataset: Unable to create link (name already exists).\n",
      "Could not add dataset: Unable to create link (name already exists).\n",
      "Could not add dataset: Unable to create link (name already exists).\n",
      "Could not add dataset: Unable to create link (name already exists).\n",
      "Could not add dataset: Unable to create link (name already exists).\n",
      "Could not add dataset: Unable to create link (name already exists).\n",
      "Could not add dataset: Unable to create link (name already exists).\n",
      "Could not add dataset: Unable to create link (name already exists).\n",
      "Could not add dataset: Unable to create link (name already exists).\n",
      "Could not add dataset: Unable to create link (name already exists).\n",
      "Could not add dataset: Unable to create link (name already exists).\n",
      "Could not add dataset: Unable to create link (name already exists).\n",
      "Could not add dataset: Unable to create link (name already exists).\n",
      "Could not add dataset: Unable to create link (name already exists).\n",
      "Could not add dataset: Unable to create link (name already exists).\n",
      "Could not add dataset: Unable to create link (name already exists).\n",
      "Could not add dataset: Unable to create link (name already exists).\n",
      "Could not add dataset: Unable to create link (name already exists).\n",
      "Could not add dataset: Unable to create link (name already exists).\n",
      "Could not add dataset: Unable to create link (name already exists).\n",
      "Could not add dataset: Unable to create link (name already exists).\n",
      "Could not add dataset: Unable to create link (name already exists).\n",
      "Could not add dataset: Unable to create link (name already exists).\n",
      "Could not add dataset: Unable to create link (name already exists).\n"
     ]
    },
    {
     "name": "stderr",
     "output_type": "stream",
     "text": [
      " ░░░░░░░░░░░░░░░░░░░░░░░░░░░░░░░░░░░░░░░░░░░░░░░░░░   0% ETA n/a"
     ]
    },
    {
     "name": "stdout",
     "output_type": "stream",
     "text": [
      "Could not add dataset: Unable to create link (name already exists).\n"
     ]
    },
    {
     "name": "stderr",
     "output_type": "stream",
     "text": [
      " █████████░░░░░░░░░░░░░░░░░░░░░░░░░░░░░░░░░░░░░░░░░  19% ETA 0:00:02"
     ]
    },
    {
     "name": "stdout",
     "output_type": "stream",
     "text": [
      "Could not add dataset: Unable to create link (name already exists).\n",
      "Could not add dataset: Unable to create link (name already exists).\n",
      "Could not add dataset: Unable to create link (name already exists).\n",
      "Could not add dataset: Unable to create link (name already exists).\n",
      "Could not add dataset: Unable to create link (name already exists).\n",
      "Could not add dataset: Unable to create link (name already exists).\n",
      "Could not add dataset: Unable to create link (name already exists).\n",
      "Could not add dataset: Unable to create link (name already exists).\n",
      "Could not add dataset: Unable to create link (name already exists).\n",
      "Could not add dataset: Unable to create link (name already exists).\n",
      "Could not add dataset: Unable to create link (name already exists).\n",
      "Could not add dataset: Unable to create link (name already exists).\n",
      "Could not add dataset: Unable to create link (name already exists).\n",
      "Could not add dataset: Unable to create link (name already exists).\n"
     ]
    },
    {
     "name": "stderr",
     "output_type": "stream",
     "text": [
      " ██████████████████████████████████████████████████ 100% ETA 0:00:00\n"
     ]
    },
    {
     "name": "stdout",
     "output_type": "stream",
     "text": [
      "Could not add dataset: Unable to create link (name already exists).\n",
      "Could not add dataset: Unable to create link (name already exists).\n",
      "Could not add dataset: Unable to create link (name already exists).\n",
      "Could not add dataset: Unable to create link (name already exists).\n",
      "Could not add dataset: Unable to create link (name already exists).\n",
      "Could not add dataset: Unable to create link (name already exists).\n",
      "Could not add dataset: Unable to create link (name already exists).\n",
      "Could not add dataset: Unable to create link (name already exists).\n",
      "Could not add dataset: Unable to create link (name already exists).\n",
      "Could not add dataset: Unable to create link (name already exists).\n",
      "Could not add dataset: Unable to create link (name already exists).\n",
      "Could not add dataset: Unable to create link (name already exists).\n",
      "Could not add dataset: Unable to create link (name already exists).\n",
      "Could not add dataset: Unable to create link (name already exists).\n",
      "Could not add dataset: Unable to create link (name already exists).\n",
      "Could not add dataset: Unable to create link (name already exists).\n",
      "Could not add dataset: Unable to create link (name already exists).\n",
      "Could not add dataset: Unable to create link (name already exists).\n",
      "Could not add dataset: Unable to create link (name already exists).\n",
      "Could not add dataset: Unable to create link (name already exists).\n",
      "Could not add dataset: Unable to create link (name already exists).\n",
      "Could not add dataset: Unable to create link (name already exists).\n",
      "Could not add dataset: Unable to create link (name already exists).\n",
      "Could not add dataset: Unable to create link (name already exists).\n",
      "Could not add dataset: Unable to create link (name already exists).\n",
      "Could not add dataset: Unable to create link (name already exists).\n",
      "Could not add dataset: Unable to create link (name already exists).\n",
      "Could not add dataset: Unable to create link (name already exists).\n",
      "Could not add dataset: Unable to create link (name already exists).\n",
      "Could not add dataset: Unable to create link (name already exists).\n",
      "Could not add dataset: Unable to create link (name already exists).\n",
      "Could not add dataset: Unable to create link (name already exists).\n",
      "Could not add dataset: Unable to create link (name already exists).\n",
      "Could not add dataset: Unable to create link (name already exists).\n",
      "Could not add dataset: Unable to create link (name already exists).\n",
      "Could not add dataset: Unable to create link (name already exists).\n",
      "Could not add dataset: Unable to create link (name already exists).\n",
      "Could not add dataset: Unable to create link (name already exists).\n",
      "Could not add dataset: Unable to create link (name already exists).\n",
      "Could not add dataset: Unable to create link (name already exists).\n",
      "Could not add dataset: Unable to create link (name already exists).\n",
      "Could not add dataset: Unable to create link (name already exists).\n",
      "Could not add dataset: Unable to create link (name already exists).\n",
      "Could not add dataset: Unable to create link (name already exists).\n",
      "Could not add dataset: Unable to create link (name already exists).\n",
      "Could not add dataset: Unable to create link (name already exists).\n",
      "Could not add dataset: Unable to create link (name already exists).\n",
      "Could not add dataset: Unable to create link (name already exists).\n",
      "Could not add dataset: Unable to create link (name already exists).\n",
      "Could not add dataset: Unable to create link (name already exists).\n",
      "Could not add dataset: Unable to create link (name already exists).\n",
      "Could not add dataset: Unable to create link (name already exists).\n",
      "Could not add dataset: Unable to create link (name already exists).\n",
      "Could not add dataset: Unable to create link (name already exists).\n",
      "Could not add dataset: Unable to create link (name already exists).\n",
      "Could not add dataset: Unable to create link (name already exists).\n",
      "Could not add dataset: Unable to create link (name already exists).\n",
      "Could not add dataset: Unable to create link (name already exists).\n",
      "Could not add dataset: Unable to create link (name already exists).\n",
      "Could not add dataset: Unable to create link (name already exists).\n",
      "Could not add dataset: Unable to create link (name already exists).\n",
      "Could not add dataset: Unable to create link (name already exists).\n",
      "Could not add dataset: Unable to create link (name already exists).\n",
      "Could not add dataset: Unable to create link (name already exists).\n",
      "Could not add dataset: Unable to create link (name already exists).\n",
      "Could not add dataset: Unable to create link (name already exists).\n"
     ]
    },
    {
     "name": "stderr",
     "output_type": "stream",
     "text": [
      " ░░░░░░░░░░░░░░░░░░░░░░░░░░░░░░░░░░░░░░░░░░░░░░░░░░   0% ETA n/a"
     ]
    },
    {
     "name": "stdout",
     "output_type": "stream",
     "text": [
      "Could not add dataset: Unable to create link (name already exists).\n"
     ]
    },
    {
     "name": "stderr",
     "output_type": "stream",
     "text": [
      " ██████████████░░░░░░░░░░░░░░░░░░░░░░░░░░░░░░░░░░░░  28% ETA 0:00:01"
     ]
    },
    {
     "name": "stdout",
     "output_type": "stream",
     "text": [
      "Could not add dataset: Unable to create link (name already exists).\n",
      "Could not add dataset: Unable to create link (name already exists).\n",
      "Could not add dataset: Unable to create link (name already exists).\n",
      "Could not add dataset: Unable to create link (name already exists).\n",
      "Could not add dataset: Unable to create link (name already exists).\n",
      "Could not add dataset: Unable to create link (name already exists).\n",
      "Could not add dataset: Unable to create link (name already exists).\n",
      "Could not add dataset: Unable to create link (name already exists).\n",
      "Could not add dataset: Unable to create link (name already exists).\n",
      "Could not add dataset: Unable to create link (name already exists).\n",
      "Could not add dataset: Unable to create link (name already exists).\n",
      "Could not add dataset: Unable to create link (name already exists).\n",
      "Could not add dataset: Unable to create link (name already exists).\n",
      "Could not add dataset: Unable to create link (name already exists).\n",
      "Could not add dataset: Unable to create link (name already exists).\n",
      "Could not add dataset: Unable to create link (name already exists).\n",
      "Could not add dataset: Unable to create link (name already exists).\n",
      "Could not add dataset: Unable to create link (name already exists).\n",
      "Could not add dataset: Unable to create link (name already exists).\n",
      "Could not add dataset: Unable to create link (name already exists).\n",
      "Could not add dataset: Unable to create link (name already exists).\n",
      "Could not add dataset: Unable to create link (name already exists).\n",
      "Could not add dataset: Unable to create link (name already exists).\n"
     ]
    },
    {
     "name": "stderr",
     "output_type": "stream",
     "text": [
      " ██████████████████████████████████████████████████ 100% ETA 0:00:00\n"
     ]
    },
    {
     "name": "stdout",
     "output_type": "stream",
     "text": [
      "Could not add dataset: Unable to create link (name already exists).\n",
      "Could not add dataset: Unable to create link (name already exists).\n",
      "Could not add dataset: Unable to create link (name already exists).\n",
      "Could not add dataset: Unable to create link (name already exists).\n",
      "Could not add dataset: Unable to create link (name already exists).\n",
      "Could not add dataset: Unable to create link (name already exists).\n",
      "Could not add dataset: Unable to create link (name already exists).\n",
      "Could not add dataset: Unable to create link (name already exists).\n",
      "Could not add dataset: Unable to create link (name already exists).\n",
      "Could not add dataset: Unable to create link (name already exists).\n",
      "Could not add dataset: Unable to create link (name already exists).\n",
      "Could not add dataset: Unable to create link (name already exists).\n",
      "Could not add dataset: Unable to create link (name already exists).\n",
      "Could not add dataset: Unable to create link (name already exists).\n",
      "Could not add dataset: Unable to create link (name already exists).\n",
      "Could not add dataset: Unable to create link (name already exists).\n",
      "Could not add dataset: Unable to create link (name already exists).\n",
      "Could not add dataset: Unable to create link (name already exists).\n",
      "Could not add dataset: Unable to create link (name already exists).\n",
      "Could not add dataset: Unable to create link (name already exists).\n",
      "Could not add dataset: Unable to create link (name already exists).\n",
      "Could not add dataset: Unable to create link (name already exists).\n",
      "Could not add dataset: Unable to create link (name already exists).\n",
      "Could not add dataset: Unable to create link (name already exists).\n",
      "Could not add dataset: Unable to create link (name already exists).\n",
      "Could not add dataset: Unable to create link (name already exists).\n",
      "Could not add dataset: Unable to create link (name already exists).\n",
      "Could not add dataset: Unable to create link (name already exists).\n",
      "Could not add dataset: Unable to create link (name already exists).\n",
      "Could not add dataset: Unable to create link (name already exists).\n",
      "Could not add dataset: Unable to create link (name already exists).\n",
      "Could not add dataset: Unable to create link (name already exists).\n",
      "Could not add dataset: Unable to create link (name already exists).\n",
      "Could not add dataset: Unable to create link (name already exists).\n",
      "Could not add dataset: Unable to create link (name already exists).\n",
      "Could not add dataset: Unable to create link (name already exists).\n",
      "Could not add dataset: Unable to create link (name already exists).\n",
      "Could not add dataset: Unable to create link (name already exists).\n",
      "Could not add dataset: Unable to create link (name already exists).\n",
      "Could not add dataset: Unable to create link (name already exists).\n",
      "Could not add dataset: Unable to create link (name already exists).\n",
      "Could not add dataset: Unable to create link (name already exists).\n",
      "Could not add dataset: Unable to create link (name already exists).\n",
      "Could not add dataset: Unable to create link (name already exists).\n",
      "Could not add dataset: Unable to create link (name already exists).\n",
      "Could not add dataset: Unable to create link (name already exists).\n",
      "Could not add dataset: Unable to create link (name already exists).\n",
      "Could not add dataset: Unable to create link (name already exists).\n",
      "Could not add dataset: Unable to create link (name already exists).\n",
      "Could not add dataset: Unable to create link (name already exists).\n",
      "Could not add dataset: Unable to create link (name already exists).\n",
      "Could not add dataset: Unable to create link (name already exists).\n",
      "Could not add dataset: Unable to create link (name already exists).\n",
      "Could not add dataset: Unable to create link (name already exists).\n",
      "Could not add dataset: Unable to create link (name already exists).\n",
      "Could not add dataset: Unable to create link (name already exists).\n",
      "Could not add dataset: Unable to create link (name already exists).\n"
     ]
    },
    {
     "name": "stderr",
     "output_type": "stream",
     "text": [
      " █░░░░░░░░░░░░░░░░░░░░░░░░░░░░░░░░░░░░░░░░░░░░░░░░░   2% ETA 0:00:03"
     ]
    },
    {
     "name": "stdout",
     "output_type": "stream",
     "text": [
      "Could not add dataset: Unable to create link (name already exists).\n",
      "Could not add dataset: Unable to create link (name already exists).\n",
      "Could not add dataset: Unable to create link (name already exists).\n"
     ]
    },
    {
     "name": "stderr",
     "output_type": "stream",
     "text": [
      " ██████████████████████████░░░░░░░░░░░░░░░░░░░░░░░░  53% ETA 0:00:00"
     ]
    },
    {
     "name": "stdout",
     "output_type": "stream",
     "text": [
      "Could not add dataset: Unable to create link (name already exists).\n",
      "Could not add dataset: Unable to create link (name already exists).\n",
      "Could not add dataset: Unable to create link (name already exists).\n",
      "Could not add dataset: Unable to create link (name already exists).\n",
      "Could not add dataset: Unable to create link (name already exists).\n",
      "Could not add dataset: Unable to create link (name already exists).\n",
      "Could not add dataset: Unable to create link (name already exists).\n",
      "Could not add dataset: Unable to create link (name already exists).\n",
      "Could not add dataset: Unable to create link (name already exists).\n",
      "Could not add dataset: Unable to create link (name already exists).\n",
      "Could not add dataset: Unable to create link (name already exists).\n",
      "Could not add dataset: Unable to create link (name already exists).\n",
      "Could not add dataset: Unable to create link (name already exists).\n",
      "Could not add dataset: Unable to create link (name already exists).\n",
      "Could not add dataset: Unable to create link (name already exists).\n",
      "Could not add dataset: Unable to create link (name already exists).\n",
      "Could not add dataset: Unable to create link (name already exists).\n",
      "Could not add dataset: Unable to create link (name already exists).\n",
      "Could not add dataset: Unable to create link (name already exists).\n",
      "Could not add dataset: Unable to create link (name already exists).\n",
      "Could not add dataset: Unable to create link (name already exists).\n",
      "Could not add dataset: Unable to create link (name already exists).\n",
      "Could not add dataset: Unable to create link (name already exists).\n",
      "Could not add dataset: Unable to create link (name already exists).\n",
      "Could not add dataset: Unable to create link (name already exists).\n",
      "Could not add dataset: Unable to create link (name already exists).\n",
      "Could not add dataset: Unable to create link (name already exists).\n",
      "Could not add dataset: Unable to create link (name already exists).\n",
      "Could not add dataset: Unable to create link (name already exists).\n",
      "Could not add dataset: Unable to create link (name already exists).\n",
      "Could not add dataset: Unable to create link (name already exists).\n",
      "Could not add dataset: Unable to create link (name already exists).\n",
      "Could not add dataset: Unable to create link (name already exists).\n",
      "Could not add dataset: Unable to create link (name already exists).\n",
      "Could not add dataset: Unable to create link (name already exists).\n",
      "Could not add dataset: Unable to create link (name already exists).\n",
      "Could not add dataset: Unable to create link (name already exists).\n",
      "Could not add dataset: Unable to create link (name already exists).\n",
      "Could not add dataset: Unable to create link (name already exists).\n",
      "Could not add dataset: Unable to create link (name already exists).\n",
      "Could not add dataset: Unable to create link (name already exists).\n"
     ]
    },
    {
     "name": "stderr",
     "output_type": "stream",
     "text": [
      " ██████████████████████████████████████████████████ 100% ETA 0:00:00\n",
      " ░░░░░░░░░░░░░░░░░░░░░░░░░░░░░░░░░░░░░░░░░░░░░░░░░░   0% ETA n/a"
     ]
    },
    {
     "name": "stdout",
     "output_type": "stream",
     "text": [
      "Could not add dataset: Unable to create link (name already exists).\n",
      "Could not add dataset: Unable to create link (name already exists).\n",
      "Could not add dataset: Unable to create link (name already exists).\n",
      "Could not add dataset: Unable to create link (name already exists).\n",
      "Could not add dataset: Unable to create link (name already exists).\n",
      "Could not add dataset: Unable to create link (name already exists).\n",
      "Could not add dataset: Unable to create link (name already exists).\n",
      "Could not add dataset: Unable to create link (name already exists).\n",
      "Could not add dataset: Unable to create link (name already exists).\n",
      "Could not add dataset: Unable to create link (name already exists).\n",
      "Could not add dataset: Unable to create link (name already exists).\n",
      "Could not add dataset: Unable to create link (name already exists).\n",
      "Could not add dataset: Unable to create link (name already exists).\n",
      "Could not add dataset: Unable to create link (name already exists).\n",
      "Could not add dataset: Unable to create link (name already exists).\n",
      "Could not add dataset: Unable to create link (name already exists).\n",
      "Could not add dataset: Unable to create link (name already exists).\n",
      "Could not add dataset: Unable to create link (name already exists).\n",
      "Could not add dataset: Unable to create link (name already exists).\n",
      "Could not add dataset: Unable to create link (name already exists).\n",
      "Could not add dataset: Unable to create link (name already exists).\n",
      "Could not add dataset: Unable to create link (name already exists).\n",
      "Could not add dataset: Unable to create link (name already exists).\n",
      "Could not add dataset: Unable to create link (name already exists).\n",
      "Could not add dataset: Unable to create link (name already exists).\n",
      "Could not add dataset: Unable to create link (name already exists).\n",
      "Could not add dataset: Unable to create link (name already exists).\n",
      "Could not add dataset: Unable to create link (name already exists).\n",
      "Could not add dataset: Unable to create link (name already exists).\n",
      "Could not add dataset: Unable to create link (name already exists).\n",
      "Could not add dataset: Unable to create link (name already exists).\n",
      "Could not add dataset: Unable to create link (name already exists).\n",
      "Could not add dataset: Unable to create link (name already exists).\n",
      "Could not add dataset: Unable to create link (name already exists).\n",
      "Could not add dataset: Unable to create link (name already exists).\n",
      "Could not add dataset: Unable to create link (name already exists).\n",
      "Could not add dataset: Unable to create link (name already exists).\n"
     ]
    },
    {
     "name": "stderr",
     "output_type": "stream",
     "text": [
      " ██████████████████████████████████████████████████ 100% ETA 0:00:00\n",
      "/home/pyiron_user/pyiron/projects/pyiron_workflow_examples/LAMMPS-DAMASK-workflow/damask_eval.py:19: H5pyDeprecationWarning: The default file mode will change to 'r' (read-only) in h5py 3.0. To suppress this warning, pass the mode you need to h5py.File(), or set the global default h5.get_config().default_file_mode, or set the environment variable H5PY_DEFAULT_READONLY=1. Available modes are: 'r', 'r+', 'w', 'w-'/'x', 'a'. See the docs for details.\n",
      "  hdf = h5py.File(d.fname)\n",
      "/home/pyiron_user/pyiron/projects/pyiron_workflow_examples/LAMMPS-DAMASK-workflow/damask_eval.py:37: H5pyDeprecationWarning: The default file mode will change to 'r' (read-only) in h5py 3.0. To suppress this warning, pass the mode you need to h5py.File(), or set the global default h5.get_config().default_file_mode, or set the environment variable H5PY_DEFAULT_READONLY=1. Available modes are: 'r', 'r+', 'w', 'w-'/'x', 'a'. See the docs for details.\n",
      "  hdf = h5py.File(d.fname)\n",
      " ░░░░░░░░░░░░░░░░░░░░░░░░░░░░░░░░░░░░░░░░░░░░░░░░░░   0% ETA n/a"
     ]
    },
    {
     "name": "stdout",
     "output_type": "stream",
     "text": [
      "Could not add dataset: Unable to create link (name already exists).\n"
     ]
    },
    {
     "name": "stderr",
     "output_type": "stream",
     "text": [
      "\r",
      " █░░░░░░░░░░░░░░░░░░░░░░░░░░░░░░░░░░░░░░░░░░░░░░░░░   2% ETA 0:00:14"
     ]
    },
    {
     "name": "stdout",
     "output_type": "stream",
     "text": [
      "Could not add dataset: Unable to create link (name already exists).\n",
      "Could not add dataset: Unable to create link (name already exists).\n"
     ]
    },
    {
     "name": "stderr",
     "output_type": "stream",
     "text": [
      " ██████████████████████████████████████████████████ 100% ETA 0:00:00\n"
     ]
    },
    {
     "name": "stdout",
     "output_type": "stream",
     "text": [
      "Could not add dataset: Unable to create link (name already exists).\n",
      "Could not add dataset: Unable to create link (name already exists).\n",
      "Could not add dataset: Unable to create link (name already exists).\n",
      "Could not add dataset: Unable to create link (name already exists).\n",
      "Could not add dataset: Unable to create link (name already exists).\n",
      "Could not add dataset: Unable to create link (name already exists).\n",
      "Could not add dataset: Unable to create link (name already exists).\n",
      "Could not add dataset: Unable to create link (name already exists).\n",
      "Could not add dataset: Unable to create link (name already exists).\n",
      "Could not add dataset: Unable to create link (name already exists).\n",
      "Could not add dataset: Unable to create link (name already exists).\n",
      "Could not add dataset: Unable to create link (name already exists).\n",
      "Could not add dataset: Unable to create link (name already exists).\n",
      "Could not add dataset: Unable to create link (name already exists).\n",
      "Could not add dataset: Unable to create link (name already exists).\n",
      "Could not add dataset: Unable to create link (name already exists).\n",
      "Could not add dataset: Unable to create link (name already exists).\n",
      "Could not add dataset: Unable to create link (name already exists).\n",
      "Could not add dataset: Unable to create link (name already exists).\n",
      "Could not add dataset: Unable to create link (name already exists).\n",
      "Could not add dataset: Unable to create link (name already exists).\n",
      "Could not add dataset: Unable to create link (name already exists).\n",
      "Could not add dataset: Unable to create link (name already exists).\n",
      "Could not add dataset: Unable to create link (name already exists).\n",
      "Could not add dataset: Unable to create link (name already exists).\n",
      "Could not add dataset: Unable to create link (name already exists).\n",
      "Could not add dataset: Unable to create link (name already exists).\n",
      "Could not add dataset: Unable to create link (name already exists).\n",
      "Could not add dataset: Unable to create link (name already exists).\n",
      "Could not add dataset: Unable to create link (name already exists).\n",
      "Could not add dataset: Unable to create link (name already exists).\n",
      "Could not add dataset: Unable to create link (name already exists).\n",
      "Could not add dataset: Unable to create link (name already exists).\n",
      "Could not add dataset: Unable to create link (name already exists).\n",
      "Could not add dataset: Unable to create link (name already exists).\n",
      "Could not add dataset: Unable to create link (name already exists).\n",
      "Could not add dataset: Unable to create link (name already exists).\n",
      "Could not add dataset: Unable to create link (name already exists).\n",
      "Could not add dataset: Unable to create link (name already exists).\n",
      "Could not add dataset: Unable to create link (name already exists).\n",
      "Could not add dataset: Unable to create link (name already exists).\n",
      "Could not add dataset: Unable to create link (name already exists).\n",
      "Could not add dataset: Unable to create link (name already exists).\n",
      "Could not add dataset: Unable to create link (name already exists).\n",
      "Could not add dataset: Unable to create link (name already exists).\n",
      "Could not add dataset: Unable to create link (name already exists).\n",
      "Could not add dataset: Unable to create link (name already exists).\n",
      "Could not add dataset: Unable to create link (name already exists).\n",
      "Could not add dataset: Unable to create link (name already exists).\n",
      "Could not add dataset: Unable to create link (name already exists).\n",
      "Could not add dataset: Unable to create link (name already exists).\n",
      "Could not add dataset: Unable to create link (name already exists).\n",
      "Could not add dataset: Unable to create link (name already exists).\n",
      "Could not add dataset: Unable to create link (name already exists).\n",
      "Could not add dataset: Unable to create link (name already exists).\n",
      "Could not add dataset: Unable to create link (name already exists).\n",
      "Could not add dataset: Unable to create link (name already exists).\n",
      "Could not add dataset: Unable to create link (name already exists).\n",
      "Could not add dataset: Unable to create link (name already exists).\n",
      "Could not add dataset: Unable to create link (name already exists).\n",
      "Could not add dataset: Unable to create link (name already exists).\n",
      "Could not add dataset: Unable to create link (name already exists).\n",
      "Could not add dataset: Unable to create link (name already exists).\n",
      "Could not add dataset: Unable to create link (name already exists).\n",
      "Could not add dataset: Unable to create link (name already exists).\n",
      "Could not add dataset: Unable to create link (name already exists).\n",
      "Could not add dataset: Unable to create link (name already exists).\n",
      "Could not add dataset: Unable to create link (name already exists).\n",
      "Could not add dataset: Unable to create link (name already exists).\n",
      "Could not add dataset: Unable to create link (name already exists).\n",
      "Could not add dataset: Unable to create link (name already exists).\n",
      "Could not add dataset: Unable to create link (name already exists).\n",
      "Could not add dataset: Unable to create link (name already exists).\n",
      "Could not add dataset: Unable to create link (name already exists).\n",
      "Could not add dataset: Unable to create link (name already exists).\n",
      "Could not add dataset: Unable to create link (name already exists).\n",
      "Could not add dataset: Unable to create link (name already exists).\n",
      "Could not add dataset: Unable to create link (name already exists).\n"
     ]
    },
    {
     "name": "stderr",
     "output_type": "stream",
     "text": [
      " █░░░░░░░░░░░░░░░░░░░░░░░░░░░░░░░░░░░░░░░░░░░░░░░░░   2% ETA 0:00:10"
     ]
    },
    {
     "name": "stdout",
     "output_type": "stream",
     "text": [
      "Could not add dataset: Unable to create link (name already exists).\n",
      "Could not add dataset: Unable to create link (name already exists).\n"
     ]
    },
    {
     "name": "stderr",
     "output_type": "stream",
     "text": [
      " ██████░░░░░░░░░░░░░░░░░░░░░░░░░░░░░░░░░░░░░░░░░░░░  12% ETA 0:00:04"
     ]
    },
    {
     "name": "stdout",
     "output_type": "stream",
     "text": [
      "Could not add dataset: Unable to create link (name already exists).\n",
      "Could not add dataset: Unable to create link (name already exists).\n",
      "Could not add dataset: Unable to create link (name already exists).\n",
      "Could not add dataset: Unable to create link (name already exists).\n",
      "Could not add dataset: Unable to create link (name already exists).\n",
      "Could not add dataset: Unable to create link (name already exists).\n",
      "Could not add dataset: Unable to create link (name already exists).\n",
      "Could not add dataset: Unable to create link (name already exists).\n",
      "Could not add dataset: Unable to create link (name already exists).\n",
      "Could not add dataset: Unable to create link (name already exists)."
     ]
    },
    {
     "name": "stderr",
     "output_type": "stream",
     "text": [
      " ████████████████████░░░░░░░░░░░░░░░░░░░░░░░░░░░░░░  41% ETA 0:00:01"
     ]
    },
    {
     "name": "stdout",
     "output_type": "stream",
     "text": [
      "\n",
      "Could not add dataset: Unable to create link (name already exists).\n",
      "Could not add dataset: Unable to create link (name already exists).\n",
      "Could not add dataset: Unable to create link (name already exists).\n",
      "Could not add dataset: Unable to create link (name already exists).\n",
      "Could not add dataset: Unable to create link (name already exists).\n",
      "Could not add dataset: Unable to create link (name already exists).\n",
      "Could not add dataset: Unable to create link (name already exists).\n",
      "Could not add dataset: Unable to create link (name already exists).\n",
      "Could not add dataset: Unable to create link (name already exists).\n",
      "Could not add dataset: Unable to create link (name already exists).\n",
      "Could not add dataset: Unable to create link (name already exists).\n",
      "Could not add dataset: Unable to create link (name already exists).\n",
      "Could not add dataset: Unable to create link (name already exists).\n",
      "Could not add dataset: Unable to create link (name already exists).\n",
      "Could not add dataset: Unable to create link (name already exists).\n",
      "Could not add dataset: Unable to create link (name already exists).\n",
      "Could not add dataset: Unable to create link (name already exists).\n",
      "Could not add dataset: Unable to create link (name already exists).\n",
      "Could not add dataset: Unable to create link (name already exists).\n",
      "Could not add dataset: Unable to create link (name already exists).\n",
      "Could not add dataset: Unable to create link (name already exists).\n",
      "Could not add dataset: Unable to create link (name already exists).\n"
     ]
    },
    {
     "name": "stderr",
     "output_type": "stream",
     "text": [
      " ██████████████████████████████████████████████████ 100% ETA 0:00:00\n"
     ]
    },
    {
     "name": "stdout",
     "output_type": "stream",
     "text": [
      "Could not add dataset: Unable to create link (name already exists).\n",
      "Could not add dataset: Unable to create link (name already exists).\n",
      "Could not add dataset: Unable to create link (name already exists).\n",
      "Could not add dataset: Unable to create link (name already exists).\n",
      "Could not add dataset: Unable to create link (name already exists).\n",
      "Could not add dataset: Unable to create link (name already exists).\n",
      "Could not add dataset: Unable to create link (name already exists).\n",
      "Could not add dataset: Unable to create link (name already exists).\n",
      "Could not add dataset: Unable to create link (name already exists).\n",
      "Could not add dataset: Unable to create link (name already exists).\n",
      "Could not add dataset: Unable to create link (name already exists).\n",
      "Could not add dataset: Unable to create link (name already exists).\n",
      "Could not add dataset: Unable to create link (name already exists).\n",
      "Could not add dataset: Unable to create link (name already exists).\n",
      "Could not add dataset: Unable to create link (name already exists).\n",
      "Could not add dataset: Unable to create link (name already exists).\n",
      "Could not add dataset: Unable to create link (name already exists).\n",
      "Could not add dataset: Unable to create link (name already exists).\n",
      "Could not add dataset: Unable to create link (name already exists).\n",
      "Could not add dataset: Unable to create link (name already exists).\n",
      "Could not add dataset: Unable to create link (name already exists).\n",
      "Could not add dataset: Unable to create link (name already exists).\n",
      "Could not add dataset: Unable to create link (name already exists).\n",
      "Could not add dataset: Unable to create link (name already exists).\n",
      "Could not add dataset: Unable to create link (name already exists).\n",
      "Could not add dataset: Unable to create link (name already exists).\n",
      "Could not add dataset: Unable to create link (name already exists).\n",
      "Could not add dataset: Unable to create link (name already exists).\n",
      "Could not add dataset: Unable to create link (name already exists).\n",
      "Could not add dataset: Unable to create link (name already exists).\n",
      "Could not add dataset: Unable to create link (name already exists).\n",
      "Could not add dataset: Unable to create link (name already exists).\n",
      "Could not add dataset: Unable to create link (name already exists).\n",
      "Could not add dataset: Unable to create link (name already exists).\n",
      "Could not add dataset: Unable to create link (name already exists).\n",
      "Could not add dataset: Unable to create link (name already exists).\n",
      "Could not add dataset: Unable to create link (name already exists).\n",
      "Could not add dataset: Unable to create link (name already exists).\n",
      "Could not add dataset: Unable to create link (name already exists).\n",
      "Could not add dataset: Unable to create link (name already exists).\n",
      "Could not add dataset: Unable to create link (name already exists).\n",
      "Could not add dataset: Unable to create link (name already exists).\n",
      "Could not add dataset: Unable to create link (name already exists).\n",
      "Could not add dataset: Unable to create link (name already exists).\n",
      "Could not add dataset: Unable to create link (name already exists).\n",
      "Could not add dataset: Unable to create link (name already exists).\n",
      "Could not add dataset: Unable to create link (name already exists).\n"
     ]
    },
    {
     "name": "stderr",
     "output_type": "stream",
     "text": [
      " ░░░░░░░░░░░░░░░░░░░░░░░░░░░░░░░░░░░░░░░░░░░░░░░░░░   0% ETA n/a"
     ]
    },
    {
     "name": "stdout",
     "output_type": "stream",
     "text": [
      "Could not add dataset: Unable to create link (name already exists).\n"
     ]
    },
    {
     "name": "stderr",
     "output_type": "stream",
     "text": [
      " ██████████████░░░░░░░░░░░░░░░░░░░░░░░░░░░░░░░░░░░░  28% ETA 0:00:01"
     ]
    },
    {
     "name": "stdout",
     "output_type": "stream",
     "text": [
      "Could not add dataset: Unable to create link (name already exists).\n",
      "Could not add dataset: Unable to create link (name already exists).\n",
      "Could not add dataset: Unable to create link (name already exists).\n",
      "Could not add dataset: Unable to create link (name already exists).\n",
      "Could not add dataset: Unable to create link (name already exists).\n",
      "Could not add dataset: Unable to create link (name already exists).\n",
      "Could not add dataset: Unable to create link (name already exists).\n",
      "Could not add dataset: Unable to create link (name already exists).\n",
      "Could not add dataset: Unable to create link (name already exists).\n",
      "Could not add dataset: Unable to create link (name already exists).\n",
      "Could not add dataset: Unable to create link (name already exists).\n",
      "Could not add dataset: Unable to create link (name already exists).\n",
      "Could not add dataset: Unable to create link (name already exists).\n",
      "Could not add dataset: Unable to create link (name already exists).\n",
      "Could not add dataset: Unable to create link (name already exists).\n",
      "Could not add dataset: Unable to create link (name already exists).\n",
      "Could not add dataset: Unable to create link (name already exists).\n",
      "Could not add dataset: Unable to create link (name already exists).\n",
      "Could not add dataset: Unable to create link (name already exists).\n",
      "Could not add dataset: Unable to create link (name already exists).\n",
      "Could not add dataset: Unable to create link (name already exists).\n",
      "Could not add dataset: Unable to create link (name already exists).\n",
      "Could not add dataset: Unable to create link (name already exists).\n",
      "Could not add dataset: Unable to create link (name already exists).\n"
     ]
    },
    {
     "name": "stderr",
     "output_type": "stream",
     "text": [
      " ██████████████████████████████████████████████████ 100% ETA 0:00:00\n"
     ]
    },
    {
     "name": "stdout",
     "output_type": "stream",
     "text": [
      "Could not add dataset: Unable to create link (name already exists).\n",
      "Could not add dataset: Unable to create link (name already exists).\n",
      "Could not add dataset: Unable to create link (name already exists).\n",
      "Could not add dataset: Unable to create link (name already exists).\n",
      "Could not add dataset: Unable to create link (name already exists).\n",
      "Could not add dataset: Unable to create link (name already exists).\n",
      "Could not add dataset: Unable to create link (name already exists).\n",
      "Could not add dataset: Unable to create link (name already exists).\n",
      "Could not add dataset: Unable to create link (name already exists).\n",
      "Could not add dataset: Unable to create link (name already exists).\n",
      "Could not add dataset: Unable to create link (name already exists).\n",
      "Could not add dataset: Unable to create link (name already exists).\n",
      "Could not add dataset: Unable to create link (name already exists).\n",
      "Could not add dataset: Unable to create link (name already exists).\n",
      "Could not add dataset: Unable to create link (name already exists).\n",
      "Could not add dataset: Unable to create link (name already exists).\n",
      "Could not add dataset: Unable to create link (name already exists).\n",
      "Could not add dataset: Unable to create link (name already exists).\n",
      "Could not add dataset: Unable to create link (name already exists).\n",
      "Could not add dataset: Unable to create link (name already exists).\n",
      "Could not add dataset: Unable to create link (name already exists).\n",
      "Could not add dataset: Unable to create link (name already exists).\n",
      "Could not add dataset: Unable to create link (name already exists).\n",
      "Could not add dataset: Unable to create link (name already exists).\n",
      "Could not add dataset: Unable to create link (name already exists).\n",
      "Could not add dataset: Unable to create link (name already exists).\n",
      "Could not add dataset: Unable to create link (name already exists).\n",
      "Could not add dataset: Unable to create link (name already exists).\n",
      "Could not add dataset: Unable to create link (name already exists).\n",
      "Could not add dataset: Unable to create link (name already exists).\n",
      "Could not add dataset: Unable to create link (name already exists).\n",
      "Could not add dataset: Unable to create link (name already exists).\n",
      "Could not add dataset: Unable to create link (name already exists).\n",
      "Could not add dataset: Unable to create link (name already exists).\n",
      "Could not add dataset: Unable to create link (name already exists).\n",
      "Could not add dataset: Unable to create link (name already exists).\n",
      "Could not add dataset: Unable to create link (name already exists).\n",
      "Could not add dataset: Unable to create link (name already exists).\n",
      "Could not add dataset: Unable to create link (name already exists).\n",
      "Could not add dataset: Unable to create link (name already exists).\n",
      "Could not add dataset: Unable to create link (name already exists).\n",
      "Could not add dataset: Unable to create link (name already exists).\n",
      "Could not add dataset: Unable to create link (name already exists).\n",
      "Could not add dataset: Unable to create link (name already exists).\n",
      "Could not add dataset: Unable to create link (name already exists).\n",
      "Could not add dataset: Unable to create link (name already exists).\n",
      "Could not add dataset: Unable to create link (name already exists).\n",
      "Could not add dataset: Unable to create link (name already exists).\n",
      "Could not add dataset: Unable to create link (name already exists).\n",
      "Could not add dataset: Unable to create link (name already exists).\n",
      "Could not add dataset: Unable to create link (name already exists).\n",
      "Could not add dataset: Unable to create link (name already exists).\n",
      "Could not add dataset: Unable to create link (name already exists).\n",
      "Could not add dataset: Unable to create link (name already exists).\n",
      "Could not add dataset: Unable to create link (name already exists).\n",
      "Could not add dataset: Unable to create link (name already exists).\n"
     ]
    },
    {
     "name": "stderr",
     "output_type": "stream",
     "text": [
      " ░░░░░░░░░░░░░░░░░░░░░░░░░░░░░░░░░░░░░░░░░░░░░░░░░░   0% ETA n/a"
     ]
    },
    {
     "name": "stdout",
     "output_type": "stream",
     "text": [
      "Could not add dataset: Unable to create link (name already exists).\n"
     ]
    },
    {
     "name": "stderr",
     "output_type": "stream",
     "text": [
      " ███████████░░░░░░░░░░░░░░░░░░░░░░░░░░░░░░░░░░░░░░░  22% ETA 0:00:01"
     ]
    },
    {
     "name": "stdout",
     "output_type": "stream",
     "text": [
      "Could not add dataset: Unable to create link (name already exists).\n",
      "Could not add dataset: Unable to create link (name already exists).\n",
      "Could not add dataset: Unable to create link (name already exists).\n",
      "Could not add dataset: Unable to create link (name already exists).\n",
      "Could not add dataset: Unable to create link (name already exists).\n",
      "Could not add dataset: Unable to create link (name already exists).\n",
      "Could not add dataset: Unable to create link (name already exists).\n",
      "Could not add dataset: Unable to create link (name already exists).\n",
      "Could not add dataset: Unable to create link (name already exists).\n",
      "Could not add dataset: Unable to create link (name already exists).\n",
      "Could not add dataset: Unable to create link (name already exists).\n",
      "Could not add dataset: Unable to create link (name already exists).\n",
      "Could not add dataset: Unable to create link (name already exists).\n",
      "Could not add dataset: Unable to create link (name already exists).\n",
      "Could not add dataset: Unable to create link (name already exists).\n",
      "Could not add dataset: Unable to create link (name already exists).\n",
      "Could not add dataset: Unable to create link (name already exists).\n",
      "Could not add dataset: Unable to create link (name already exists).\n"
     ]
    },
    {
     "name": "stderr",
     "output_type": "stream",
     "text": [
      " ██████████████████████████████████████████████████ 100% ETA 0:00:00\n"
     ]
    },
    {
     "name": "stdout",
     "output_type": "stream",
     "text": [
      "Could not add dataset: Unable to create link (name already exists).\n",
      "Could not add dataset: Unable to create link (name already exists).\n",
      "Could not add dataset: Unable to create link (name already exists).\n",
      "Could not add dataset: Unable to create link (name already exists).\n",
      "Could not add dataset: Unable to create link (name already exists).\n",
      "Could not add dataset: Unable to create link (name already exists).\n",
      "Could not add dataset: Unable to create link (name already exists).\n",
      "Could not add dataset: Unable to create link (name already exists).\n",
      "Could not add dataset: Unable to create link (name already exists).\n",
      "Could not add dataset: Unable to create link (name already exists).\n",
      "Could not add dataset: Unable to create link (name already exists).\n",
      "Could not add dataset: Unable to create link (name already exists).\n",
      "Could not add dataset: Unable to create link (name already exists).\n",
      "Could not add dataset: Unable to create link (name already exists).\n",
      "Could not add dataset: Unable to create link (name already exists).\n",
      "Could not add dataset: Unable to create link (name already exists).\n",
      "Could not add dataset: Unable to create link (name already exists).\n",
      "Could not add dataset: Unable to create link (name already exists).\n",
      "Could not add dataset: Unable to create link (name already exists).\n",
      "Could not add dataset: Unable to create link (name already exists).\n",
      "Could not add dataset: Unable to create link (name already exists).\n",
      "Could not add dataset: Unable to create link (name already exists).\n",
      "Could not add dataset: Unable to create link (name already exists).\n",
      "Could not add dataset: Unable to create link (name already exists).\n",
      "Could not add dataset: Unable to create link (name already exists).\n",
      "Could not add dataset: Unable to create link (name already exists).\n",
      "Could not add dataset: Unable to create link (name already exists).\n",
      "Could not add dataset: Unable to create link (name already exists).\n",
      "Could not add dataset: Unable to create link (name already exists).\n",
      "Could not add dataset: Unable to create link (name already exists).\n",
      "Could not add dataset: Unable to create link (name already exists).\n",
      "Could not add dataset: Unable to create link (name already exists).\n",
      "Could not add dataset: Unable to create link (name already exists).\n",
      "Could not add dataset: Unable to create link (name already exists).\n",
      "Could not add dataset: Unable to create link (name already exists).\n",
      "Could not add dataset: Unable to create link (name already exists).\n",
      "Could not add dataset: Unable to create link (name already exists).\n",
      "Could not add dataset: Unable to create link (name already exists).\n",
      "Could not add dataset: Unable to create link (name already exists).\n",
      "Could not add dataset: Unable to create link (name already exists).\n",
      "Could not add dataset: Unable to create link (name already exists).\n",
      "Could not add dataset: Unable to create link (name already exists).\n",
      "Could not add dataset: Unable to create link (name already exists).\n",
      "Could not add dataset: Unable to create link (name already exists).\n",
      "Could not add dataset: Unable to create link (name already exists).\n",
      "Could not add dataset: Unable to create link (name already exists).\n",
      "Could not add dataset: Unable to create link (name already exists).\n",
      "Could not add dataset: Unable to create link (name already exists).\n",
      "Could not add dataset: Unable to create link (name already exists).\n",
      "Could not add dataset: Unable to create link (name already exists).\n",
      "Could not add dataset: Unable to create link (name already exists).\n",
      "Could not add dataset: Unable to create link (name already exists).\n",
      "Could not add dataset: Unable to create link (name already exists).\n",
      "Could not add dataset: Unable to create link (name already exists).\n",
      "Could not add dataset: Unable to create link (name already exists).\n",
      "Could not add dataset: Unable to create link (name already exists).\n",
      "Could not add dataset: Unable to create link (name already exists).\n",
      "Could not add dataset: Unable to create link (name already exists).\n",
      "Could not add dataset: Unable to create link (name already exists).\n",
      "Could not add dataset: Unable to create link (name already exists).\n",
      "Could not add dataset: Unable to create link (name already exists).\n",
      "Could not add dataset: Unable to create link (name already exists).\n"
     ]
    },
    {
     "name": "stderr",
     "output_type": "stream",
     "text": [
      " █░░░░░░░░░░░░░░░░░░░░░░░░░░░░░░░░░░░░░░░░░░░░░░░░░   2% ETA 0:00:08"
     ]
    },
    {
     "name": "stdout",
     "output_type": "stream",
     "text": [
      "Could not add dataset: Unable to create link (name already exists).\n",
      "Could not add dataset: Unable to create link (name already exists).\n"
     ]
    },
    {
     "name": "stderr",
     "output_type": "stream",
     "text": [
      " █████████████████████████████████████░░░░░░░░░░░░░  74% ETA 0:00:00"
     ]
    },
    {
     "name": "stdout",
     "output_type": "stream",
     "text": [
      "Could not add dataset: Unable to create link (name already exists).\n",
      "Could not add dataset: Unable to create link (name already exists).\n",
      "Could not add dataset: Unable to create link (name already exists).\n",
      "Could not add dataset: Unable to create link (name already exists).\n",
      "Could not add dataset: Unable to create link (name already exists).\n",
      "Could not add dataset: Unable to create link (name already exists).\n",
      "Could not add dataset: Unable to create link (name already exists).\n",
      "Could not add dataset: Unable to create link (name already exists).\n",
      "Could not add dataset: Unable to create link (name already exists).\n",
      "Could not add dataset: Unable to create link (name already exists).\n",
      "Could not add dataset: Unable to create link (name already exists).\n",
      "Could not add dataset: Unable to create link (name already exists).\n",
      "Could not add dataset: Unable to create link (name already exists).\n",
      "Could not add dataset: Unable to create link (name already exists).\n",
      "Could not add dataset: Unable to create link (name already exists).\n",
      "Could not add dataset: Unable to create link (name already exists).\n",
      "Could not add dataset: Unable to create link (name already exists).\n",
      "Could not add dataset: Unable to create link (name already exists).\n",
      "Could not add dataset: Unable to create link (name already exists).\n",
      "Could not add dataset: Unable to create link (name already exists).\n",
      "Could not add dataset: Unable to create link (name already exists).\n",
      "Could not add dataset: Unable to create link (name already exists).\n",
      "Could not add dataset: Unable to create link (name already exists).\n",
      "Could not add dataset: Unable to create link (name already exists).\n",
      "Could not add dataset: Unable to create link (name already exists).\n",
      "Could not add dataset: Unable to create link (name already exists).\n",
      "Could not add dataset: Unable to create link (name already exists).\n",
      "Could not add dataset: Unable to create link (name already exists).\n",
      "Could not add dataset: Unable to create link (name already exists).\n",
      "Could not add dataset: Unable to create link (name already exists).\n",
      "Could not add dataset: Unable to create link (name already exists).\n",
      "Could not add dataset: Unable to create link (name already exists).\n",
      "Could not add dataset: Unable to create link (name already exists).\n",
      "Could not add dataset: Unable to create link (name already exists).\n",
      "Could not add dataset: Unable to create link (name already exists).\n",
      "Could not add dataset: Unable to create link (name already exists).\n",
      "Could not add dataset: Unable to create link (name already exists).\n",
      "Could not add dataset: Unable to create link (name already exists).\n",
      "Could not add dataset: Unable to create link (name already exists).\n",
      "Could not add dataset: Unable to create link (name already exists).\n",
      "Could not add dataset: Unable to create link (name already exists).\n",
      "Could not add dataset: Unable to create link (name already exists).\n",
      "Could not add dataset: Unable to create link (name already exists).\n",
      "Could not add dataset: Unable to create link (name already exists).\n",
      "Could not add dataset: Unable to create link (name already exists).\n",
      "Could not add dataset: Unable to create link (name already exists).\n",
      "Could not add dataset: Unable to create link (name already exists).\n",
      "Could not add dataset: Unable to create link (name already exists).\n",
      "Could not add dataset: Unable to create link (name already exists).\n",
      "Could not add dataset: Unable to create link (name already exists).\n",
      "Could not add dataset: Unable to create link (name already exists).\n",
      "Could not add dataset: Unable to create link (name already exists).\n",
      "Could not add dataset: Unable to create link (name already exists).\n",
      "Could not add dataset: Unable to create link (name already exists).\n",
      "Could not add dataset: Unable to create link (name already exists).\n",
      "Could not add dataset: Unable to create link (name already exists).\n",
      "Could not add dataset: Unable to create link (name already exists).\n",
      "Could not add dataset: Unable to create link (name already exists).\n",
      "Could not add dataset: Unable to create link (name already exists).\n"
     ]
    },
    {
     "name": "stderr",
     "output_type": "stream",
     "text": [
      " ██████████████████████████████████████████████████ 100% ETA 0:00:00\n"
     ]
    },
    {
     "name": "stdout",
     "output_type": "stream",
     "text": [
      "Could not add dataset: Unable to create link (name already exists).\n",
      "Could not add dataset: Unable to create link (name already exists).\n",
      "Could not add dataset: Unable to create link (name already exists).\n",
      "Could not add dataset: Unable to create link (name already exists).\n",
      "Could not add dataset: Unable to create link (name already exists).\n",
      "Could not add dataset: Unable to create link (name already exists).\n",
      "Could not add dataset: Unable to create link (name already exists).\n",
      "Could not add dataset: Unable to create link (name already exists).\n",
      "Could not add dataset: Unable to create link (name already exists).\n",
      "Could not add dataset: Unable to create link (name already exists).\n",
      "Could not add dataset: Unable to create link (name already exists).\n",
      "Could not add dataset: Unable to create link (name already exists).\n",
      "Could not add dataset: Unable to create link (name already exists).\n",
      "Could not add dataset: Unable to create link (name already exists).\n",
      "Could not add dataset: Unable to create link (name already exists).\n",
      "Could not add dataset: Unable to create link (name already exists).\n",
      "Could not add dataset: Unable to create link (name already exists).\n",
      "Could not add dataset: Unable to create link (name already exists).\n",
      "Could not add dataset: Unable to create link (name already exists).\n",
      "Could not add dataset: Unable to create link (name already exists).\n"
     ]
    },
    {
     "name": "stderr",
     "output_type": "stream",
     "text": [
      " █░░░░░░░░░░░░░░░░░░░░░░░░░░░░░░░░░░░░░░░░░░░░░░░░░   2% ETA 0:00:05"
     ]
    },
    {
     "name": "stdout",
     "output_type": "stream",
     "text": [
      "Could not add dataset: Unable to create link (name already exists).\n",
      "Could not add dataset: Unable to create link (name already exists).\n"
     ]
    },
    {
     "name": "stderr",
     "output_type": "stream",
     "text": [
      " ████████████████░░░░░░░░░░░░░░░░░░░░░░░░░░░░░░░░░░  32% ETA 0:00:01"
     ]
    },
    {
     "name": "stdout",
     "output_type": "stream",
     "text": [
      "Could not add dataset: Unable to create link (name already exists).\n",
      "Could not add dataset: Unable to create link (name already exists).\n",
      "Could not add dataset: Unable to create link (name already exists).\n",
      "Could not add dataset: Unable to create link (name already exists).\n",
      "Could not add dataset: Unable to create link (name already exists).\n",
      "Could not add dataset: Unable to create link (name already exists).\n",
      "Could not add dataset: Unable to create link (name already exists).\n",
      "Could not add dataset: Unable to create link (name already exists).\n",
      "Could not add dataset: Unable to create link (name already exists).\n",
      "Could not add dataset: Unable to create link (name already exists).\n",
      "Could not add dataset: Unable to create link (name already exists).\n",
      "Could not add dataset: Unable to create link (name already exists).\n",
      "Could not add dataset: Unable to create link (name already exists).\n",
      "Could not add dataset: Unable to create link (name already exists).\n",
      "Could not add dataset: Unable to create link (name already exists).\n",
      "Could not add dataset: Unable to create link (name already exists).\n",
      "Could not add dataset: Unable to create link (name already exists).\n",
      "Could not add dataset: Unable to create link (name already exists).\n",
      "Could not add dataset: Unable to create link (name already exists).\n",
      "Could not add dataset: Unable to create link (name already exists).\n",
      "Could not add dataset: Unable to create link (name already exists).\n",
      "Could not add dataset: Unable to create link (name already exists).\n",
      "Could not add dataset: Unable to create link (name already exists).\n",
      "Could not add dataset: Unable to create link (name already exists).\n"
     ]
    },
    {
     "name": "stderr",
     "output_type": "stream",
     "text": [
      " ██████████████████████████████████████████████████ 100% ETA 0:00:00\n",
      " ░░░░░░░░░░░░░░░░░░░░░░░░░░░░░░░░░░░░░░░░░░░░░░░░░░   0% ETA n/a"
     ]
    },
    {
     "name": "stdout",
     "output_type": "stream",
     "text": [
      "Could not add dataset: Unable to create link (name already exists).\n",
      "Could not add dataset: Unable to create link (name already exists).\n",
      "Could not add dataset: Unable to create link (name already exists).\n",
      "Could not add dataset: Unable to create link (name already exists).\n",
      "Could not add dataset: Unable to create link (name already exists).\n",
      "Could not add dataset: Unable to create link (name already exists).\n",
      "Could not add dataset: Unable to create link (name already exists).\n",
      "Could not add dataset: Unable to create link (name already exists).\n",
      "Could not add dataset: Unable to create link (name already exists).\n",
      "Could not add dataset: Unable to create link (name already exists).\n",
      "Could not add dataset: Unable to create link (name already exists).\n",
      "Could not add dataset: Unable to create link (name already exists).\n",
      "Could not add dataset: Unable to create link (name already exists).\n",
      "Could not add dataset: Unable to create link (name already exists).\n",
      "Could not add dataset: Unable to create link (name already exists).\n",
      "Could not add dataset: Unable to create link (name already exists).\n",
      "Could not add dataset: Unable to create link (name already exists).\n",
      "Could not add dataset: Unable to create link (name already exists).\n",
      "Could not add dataset: Unable to create link (name already exists).\n",
      "Could not add dataset: Unable to create link (name already exists).\n",
      "Could not add dataset: Unable to create link (name already exists).\n",
      "Could not add dataset: Unable to create link (name already exists).\n",
      "Could not add dataset: Unable to create link (name already exists).\n",
      "Could not add dataset: Unable to create link (name already exists).\n",
      "Could not add dataset: Unable to create link (name already exists).\n",
      "Could not add dataset: Unable to create link (name already exists).\n",
      "Could not add dataset: Unable to create link (name already exists).\n",
      "Could not add dataset: Unable to create link (name already exists).\n",
      "Could not add dataset: Unable to create link (name already exists).\n",
      "Could not add dataset: Unable to create link (name already exists).\n",
      "Could not add dataset: Unable to create link (name already exists).\n",
      "Could not add dataset: Unable to create link (name already exists).\n",
      "Could not add dataset: Unable to create link (name already exists).\n",
      "Could not add dataset: Unable to create link (name already exists).\n",
      "Could not add dataset: Unable to create link (name already exists).\n",
      "Could not add dataset: Unable to create link (name already exists).\n",
      "Could not add dataset: Unable to create link (name already exists).\n",
      "Could not add dataset: Unable to create link (name already exists).\n",
      "Could not add dataset: Unable to create link (name already exists).\n",
      "Could not add dataset: Unable to create link (name already exists).\n",
      "Could not add dataset: Unable to create link (name already exists).\n",
      "Could not add dataset: Unable to create link (name already exists).\n",
      "Could not add dataset: Unable to create link (name already exists).\n",
      "Could not add dataset: Unable to create link (name already exists).\n",
      "Could not add dataset: Unable to create link (name already exists).\n",
      "Could not add dataset: Unable to create link (name already exists).\n",
      "Could not add dataset: Unable to create link (name already exists).\n",
      "Could not add dataset: Unable to create link (name already exists).\n",
      "Could not add dataset: Unable to create link (name already exists).\n",
      "Could not add dataset: Unable to create link (name already exists).\n",
      "Could not add dataset: Unable to create link (name already exists).\n",
      "Could not add dataset: Unable to create link (name already exists).\n",
      "Could not add dataset: Unable to create link (name already exists).\n",
      "Could not add dataset: Unable to create link (name already exists).\n",
      "Could not add dataset: Unable to create link (name already exists).\n"
     ]
    },
    {
     "name": "stderr",
     "output_type": "stream",
     "text": [
      " ██████████████████████████████████████████████████ 100% ETA 0:00:00\n",
      " ░░░░░░░░░░░░░░░░░░░░░░░░░░░░░░░░░░░░░░░░░░░░░░░░░░   0% ETA n/a"
     ]
    },
    {
     "name": "stdout",
     "output_type": "stream",
     "text": [
      "Could not add dataset: Unable to create link (name already exists).\n"
     ]
    },
    {
     "name": "stderr",
     "output_type": "stream",
     "text": [
      "\r",
      " █░░░░░░░░░░░░░░░░░░░░░░░░░░░░░░░░░░░░░░░░░░░░░░░░░   2% ETA 0:00:13"
     ]
    },
    {
     "name": "stdout",
     "output_type": "stream",
     "text": [
      "Could not add dataset: Unable to create link (name already exists).\n",
      "Could not add dataset: Unable to create link (name already exists).\n"
     ]
    },
    {
     "name": "stderr",
     "output_type": "stream",
     "text": [
      " ██████████████████████████████████████████████████ 100% ETA 0:00:00\n"
     ]
    },
    {
     "name": "stdout",
     "output_type": "stream",
     "text": [
      "Could not add dataset: Unable to create link (name already exists).\n",
      "Could not add dataset: Unable to create link (name already exists).\n",
      "Could not add dataset: Unable to create link (name already exists).\n",
      "Could not add dataset: Unable to create link (name already exists).\n",
      "Could not add dataset: Unable to create link (name already exists).\n",
      "Could not add dataset: Unable to create link (name already exists).\n",
      "Could not add dataset: Unable to create link (name already exists).\n",
      "Could not add dataset: Unable to create link (name already exists).\n",
      "Could not add dataset: Unable to create link (name already exists).\n",
      "Could not add dataset: Unable to create link (name already exists).\n",
      "Could not add dataset: Unable to create link (name already exists).\n",
      "Could not add dataset: Unable to create link (name already exists).\n",
      "Could not add dataset: Unable to create link (name already exists).\n",
      "Could not add dataset: Unable to create link (name already exists).\n",
      "Could not add dataset: Unable to create link (name already exists).\n",
      "Could not add dataset: Unable to create link (name already exists).\n",
      "Could not add dataset: Unable to create link (name already exists).\n",
      "Could not add dataset: Unable to create link (name already exists).\n",
      "Could not add dataset: Unable to create link (name already exists).\n",
      "Could not add dataset: Unable to create link (name already exists).\n",
      "Could not add dataset: Unable to create link (name already exists).\n",
      "Could not add dataset: Unable to create link (name already exists).\n",
      "Could not add dataset: Unable to create link (name already exists).\n",
      "Could not add dataset: Unable to create link (name already exists).\n",
      "Could not add dataset: Unable to create link (name already exists).\n",
      "Could not add dataset: Unable to create link (name already exists).\n",
      "Could not add dataset: Unable to create link (name already exists).\n",
      "Could not add dataset: Unable to create link (name already exists).\n",
      "Could not add dataset: Unable to create link (name already exists).\n",
      "Could not add dataset: Unable to create link (name already exists).\n",
      "Could not add dataset: Unable to create link (name already exists).\n",
      "Could not add dataset: Unable to create link (name already exists).\n",
      "Could not add dataset: Unable to create link (name already exists).\n",
      "Could not add dataset: Unable to create link (name already exists).\n",
      "Could not add dataset: Unable to create link (name already exists).\n",
      "Could not add dataset: Unable to create link (name already exists).\n",
      "Could not add dataset: Unable to create link (name already exists).\n",
      "Could not add dataset: Unable to create link (name already exists).\n",
      "Could not add dataset: Unable to create link (name already exists).\n",
      "Could not add dataset: Unable to create link (name already exists).\n",
      "Could not add dataset: Unable to create link (name already exists).\n",
      "Could not add dataset: Unable to create link (name already exists).\n",
      "Could not add dataset: Unable to create link (name already exists).\n",
      "Could not add dataset: Unable to create link (name already exists).\n",
      "Could not add dataset: Unable to create link (name already exists).\n",
      "Could not add dataset: Unable to create link (name already exists).\n",
      "Could not add dataset: Unable to create link (name already exists).\n",
      "Could not add dataset: Unable to create link (name already exists).\n",
      "Could not add dataset: Unable to create link (name already exists).\n",
      "Could not add dataset: Unable to create link (name already exists).\n",
      "Could not add dataset: Unable to create link (name already exists).\n",
      "Could not add dataset: Unable to create link (name already exists).\n",
      "Could not add dataset: Unable to create link (name already exists).\n",
      "Could not add dataset: Unable to create link (name already exists).\n",
      "Could not add dataset: Unable to create link (name already exists).\n",
      "Could not add dataset: Unable to create link (name already exists).\n",
      "Could not add dataset: Unable to create link (name already exists).\n",
      "Could not add dataset: Unable to create link (name already exists).\n",
      "Could not add dataset: Unable to create link (name already exists).\n",
      "Could not add dataset: Unable to create link (name already exists).\n",
      "Could not add dataset: Unable to create link (name already exists).\n",
      "Could not add dataset: Unable to create link (name already exists).\n",
      "Could not add dataset: Unable to create link (name already exists).\n",
      "Could not add dataset: Unable to create link (name already exists).\n",
      "Could not add dataset: Unable to create link (name already exists).\n",
      "Could not add dataset: Unable to create link (name already exists).\n",
      "Could not add dataset: Unable to create link (name already exists).\n",
      "Could not add dataset: Unable to create link (name already exists).\n",
      "Could not add dataset: Unable to create link (name already exists).\n",
      "Could not add dataset: Unable to create link (name already exists).\n",
      "Could not add dataset: Unable to create link (name already exists).\n",
      "Could not add dataset: Unable to create link (name already exists).\n",
      "Could not add dataset: Unable to create link (name already exists).\n",
      "Could not add dataset: Unable to create link (name already exists).\n",
      "Could not add dataset: Unable to create link (name already exists).\n",
      "Could not add dataset: Unable to create link (name already exists).\n",
      "Could not add dataset: Unable to create link (name already exists).\n",
      "Could not add dataset: Unable to create link (name already exists).\n"
     ]
    },
    {
     "name": "stderr",
     "output_type": "stream",
     "text": [
      " ███░░░░░░░░░░░░░░░░░░░░░░░░░░░░░░░░░░░░░░░░░░░░░░░   6% ETA 0:00:06"
     ]
    },
    {
     "name": "stdout",
     "output_type": "stream",
     "text": [
      "Could not add dataset: Unable to create link (name already exists).\n",
      "Could not add dataset: Unable to create link (name already exists).\n",
      "Could not add dataset: Unable to create link (name already exists).\n",
      "Could not add dataset: Unable to create link (name already exists).\n",
      "Could not add dataset: Unable to create link (name already exists).\n"
     ]
    },
    {
     "name": "stderr",
     "output_type": "stream",
     "text": [
      " ██████████░░░░░░░░░░░░░░░░░░░░░░░░░░░░░░░░░░░░░░░░  21% ETA 0:00:02"
     ]
    },
    {
     "name": "stdout",
     "output_type": "stream",
     "text": [
      "Could not add dataset: Unable to create link (name already exists).\n",
      "Could not add dataset: Unable to create link (name already exists).\n",
      "Could not add dataset: Unable to create link (name already exists).\n",
      "Could not add dataset: Unable to create link (name already exists).\n",
      "Could not add dataset: Unable to create link (name already exists).\n",
      "Could not add dataset: Unable to create link (name already exists).\n",
      "Could not add dataset: Unable to create link (name already exists).\n",
      "Could not add dataset: Unable to create link (name already exists).\n",
      "Could not add dataset: Unable to create link (name already exists).\n",
      "Could not add dataset: Unable to create link (name already exists).\n",
      "Could not add dataset: Unable to create link (name already exists).\n",
      "Could not add dataset: Unable to create link (name already exists).\n"
     ]
    },
    {
     "name": "stderr",
     "output_type": "stream",
     "text": [
      " ██████████████████████████░░░░░░░░░░░░░░░░░░░░░░░░  53% ETA 0:00:00"
     ]
    },
    {
     "name": "stdout",
     "output_type": "stream",
     "text": [
      "Could not add dataset: Unable to create link (name already exists).\n",
      "Could not add dataset: Unable to create link (name already exists).\n",
      "Could not add dataset: Unable to create link (name already exists).\n",
      "Could not add dataset: Unable to create link (name already exists).\n",
      "Could not add dataset: Unable to create link (name already exists).\n",
      "Could not add dataset: Unable to create link (name already exists).\n",
      "Could not add dataset: Unable to create link (name already exists).\n",
      "Could not add dataset: Unable to create link (name already exists).\n",
      "Could not add dataset: Unable to create link (name already exists).\n",
      "Could not add dataset: Unable to create link (name already exists).\n",
      "Could not add dataset: Unable to create link (name already exists).\n",
      "Could not add dataset: Unable to create link (name already exists).\n",
      "Could not add dataset: Unable to create link (name already exists).\n",
      "Could not add dataset: Unable to create link (name already exists).\n",
      "Could not add dataset: Unable to create link (name already exists).\n",
      "Could not add dataset: Unable to create link (name already exists).\n",
      "Could not add dataset: Unable to create link (name already exists).\n",
      "Could not add dataset: Unable to create link (name already exists).\n",
      "Could not add dataset: Unable to create link (name already exists).\n",
      "Could not add dataset: Unable to create link (name already exists).\n",
      "Could not add dataset: Unable to create link (name already exists).\n",
      "Could not add dataset: Unable to create link (name already exists).\n",
      "Could not add dataset: Unable to create link (name already exists).\n",
      "Could not add dataset: Unable to create link (name already exists).\n",
      "Could not add dataset: Unable to create link (name already exists).\n",
      "Could not add dataset: Unable to create link (name already exists).\n"
     ]
    },
    {
     "name": "stderr",
     "output_type": "stream",
     "text": [
      " ██████████████████████████████████████████████████ 100% ETA 0:00:00\n"
     ]
    },
    {
     "name": "stdout",
     "output_type": "stream",
     "text": [
      "Could not add dataset: Unable to create link (name already exists).\n",
      "Could not add dataset: Unable to create link (name already exists).\n",
      "Could not add dataset: Unable to create link (name already exists).\n",
      "Could not add dataset: Unable to create link (name already exists).\n",
      "Could not add dataset: Unable to create link (name already exists).\n",
      "Could not add dataset: Unable to create link (name already exists).\n",
      "Could not add dataset: Unable to create link (name already exists).\n",
      "Could not add dataset: Unable to create link (name already exists).\n",
      "Could not add dataset: Unable to create link (name already exists).\n",
      "Could not add dataset: Unable to create link (name already exists).\n",
      "Could not add dataset: Unable to create link (name already exists).\n",
      "Could not add dataset: Unable to create link (name already exists).\n",
      "Could not add dataset: Unable to create link (name already exists).\n",
      "Could not add dataset: Unable to create link (name already exists).\n",
      "Could not add dataset: Unable to create link (name already exists).\n",
      "Could not add dataset: Unable to create link (name already exists).\n",
      "Could not add dataset: Unable to create link (name already exists).\n",
      "Could not add dataset: Unable to create link (name already exists).\n",
      "Could not add dataset: Unable to create link (name already exists).\n",
      "Could not add dataset: Unable to create link (name already exists).\n",
      "Could not add dataset: Unable to create link (name already exists).\n",
      "Could not add dataset: Unable to create link (name already exists).\n",
      "Could not add dataset: Unable to create link (name already exists).\n",
      "Could not add dataset: Unable to create link (name already exists).\n",
      "Could not add dataset: Unable to create link (name already exists).\n",
      "Could not add dataset: Unable to create link (name already exists).\n",
      "Could not add dataset: Unable to create link (name already exists).\n",
      "Could not add dataset: Unable to create link (name already exists).\n",
      "Could not add dataset: Unable to create link (name already exists).\n",
      "Could not add dataset: Unable to create link (name already exists).\n",
      "Could not add dataset: Unable to create link (name already exists).\n",
      "Could not add dataset: Unable to create link (name already exists).\n",
      "Could not add dataset: Unable to create link (name already exists).\n",
      "Could not add dataset: Unable to create link (name already exists).\n",
      "Could not add dataset: Unable to create link (name already exists).\n",
      "Could not add dataset: Unable to create link (name already exists).\n",
      "Could not add dataset: Unable to create link (name already exists).\n",
      "Could not add dataset: Unable to create link (name already exists).\n"
     ]
    },
    {
     "name": "stderr",
     "output_type": "stream",
     "text": [
      " █░░░░░░░░░░░░░░░░░░░░░░░░░░░░░░░░░░░░░░░░░░░░░░░░░   2% ETA 0:00:04"
     ]
    },
    {
     "name": "stdout",
     "output_type": "stream",
     "text": [
      "Could not add dataset: Unable to create link (name already exists).\n",
      "Could not add dataset: Unable to create link (name already exists).\n"
     ]
    },
    {
     "name": "stderr",
     "output_type": "stream",
     "text": [
      " ██████████████░░░░░░░░░░░░░░░░░░░░░░░░░░░░░░░░░░░░  28% ETA 0:00:01"
     ]
    },
    {
     "name": "stdout",
     "output_type": "stream",
     "text": [
      "Could not add dataset: Unable to create link (name already exists).\n",
      "Could not add dataset: Unable to create link (name already exists).\n",
      "Could not add dataset: Unable to create link (name already exists).\n",
      "Could not add dataset: Unable to create link (name already exists).\n",
      "Could not add dataset: Unable to create link (name already exists).\n",
      "Could not add dataset: Unable to create link (name already exists).\n",
      "Could not add dataset: Unable to create link (name already exists).\n",
      "Could not add dataset: Unable to create link (name already exists).\n",
      "Could not add dataset: Unable to create link (name already exists).\n",
      "Could not add dataset: Unable to create link (name already exists).\n",
      "Could not add dataset: Unable to create link (name already exists).\n",
      "Could not add dataset: Unable to create link (name already exists).\n",
      "Could not add dataset: Unable to create link (name already exists).\n",
      "Could not add dataset: Unable to create link (name already exists).\n",
      "Could not add dataset: Unable to create link (name already exists).\n",
      "Could not add dataset: Unable to create link (name already exists).\n",
      "Could not add dataset: Unable to create link (name already exists).\n",
      "Could not add dataset: Unable to create link (name already exists).\n",
      "Could not add dataset: Unable to create link (name already exists).\n",
      "Could not add dataset: Unable to create link (name already exists).\n",
      "Could not add dataset: Unable to create link (name already exists).\n",
      "Could not add dataset: Unable to create link (name already exists).\n"
     ]
    },
    {
     "name": "stderr",
     "output_type": "stream",
     "text": [
      " ██████████████████████████████████████████████████ 100% ETA 0:00:00\n"
     ]
    },
    {
     "name": "stdout",
     "output_type": "stream",
     "text": [
      "Could not add dataset: Unable to create link (name already exists).\n",
      "Could not add dataset: Unable to create link (name already exists).\n",
      "Could not add dataset: Unable to create link (name already exists).\n",
      "Could not add dataset: Unable to create link (name already exists).\n",
      "Could not add dataset: Unable to create link (name already exists).\n",
      "Could not add dataset: Unable to create link (name already exists).\n",
      "Could not add dataset: Unable to create link (name already exists).\n",
      "Could not add dataset: Unable to create link (name already exists).\n",
      "Could not add dataset: Unable to create link (name already exists).\n",
      "Could not add dataset: Unable to create link (name already exists).\n",
      "Could not add dataset: Unable to create link (name already exists).\n",
      "Could not add dataset: Unable to create link (name already exists).\n",
      "Could not add dataset: Unable to create link (name already exists).\n",
      "Could not add dataset: Unable to create link (name already exists).\n",
      "Could not add dataset: Unable to create link (name already exists).\n",
      "Could not add dataset: Unable to create link (name already exists).\n",
      "Could not add dataset: Unable to create link (name already exists).\n",
      "Could not add dataset: Unable to create link (name already exists).\n",
      "Could not add dataset: Unable to create link (name already exists).\n",
      "Could not add dataset: Unable to create link (name already exists).\n",
      "Could not add dataset: Unable to create link (name already exists).\n",
      "Could not add dataset: Unable to create link (name already exists).\n",
      "Could not add dataset: Unable to create link (name already exists).\n",
      "Could not add dataset: Unable to create link (name already exists).\n",
      "Could not add dataset: Unable to create link (name already exists).\n",
      "Could not add dataset: Unable to create link (name already exists).\n",
      "Could not add dataset: Unable to create link (name already exists).\n",
      "Could not add dataset: Unable to create link (name already exists).\n",
      "Could not add dataset: Unable to create link (name already exists).\n",
      "Could not add dataset: Unable to create link (name already exists).\n",
      "Could not add dataset: Unable to create link (name already exists).\n",
      "Could not add dataset: Unable to create link (name already exists).\n",
      "Could not add dataset: Unable to create link (name already exists).\n",
      "Could not add dataset: Unable to create link (name already exists).\n",
      "Could not add dataset: Unable to create link (name already exists).\n",
      "Could not add dataset: Unable to create link (name already exists).\n",
      "Could not add dataset: Unable to create link (name already exists).\n",
      "Could not add dataset: Unable to create link (name already exists).\n",
      "Could not add dataset: Unable to create link (name already exists).\n",
      "Could not add dataset: Unable to create link (name already exists).\n",
      "Could not add dataset: Unable to create link (name already exists).\n",
      "Could not add dataset: Unable to create link (name already exists).\n",
      "Could not add dataset: Unable to create link (name already exists).\n",
      "Could not add dataset: Unable to create link (name already exists).\n",
      "Could not add dataset: Unable to create link (name already exists).\n",
      "Could not add dataset: Unable to create link (name already exists).\n",
      "Could not add dataset: Unable to create link (name already exists).\n",
      "Could not add dataset: Unable to create link (name already exists).\n",
      "Could not add dataset: Unable to create link (name already exists).\n",
      "Could not add dataset: Unable to create link (name already exists).\n",
      "Could not add dataset: Unable to create link (name already exists).\n",
      "Could not add dataset: Unable to create link (name already exists).\n",
      "Could not add dataset: Unable to create link (name already exists).\n",
      "Could not add dataset: Unable to create link (name already exists).\n",
      "Could not add dataset: Unable to create link (name already exists).\n",
      "Could not add dataset: Unable to create link (name already exists).\n",
      "Could not add dataset: Unable to create link (name already exists).\n"
     ]
    },
    {
     "name": "stderr",
     "output_type": "stream",
     "text": [
      " █░░░░░░░░░░░░░░░░░░░░░░░░░░░░░░░░░░░░░░░░░░░░░░░░░   2% ETA 0:00:04"
     ]
    },
    {
     "name": "stdout",
     "output_type": "stream",
     "text": [
      "Could not add dataset: Unable to create link (name already exists).\n",
      "Could not add dataset: Unable to create link (name already exists).\n"
     ]
    },
    {
     "name": "stderr",
     "output_type": "stream",
     "text": [
      " ████████████████░░░░░░░░░░░░░░░░░░░░░░░░░░░░░░░░░░  32% ETA 0:00:01"
     ]
    },
    {
     "name": "stdout",
     "output_type": "stream",
     "text": [
      "Could not add dataset: Unable to create link (name already exists).\n",
      "Could not add dataset: Unable to create link (name already exists).\n",
      "Could not add dataset: Unable to create link (name already exists).\n",
      "Could not add dataset: Unable to create link (name already exists).\n",
      "Could not add dataset: Unable to create link (name already exists).\n",
      "Could not add dataset: Unable to create link (name already exists).\n",
      "Could not add dataset: Unable to create link (name already exists).\n",
      "Could not add dataset: Unable to create link (name already exists).\n",
      "Could not add dataset: Unable to create link (name already exists).\n",
      "Could not add dataset: Unable to create link (name already exists).\n",
      "Could not add dataset: Unable to create link (name already exists).\n",
      "Could not add dataset: Unable to create link (name already exists).\n",
      "Could not add dataset: Unable to create link (name already exists).\n",
      "Could not add dataset: Unable to create link (name already exists).\n",
      "Could not add dataset: Unable to create link (name already exists).\n",
      "Could not add dataset: Unable to create link (name already exists).\n",
      "Could not add dataset: Unable to create link (name already exists).\n",
      "Could not add dataset: Unable to create link (name already exists).\n",
      "Could not add dataset: Unable to create link (name already exists).\n",
      "Could not add dataset: Unable to create link (name already exists).\n",
      "Could not add dataset: Unable to create link (name already exists).\n",
      "Could not add dataset: Unable to create link (name already exists).\n",
      "Could not add dataset: Unable to create link (name already exists).\n",
      "Could not add dataset: Unable to create link (name already exists).\n",
      "Could not add dataset: Unable to create link (name already exists).\n"
     ]
    },
    {
     "name": "stderr",
     "output_type": "stream",
     "text": [
      " ██████████████████████████████████████████████████ 100% ETA 0:00:00\n"
     ]
    },
    {
     "name": "stdout",
     "output_type": "stream",
     "text": [
      "Could not add dataset: Unable to create link (name already exists).\n",
      "Could not add dataset: Unable to create link (name already exists).\n",
      "Could not add dataset: Unable to create link (name already exists).\n",
      "Could not add dataset: Unable to create link (name already exists).\n",
      "Could not add dataset: Unable to create link (name already exists).\n",
      "Could not add dataset: Unable to create link (name already exists).\n",
      "Could not add dataset: Unable to create link (name already exists).\n",
      "Could not add dataset: Unable to create link (name already exists).\n",
      "Could not add dataset: Unable to create link (name already exists).\n",
      "Could not add dataset: Unable to create link (name already exists).\n",
      "Could not add dataset: Unable to create link (name already exists).\n",
      "Could not add dataset: Unable to create link (name already exists).\n",
      "Could not add dataset: Unable to create link (name already exists).\n",
      "Could not add dataset: Unable to create link (name already exists).\n",
      "Could not add dataset: Unable to create link (name already exists).\n",
      "Could not add dataset: Unable to create link (name already exists).\n",
      "Could not add dataset: Unable to create link (name already exists).\n",
      "Could not add dataset: Unable to create link (name already exists).\n",
      "Could not add dataset: Unable to create link (name already exists).\n",
      "Could not add dataset: Unable to create link (name already exists).\n",
      "Could not add dataset: Unable to create link (name already exists).\n",
      "Could not add dataset: Unable to create link (name already exists).\n",
      "Could not add dataset: Unable to create link (name already exists).\n",
      "Could not add dataset: Unable to create link (name already exists).\n",
      "Could not add dataset: Unable to create link (name already exists).\n",
      "Could not add dataset: Unable to create link (name already exists).\n",
      "Could not add dataset: Unable to create link (name already exists).\n",
      "Could not add dataset: Unable to create link (name already exists).\n",
      "Could not add dataset: Unable to create link (name already exists).\n",
      "Could not add dataset: Unable to create link (name already exists).\n",
      "Could not add dataset: Unable to create link (name already exists).\n",
      "Could not add dataset: Unable to create link (name already exists).\n",
      "Could not add dataset: Unable to create link (name already exists).\n",
      "Could not add dataset: Unable to create link (name already exists).\n",
      "Could not add dataset: Unable to create link (name already exists).\n",
      "Could not add dataset: Unable to create link (name already exists).\n",
      "Could not add dataset: Unable to create link (name already exists).\n",
      "Could not add dataset: Unable to create link (name already exists).\n",
      "Could not add dataset: Unable to create link (name already exists).\n",
      "Could not add dataset: Unable to create link (name already exists).\n",
      "Could not add dataset: Unable to create link (name already exists).\n",
      "Could not add dataset: Unable to create link (name already exists).\n",
      "Could not add dataset: Unable to create link (name already exists).\n",
      "Could not add dataset: Unable to create link (name already exists).\n",
      "Could not add dataset: Unable to create link (name already exists).\n",
      "Could not add dataset: Unable to create link (name already exists).\n",
      "Could not add dataset: Unable to create link (name already exists).\n",
      "Could not add dataset: Unable to create link (name already exists).\n",
      "Could not add dataset: Unable to create link (name already exists).\n",
      "Could not add dataset: Unable to create link (name already exists).\n",
      "Could not add dataset: Unable to create link (name already exists).\n",
      "Could not add dataset: Unable to create link (name already exists).\n",
      "Could not add dataset: Unable to create link (name already exists).\n",
      "Could not add dataset: Unable to create link (name already exists).\n"
     ]
    },
    {
     "name": "stderr",
     "output_type": "stream",
     "text": [
      " █░░░░░░░░░░░░░░░░░░░░░░░░░░░░░░░░░░░░░░░░░░░░░░░░░   2% ETA 0:00:04"
     ]
    },
    {
     "name": "stdout",
     "output_type": "stream",
     "text": [
      "Could not add dataset: Unable to create link (name already exists).\n",
      "Could not add dataset: Unable to create link (name already exists).\n"
     ]
    },
    {
     "name": "stderr",
     "output_type": "stream",
     "text": [
      " ███████████████████░░░░░░░░░░░░░░░░░░░░░░░░░░░░░░░  38% ETA 0:00:00"
     ]
    },
    {
     "name": "stdout",
     "output_type": "stream",
     "text": [
      "Could not add dataset: Unable to create link (name already exists).\n",
      "Could not add dataset: Unable to create link (name already exists).\n",
      "Could not add dataset: Unable to create link (name already exists).\n",
      "Could not add dataset: Unable to create link (name already exists).\n",
      "Could not add dataset: Unable to create link (name already exists).\n",
      "Could not add dataset: Unable to create link (name already exists).\n",
      "Could not add dataset: Unable to create link (name already exists).\n",
      "Could not add dataset: Unable to create link (name already exists).\n",
      "Could not add dataset: Unable to create link (name already exists).\n",
      "Could not add dataset: Unable to create link (name already exists).\n",
      "Could not add dataset: Unable to create link (name already exists).\n",
      "Could not add dataset: Unable to create link (name already exists).\n",
      "Could not add dataset: Unable to create link (name already exists).\n",
      "Could not add dataset: Unable to create link (name already exists).\n",
      "Could not add dataset: Unable to create link (name already exists).\n",
      "Could not add dataset: Unable to create link (name already exists).\n",
      "Could not add dataset: Unable to create link (name already exists).\n",
      "Could not add dataset: Unable to create link (name already exists).\n",
      "Could not add dataset: Unable to create link (name already exists).\n",
      "Could not add dataset: Unable to create link (name already exists).\n",
      "Could not add dataset: Unable to create link (name already exists).\n",
      "Could not add dataset: Unable to create link (name already exists).\n",
      "Could not add dataset: Unable to create link (name already exists).\n",
      "Could not add dataset: Unable to create link (name already exists).\n",
      "Could not add dataset: Unable to create link (name already exists).\n",
      "Could not add dataset: Unable to create link (name already exists).\n",
      "Could not add dataset: Unable to create link (name already exists).\n",
      "Could not add dataset: Unable to create link (name already exists).\n",
      "Could not add dataset: Unable to create link (name already exists).\n"
     ]
    },
    {
     "name": "stderr",
     "output_type": "stream",
     "text": [
      " ██████████████████████████████████████████████████ 100% ETA 0:00:00\n"
     ]
    },
    {
     "name": "stdout",
     "output_type": "stream",
     "text": [
      "Could not add dataset: Unable to create link (name already exists).\n",
      "Could not add dataset: Unable to create link (name already exists).\n",
      "Could not add dataset: Unable to create link (name already exists).\n",
      "Could not add dataset: Unable to create link (name already exists).\n",
      "Could not add dataset: Unable to create link (name already exists).\n",
      "Could not add dataset: Unable to create link (name already exists).\n",
      "Could not add dataset: Unable to create link (name already exists).\n",
      "Could not add dataset: Unable to create link (name already exists).\n",
      "Could not add dataset: Unable to create link (name already exists).\n",
      "Could not add dataset: Unable to create link (name already exists).\n",
      "Could not add dataset: Unable to create link (name already exists).\n",
      "Could not add dataset: Unable to create link (name already exists).\n",
      "Could not add dataset: Unable to create link (name already exists).\n",
      "Could not add dataset: Unable to create link (name already exists).\n",
      "Could not add dataset: Unable to create link (name already exists).\n",
      "Could not add dataset: Unable to create link (name already exists).\n",
      "Could not add dataset: Unable to create link (name already exists).\n",
      "Could not add dataset: Unable to create link (name already exists).\n",
      "Could not add dataset: Unable to create link (name already exists).\n",
      "Could not add dataset: Unable to create link (name already exists).\n",
      "Could not add dataset: Unable to create link (name already exists).\n",
      "Could not add dataset: Unable to create link (name already exists).\n",
      "Could not add dataset: Unable to create link (name already exists).\n",
      "Could not add dataset: Unable to create link (name already exists).\n",
      "Could not add dataset: Unable to create link (name already exists).\n",
      "Could not add dataset: Unable to create link (name already exists).\n",
      "Could not add dataset: Unable to create link (name already exists).\n",
      "Could not add dataset: Unable to create link (name already exists).\n",
      "Could not add dataset: Unable to create link (name already exists).\n",
      "Could not add dataset: Unable to create link (name already exists).\n",
      "Could not add dataset: Unable to create link (name already exists).\n",
      "Could not add dataset: Unable to create link (name already exists).\n",
      "Could not add dataset: Unable to create link (name already exists).\n",
      "Could not add dataset: Unable to create link (name already exists).\n",
      "Could not add dataset: Unable to create link (name already exists).\n",
      "Could not add dataset: Unable to create link (name already exists).\n",
      "Could not add dataset: Unable to create link (name already exists).\n",
      "Could not add dataset: Unable to create link (name already exists).\n",
      "Could not add dataset: Unable to create link (name already exists).\n",
      "Could not add dataset: Unable to create link (name already exists).\n",
      "Could not add dataset: Unable to create link (name already exists).\n",
      "Could not add dataset: Unable to create link (name already exists).\n",
      "Could not add dataset: Unable to create link (name already exists).\n",
      "Could not add dataset: Unable to create link (name already exists).\n",
      "Could not add dataset: Unable to create link (name already exists).\n",
      "Could not add dataset: Unable to create link (name already exists).\n",
      "Could not add dataset: Unable to create link (name already exists).\n",
      "Could not add dataset: Unable to create link (name already exists).\n",
      "Could not add dataset: Unable to create link (name already exists).\n",
      "Could not add dataset: Unable to create link (name already exists).\n"
     ]
    },
    {
     "name": "stderr",
     "output_type": "stream",
     "text": [
      " █░░░░░░░░░░░░░░░░░░░░░░░░░░░░░░░░░░░░░░░░░░░░░░░░░   2% ETA 0:00:04"
     ]
    },
    {
     "name": "stdout",
     "output_type": "stream",
     "text": [
      "Could not add dataset: Unable to create link (name already exists).\n",
      "Could not add dataset: Unable to create link (name already exists).\n"
     ]
    },
    {
     "name": "stderr",
     "output_type": "stream",
     "text": [
      " ██████████████████░░░░░░░░░░░░░░░░░░░░░░░░░░░░░░░░  37% ETA 0:00:00"
     ]
    },
    {
     "name": "stdout",
     "output_type": "stream",
     "text": [
      "Could not add dataset: Unable to create link (name already exists).\n",
      "Could not add dataset: Unable to create link (name already exists).\n",
      "Could not add dataset: Unable to create link (name already exists).\n",
      "Could not add dataset: Unable to create link (name already exists).\n",
      "Could not add dataset: Unable to create link (name already exists).\n",
      "Could not add dataset: Unable to create link (name already exists).\n",
      "Could not add dataset: Unable to create link (name already exists).\n",
      "Could not add dataset: Unable to create link (name already exists).\n",
      "Could not add dataset: Unable to create link (name already exists).\n",
      "Could not add dataset: Unable to create link (name already exists).\n",
      "Could not add dataset: Unable to create link (name already exists).\n",
      "Could not add dataset: Unable to create link (name already exists).\n",
      "Could not add dataset: Unable to create link (name already exists).\n",
      "Could not add dataset: Unable to create link (name already exists).\n",
      "Could not add dataset: Unable to create link (name already exists).\n",
      "Could not add dataset: Unable to create link (name already exists).\n",
      "Could not add dataset: Unable to create link (name already exists).\n",
      "Could not add dataset: Unable to create link (name already exists).\n",
      "Could not add dataset: Unable to create link (name already exists).\n",
      "Could not add dataset: Unable to create link (name already exists).\n",
      "Could not add dataset: Unable to create link (name already exists).\n",
      "Could not add dataset: Unable to create link (name already exists).\n",
      "Could not add dataset: Unable to create link (name already exists).\n",
      "Could not add dataset: Unable to create link (name already exists).\n",
      "Could not add dataset: Unable to create link (name already exists).\n",
      "Could not add dataset: Unable to create link (name already exists).\n",
      "Could not add dataset: Unable to create link (name already exists).\n",
      "Could not add dataset: Unable to create link (name already exists).\n"
     ]
    },
    {
     "name": "stderr",
     "output_type": "stream",
     "text": [
      " ██████████████████████████████████████████████████ 100% ETA 0:00:00\n",
      " ░░░░░░░░░░░░░░░░░░░░░░░░░░░░░░░░░░░░░░░░░░░░░░░░░░   0% ETA n/a"
     ]
    },
    {
     "name": "stdout",
     "output_type": "stream",
     "text": [
      "Could not add dataset: Unable to create link (name already exists).\n",
      "Could not add dataset: Unable to create link (name already exists).\n",
      "Could not add dataset: Unable to create link (name already exists).\n",
      "Could not add dataset: Unable to create link (name already exists).\n",
      "Could not add dataset: Unable to create link (name already exists).\n",
      "Could not add dataset: Unable to create link (name already exists).\n",
      "Could not add dataset: Unable to create link (name already exists).\n",
      "Could not add dataset: Unable to create link (name already exists).\n",
      "Could not add dataset: Unable to create link (name already exists).\n",
      "Could not add dataset: Unable to create link (name already exists).\n",
      "Could not add dataset: Unable to create link (name already exists).\n",
      "Could not add dataset: Unable to create link (name already exists).\n",
      "Could not add dataset: Unable to create link (name already exists).\n",
      "Could not add dataset: Unable to create link (name already exists).\n",
      "Could not add dataset: Unable to create link (name already exists).\n",
      "Could not add dataset: Unable to create link (name already exists).\n",
      "Could not add dataset: Unable to create link (name already exists).\n",
      "Could not add dataset: Unable to create link (name already exists).\n",
      "Could not add dataset: Unable to create link (name already exists).\n",
      "Could not add dataset: Unable to create link (name already exists).\n",
      "Could not add dataset: Unable to create link (name already exists).\n",
      "Could not add dataset: Unable to create link (name already exists).\n",
      "Could not add dataset: Unable to create link (name already exists).\n",
      "Could not add dataset: Unable to create link (name already exists).\n",
      "Could not add dataset: Unable to create link (name already exists).\n",
      "Could not add dataset: Unable to create link (name already exists).\n",
      "Could not add dataset: Unable to create link (name already exists).\n",
      "Could not add dataset: Unable to create link (name already exists).\n",
      "Could not add dataset: Unable to create link (name already exists).\n",
      "Could not add dataset: Unable to create link (name already exists).\n",
      "Could not add dataset: Unable to create link (name already exists).\n",
      "Could not add dataset: Unable to create link (name already exists).\n",
      "Could not add dataset: Unable to create link (name already exists).\n",
      "Could not add dataset: Unable to create link (name already exists).\n",
      "Could not add dataset: Unable to create link (name already exists).\n",
      "Could not add dataset: Unable to create link (name already exists).\n",
      "Could not add dataset: Unable to create link (name already exists).\n",
      "Could not add dataset: Unable to create link (name already exists).\n",
      "Could not add dataset: Unable to create link (name already exists).\n",
      "Could not add dataset: Unable to create link (name already exists).\n",
      "Could not add dataset: Unable to create link (name already exists).\n",
      "Could not add dataset: Unable to create link (name already exists).\n",
      "Could not add dataset: Unable to create link (name already exists).\n",
      "Could not add dataset: Unable to create link (name already exists).\n",
      "Could not add dataset: Unable to create link (name already exists).\n",
      "Could not add dataset: Unable to create link (name already exists).\n",
      "Could not add dataset: Unable to create link (name already exists).\n",
      "Could not add dataset: Unable to create link (name already exists).\n",
      "Could not add dataset: Unable to create link (name already exists).\n",
      "Could not add dataset: Unable to create link (name already exists).\n",
      "Could not add dataset: Unable to create link (name already exists).\n"
     ]
    },
    {
     "name": "stderr",
     "output_type": "stream",
     "text": [
      " ██████████████████████████████████████████████████ 100% ETA 0:00:00\n",
      " █░░░░░░░░░░░░░░░░░░░░░░░░░░░░░░░░░░░░░░░░░░░░░░░░░   2% ETA 0:00:05"
     ]
    },
    {
     "name": "stdout",
     "output_type": "stream",
     "text": [
      "Could not add dataset: Unable to create link (name already exists).\n",
      "Could not add dataset: Unable to create link (name already exists).\n"
     ]
    },
    {
     "name": "stderr",
     "output_type": "stream",
     "text": [
      "\r",
      " ██░░░░░░░░░░░░░░░░░░░░░░░░░░░░░░░░░░░░░░░░░░░░░░░░   5% ETA 0:00:10"
     ]
    },
    {
     "name": "stdout",
     "output_type": "stream",
     "text": [
      "Could not add dataset: Unable to create link (name already exists).\n",
      "Could not add dataset: Unable to create link (name already exists).\n",
      "Could not add dataset: Unable to create link (name already exists).\n"
     ]
    },
    {
     "name": "stderr",
     "output_type": "stream",
     "text": [
      " ██████████████████████████████████████████████████ 100% ETA 0:00:00\n"
     ]
    },
    {
     "name": "stdout",
     "output_type": "stream",
     "text": [
      "Could not add dataset: Unable to create link (name already exists).\n",
      "Could not add dataset: Unable to create link (name already exists).\n",
      "Could not add dataset: Unable to create link (name already exists).\n",
      "Could not add dataset: Unable to create link (name already exists).\n",
      "Could not add dataset: Unable to create link (name already exists).\n",
      "Could not add dataset: Unable to create link (name already exists).\n",
      "Could not add dataset: Unable to create link (name already exists).\n",
      "Could not add dataset: Unable to create link (name already exists).\n",
      "Could not add dataset: Unable to create link (name already exists).\n",
      "Could not add dataset: Unable to create link (name already exists).\n",
      "Could not add dataset: Unable to create link (name already exists).\n",
      "Could not add dataset: Unable to create link (name already exists).\n",
      "Could not add dataset: Unable to create link (name already exists).\n",
      "Could not add dataset: Unable to create link (name already exists).\n",
      "Could not add dataset: Unable to create link (name already exists).\n",
      "Could not add dataset: Unable to create link (name already exists).\n",
      "Could not add dataset: Unable to create link (name already exists).\n",
      "Could not add dataset: Unable to create link (name already exists).\n",
      "Could not add dataset: Unable to create link (name already exists).\n",
      "Could not add dataset: Unable to create link (name already exists).\n",
      "Could not add dataset: Unable to create link (name already exists).\n",
      "Could not add dataset: Unable to create link (name already exists).\n",
      "Could not add dataset: Unable to create link (name already exists).\n",
      "Could not add dataset: Unable to create link (name already exists).\n",
      "Could not add dataset: Unable to create link (name already exists).\n",
      "Could not add dataset: Unable to create link (name already exists).\n",
      "Could not add dataset: Unable to create link (name already exists).\n",
      "Could not add dataset: Unable to create link (name already exists).\n",
      "Could not add dataset: Unable to create link (name already exists).\n",
      "Could not add dataset: Unable to create link (name already exists).\n",
      "Could not add dataset: Unable to create link (name already exists).\n",
      "Could not add dataset: Unable to create link (name already exists).\n",
      "Could not add dataset: Unable to create link (name already exists).\n",
      "Could not add dataset: Unable to create link (name already exists).\n",
      "Could not add dataset: Unable to create link (name already exists).\n",
      "Could not add dataset: Unable to create link (name already exists).\n",
      "Could not add dataset: Unable to create link (name already exists).\n",
      "Could not add dataset: Unable to create link (name already exists).\n",
      "Could not add dataset: Unable to create link (name already exists).\n",
      "Could not add dataset: Unable to create link (name already exists).\n",
      "Could not add dataset: Unable to create link (name already exists).\n",
      "Could not add dataset: Unable to create link (name already exists).\n",
      "Could not add dataset: Unable to create link (name already exists).\n",
      "Could not add dataset: Unable to create link (name already exists).\n",
      "Could not add dataset: Unable to create link (name already exists).\n",
      "Could not add dataset: Unable to create link (name already exists).\n",
      "Could not add dataset: Unable to create link (name already exists).\n",
      "Could not add dataset: Unable to create link (name already exists).\n",
      "Could not add dataset: Unable to create link (name already exists).\n",
      "Could not add dataset: Unable to create link (name already exists).\n",
      "Could not add dataset: Unable to create link (name already exists).\n",
      "Could not add dataset: Unable to create link (name already exists).\n",
      "Could not add dataset: Unable to create link (name already exists).\n",
      "Could not add dataset: Unable to create link (name already exists).\n",
      "Could not add dataset: Unable to create link (name already exists).\n",
      "Could not add dataset: Unable to create link (name already exists).\n",
      "Could not add dataset: Unable to create link (name already exists).\n",
      "Could not add dataset: Unable to create link (name already exists).\n",
      "Could not add dataset: Unable to create link (name already exists).\n",
      "Could not add dataset: Unable to create link (name already exists).\n",
      "Could not add dataset: Unable to create link (name already exists).\n",
      "Could not add dataset: Unable to create link (name already exists).\n",
      "Could not add dataset: Unable to create link (name already exists).\n",
      "Could not add dataset: Unable to create link (name already exists).\n",
      "Could not add dataset: Unable to create link (name already exists).\n",
      "Could not add dataset: Unable to create link (name already exists).\n",
      "Could not add dataset: Unable to create link (name already exists).\n",
      "Could not add dataset: Unable to create link (name already exists).\n",
      "Could not add dataset: Unable to create link (name already exists).\n",
      "Could not add dataset: Unable to create link (name already exists).\n",
      "Could not add dataset: Unable to create link (name already exists).\n",
      "Could not add dataset: Unable to create link (name already exists).\n",
      "Could not add dataset: Unable to create link (name already exists).\n",
      "Could not add dataset: Unable to create link (name already exists).\n",
      "Could not add dataset: Unable to create link (name already exists).\n",
      "Could not add dataset: Unable to create link (name already exists).\n"
     ]
    },
    {
     "name": "stderr",
     "output_type": "stream",
     "text": [
      " ██░░░░░░░░░░░░░░░░░░░░░░░░░░░░░░░░░░░░░░░░░░░░░░░░   5% ETA 0:00:06"
     ]
    },
    {
     "name": "stdout",
     "output_type": "stream",
     "text": [
      "Could not add dataset: Unable to create link (name already exists).\n",
      "Could not add dataset: Unable to create link (name already exists).\n",
      "Could not add dataset: Unable to create link (name already exists).\n",
      "Could not add dataset: Unable to create link (name already exists).\n"
     ]
    },
    {
     "name": "stderr",
     "output_type": "stream",
     "text": [
      " ███████░░░░░░░░░░░░░░░░░░░░░░░░░░░░░░░░░░░░░░░░░░░  15% ETA 0:00:03"
     ]
    },
    {
     "name": "stdout",
     "output_type": "stream",
     "text": [
      "Could not add dataset: Unable to create link (name already exists).\n",
      "Could not add dataset: Unable to create link (name already exists).\n",
      "Could not add dataset: Unable to create link (name already exists).\n",
      "Could not add dataset: Unable to create link (name already exists).\n",
      "Could not add dataset: Unable to create link (name already exists).\n",
      "Could not add dataset: Unable to create link (name already exists).\n",
      "Could not add dataset: Unable to create link (name already exists).\n",
      "Could not add dataset: Unable to create link (name already exists).\n"
     ]
    },
    {
     "name": "stderr",
     "output_type": "stream",
     "text": [
      " ██████████████████████░░░░░░░░░░░░░░░░░░░░░░░░░░░░  44% ETA 0:00:00"
     ]
    },
    {
     "name": "stdout",
     "output_type": "stream",
     "text": [
      "Could not add dataset: Unable to create link (name already exists).\n",
      "Could not add dataset: Unable to create link (name already exists).\n",
      "Could not add dataset: Unable to create link (name already exists).\n",
      "Could not add dataset: Unable to create link (name already exists).\n",
      "Could not add dataset: Unable to create link (name already exists).\n",
      "Could not add dataset: Unable to create link (name already exists).\n",
      "Could not add dataset: Unable to create link (name already exists).\n",
      "Could not add dataset: Unable to create link (name already exists).\n",
      "Could not add dataset: Unable to create link (name already exists).\n",
      "Could not add dataset: Unable to create link (name already exists).\n",
      "Could not add dataset: Unable to create link (name already exists).\n",
      "Could not add dataset: Unable to create link (name already exists).\n",
      "Could not add dataset: Unable to create link (name already exists).\n",
      "Could not add dataset: Unable to create link (name already exists).\n",
      "Could not add dataset: Unable to create link (name already exists).\n",
      "Could not add dataset: Unable to create link (name already exists).\n",
      "Could not add dataset: Unable to create link (name already exists).\n",
      "Could not add dataset: Unable to create link (name already exists).\n",
      "Could not add dataset: Unable to create link (name already exists).\n",
      "Could not add dataset: Unable to create link (name already exists).\n",
      "Could not add dataset: Unable to create link (name already exists).\n",
      "Could not add dataset: Unable to create link (name already exists).\n",
      "Could not add dataset: Unable to create link (name already exists).\n",
      "Could not add dataset: Unable to create link (name already exists).\n",
      "Could not add dataset: Unable to create link (name already exists).\n"
     ]
    },
    {
     "name": "stderr",
     "output_type": "stream",
     "text": [
      " ██████████████████████████████████████████████████ 100% ETA 0:00:00\n"
     ]
    },
    {
     "name": "stdout",
     "output_type": "stream",
     "text": [
      "Could not add dataset: Unable to create link (name already exists).\n",
      "Could not add dataset: Unable to create link (name already exists).\n",
      "Could not add dataset: Unable to create link (name already exists).\n",
      "Could not add dataset: Unable to create link (name already exists).\n",
      "Could not add dataset: Unable to create link (name already exists).\n",
      "Could not add dataset: Unable to create link (name already exists).\n",
      "Could not add dataset: Unable to create link (name already exists).\n",
      "Could not add dataset: Unable to create link (name already exists).\n",
      "Could not add dataset: Unable to create link (name already exists).\n",
      "Could not add dataset: Unable to create link (name already exists).\n",
      "Could not add dataset: Unable to create link (name already exists).\n",
      "Could not add dataset: Unable to create link (name already exists).\n",
      "Could not add dataset: Unable to create link (name already exists).\n",
      "Could not add dataset: Unable to create link (name already exists).\n",
      "Could not add dataset: Unable to create link (name already exists).\n",
      "Could not add dataset: Unable to create link (name already exists).\n",
      "Could not add dataset: Unable to create link (name already exists).\n",
      "Could not add dataset: Unable to create link (name already exists).\n",
      "Could not add dataset: Unable to create link (name already exists).\n",
      "Could not add dataset: Unable to create link (name already exists).\n",
      "Could not add dataset: Unable to create link (name already exists).\n",
      "Could not add dataset: Unable to create link (name already exists).\n",
      "Could not add dataset: Unable to create link (name already exists).\n",
      "Could not add dataset: Unable to create link (name already exists).\n",
      "Could not add dataset: Unable to create link (name already exists).\n",
      "Could not add dataset: Unable to create link (name already exists).\n",
      "Could not add dataset: Unable to create link (name already exists).\n",
      "Could not add dataset: Unable to create link (name already exists).\n",
      "Could not add dataset: Unable to create link (name already exists).\n",
      "Could not add dataset: Unable to create link (name already exists).\n",
      "Could not add dataset: Unable to create link (name already exists).\n",
      "Could not add dataset: Unable to create link (name already exists).\n",
      "Could not add dataset: Unable to create link (name already exists).\n",
      "Could not add dataset: Unable to create link (name already exists).\n",
      "Could not add dataset: Unable to create link (name already exists).\n",
      "Could not add dataset: Unable to create link (name already exists).\n",
      "Could not add dataset: Unable to create link (name already exists).\n",
      "Could not add dataset: Unable to create link (name already exists).\n",
      "Could not add dataset: Unable to create link (name already exists).\n",
      "Could not add dataset: Unable to create link (name already exists).\n",
      "Could not add dataset: Unable to create link (name already exists).\n",
      "Could not add dataset: Unable to create link (name already exists).\n",
      "Could not add dataset: Unable to create link (name already exists).\n",
      "Could not add dataset: Unable to create link (name already exists).\n"
     ]
    },
    {
     "name": "stderr",
     "output_type": "stream",
     "text": [
      " █░░░░░░░░░░░░░░░░░░░░░░░░░░░░░░░░░░░░░░░░░░░░░░░░░   2% ETA 0:00:06"
     ]
    },
    {
     "name": "stdout",
     "output_type": "stream",
     "text": [
      "Could not add dataset: Unable to create link (name already exists).\n",
      "Could not add dataset: Unable to create link (name already exists).\n"
     ]
    },
    {
     "name": "stderr",
     "output_type": "stream",
     "text": [
      " █████████████████████░░░░░░░░░░░░░░░░░░░░░░░░░░░░░  43% ETA 0:00:00"
     ]
    },
    {
     "name": "stdout",
     "output_type": "stream",
     "text": [
      "Could not add dataset: Unable to create link (name already exists).\n",
      "Could not add dataset: Unable to create link (name already exists).\n",
      "Could not add dataset: Unable to create link (name already exists).\n",
      "Could not add dataset: Unable to create link (name already exists).\n",
      "Could not add dataset: Unable to create link (name already exists).\n",
      "Could not add dataset: Unable to create link (name already exists).\n",
      "Could not add dataset: Unable to create link (name already exists).\n",
      "Could not add dataset: Unable to create link (name already exists).\n",
      "Could not add dataset: Unable to create link (name already exists).\n",
      "Could not add dataset: Unable to create link (name already exists).\n",
      "Could not add dataset: Unable to create link (name already exists).\n",
      "Could not add dataset: Unable to create link (name already exists).\n",
      "Could not add dataset: Unable to create link (name already exists).\n",
      "Could not add dataset: Unable to create link (name already exists).\n",
      "Could not add dataset: Unable to create link (name already exists).\n",
      "Could not add dataset: Unable to create link (name already exists).\n",
      "Could not add dataset: Unable to create link (name already exists).\n",
      "Could not add dataset: Unable to create link (name already exists).\n",
      "Could not add dataset: Unable to create link (name already exists).\n",
      "Could not add dataset: Unable to create link (name already exists).\n",
      "Could not add dataset: Unable to create link (name already exists).\n",
      "Could not add dataset: Unable to create link (name already exists).\n",
      "Could not add dataset: Unable to create link (name already exists).\n",
      "Could not add dataset: Unable to create link (name already exists).\n",
      "Could not add dataset: Unable to create link (name already exists).\n",
      "Could not add dataset: Unable to create link (name already exists).\n",
      "Could not add dataset: Unable to create link (name already exists).\n",
      "Could not add dataset: Unable to create link (name already exists).\n",
      "Could not add dataset: Unable to create link (name already exists).\n",
      "Could not add dataset: Unable to create link (name already exists).\n",
      "Could not add dataset: Unable to create link (name already exists).\n",
      "Could not add dataset: Unable to create link (name already exists).\n",
      "Could not add dataset: Unable to create link (name already exists).\n",
      "Could not add dataset: Unable to create link (name already exists).\n"
     ]
    },
    {
     "name": "stderr",
     "output_type": "stream",
     "text": [
      " ██████████████████████████████████████████████████ 100% ETA 0:00:00\n"
     ]
    },
    {
     "name": "stdout",
     "output_type": "stream",
     "text": [
      "Could not add dataset: Unable to create link (name already exists).\n",
      "Could not add dataset: Unable to create link (name already exists).\n",
      "Could not add dataset: Unable to create link (name already exists).\n",
      "Could not add dataset: Unable to create link (name already exists).\n",
      "Could not add dataset: Unable to create link (name already exists).\n",
      "Could not add dataset: Unable to create link (name already exists).\n",
      "Could not add dataset: Unable to create link (name already exists).\n",
      "Could not add dataset: Unable to create link (name already exists).\n",
      "Could not add dataset: Unable to create link (name already exists).\n",
      "Could not add dataset: Unable to create link (name already exists).\n",
      "Could not add dataset: Unable to create link (name already exists).\n",
      "Could not add dataset: Unable to create link (name already exists).\n",
      "Could not add dataset: Unable to create link (name already exists).\n",
      "Could not add dataset: Unable to create link (name already exists).\n",
      "Could not add dataset: Unable to create link (name already exists).\n",
      "Could not add dataset: Unable to create link (name already exists).\n",
      "Could not add dataset: Unable to create link (name already exists).\n",
      "Could not add dataset: Unable to create link (name already exists).\n",
      "Could not add dataset: Unable to create link (name already exists).\n",
      "Could not add dataset: Unable to create link (name already exists).\n",
      "Could not add dataset: Unable to create link (name already exists).\n",
      "Could not add dataset: Unable to create link (name already exists).\n",
      "Could not add dataset: Unable to create link (name already exists).\n",
      "Could not add dataset: Unable to create link (name already exists).\n",
      "Could not add dataset: Unable to create link (name already exists).\n",
      "Could not add dataset: Unable to create link (name already exists).\n",
      "Could not add dataset: Unable to create link (name already exists).\n",
      "Could not add dataset: Unable to create link (name already exists).\n",
      "Could not add dataset: Unable to create link (name already exists).\n",
      "Could not add dataset: Unable to create link (name already exists).\n",
      "Could not add dataset: Unable to create link (name already exists).\n",
      "Could not add dataset: Unable to create link (name already exists).\n",
      "Could not add dataset: Unable to create link (name already exists).\n",
      "Could not add dataset: Unable to create link (name already exists).\n",
      "Could not add dataset: Unable to create link (name already exists).\n",
      "Could not add dataset: Unable to create link (name already exists).\n",
      "Could not add dataset: Unable to create link (name already exists).\n",
      "Could not add dataset: Unable to create link (name already exists).\n",
      "Could not add dataset: Unable to create link (name already exists).\n",
      "Could not add dataset: Unable to create link (name already exists).\n",
      "Could not add dataset: Unable to create link (name already exists).\n",
      "Could not add dataset: Unable to create link (name already exists).\n",
      "Could not add dataset: Unable to create link (name already exists).\n",
      "Could not add dataset: Unable to create link (name already exists).\n",
      "Could not add dataset: Unable to create link (name already exists).\n"
     ]
    },
    {
     "name": "stderr",
     "output_type": "stream",
     "text": [
      " █░░░░░░░░░░░░░░░░░░░░░░░░░░░░░░░░░░░░░░░░░░░░░░░░░   2% ETA 0:00:05"
     ]
    },
    {
     "name": "stdout",
     "output_type": "stream",
     "text": [
      "Could not add dataset: Unable to create link (name already exists).\n",
      "Could not add dataset: Unable to create link (name already exists).\n"
     ]
    },
    {
     "name": "stderr",
     "output_type": "stream",
     "text": [
      " ██████████████████░░░░░░░░░░░░░░░░░░░░░░░░░░░░░░░░  37% ETA 0:00:00"
     ]
    },
    {
     "name": "stdout",
     "output_type": "stream",
     "text": [
      "Could not add dataset: Unable to create link (name already exists).\n",
      "Could not add dataset: Unable to create link (name already exists).\n",
      "Could not add dataset: Unable to create link (name already exists).\n",
      "Could not add dataset: Unable to create link (name already exists).\n",
      "Could not add dataset: Unable to create link (name already exists).\n",
      "Could not add dataset: Unable to create link (name already exists).\n",
      "Could not add dataset: Unable to create link (name already exists).\n",
      "Could not add dataset: Unable to create link (name already exists).\n",
      "Could not add dataset: Unable to create link (name already exists).\n",
      "Could not add dataset: Unable to create link (name already exists).\n",
      "Could not add dataset: Unable to create link (name already exists).\n",
      "Could not add dataset: Unable to create link (name already exists).\n",
      "Could not add dataset: Unable to create link (name already exists).\n",
      "Could not add dataset: Unable to create link (name already exists).\n",
      "Could not add dataset: Unable to create link (name already exists).\n",
      "Could not add dataset: Unable to create link (name already exists).\n",
      "Could not add dataset: Unable to create link (name already exists).\n",
      "Could not add dataset: Unable to create link (name already exists).\n",
      "Could not add dataset: Unable to create link (name already exists).\n",
      "Could not add dataset: Unable to create link (name already exists).\n",
      "Could not add dataset: Unable to create link (name already exists).\n",
      "Could not add dataset: Unable to create link (name already exists).\n",
      "Could not add dataset: Unable to create link (name already exists).\n",
      "Could not add dataset: Unable to create link (name already exists).\n",
      "Could not add dataset: Unable to create link (name already exists).\n",
      "Could not add dataset: Unable to create link (name already exists).\n",
      "Could not add dataset: Unable to create link (name already exists).\n",
      "Could not add dataset: Unable to create link (name already exists).\n"
     ]
    },
    {
     "name": "stderr",
     "output_type": "stream",
     "text": [
      " ██████████████████████████████████████████████████ 100% ETA 0:00:00\n"
     ]
    },
    {
     "name": "stdout",
     "output_type": "stream",
     "text": [
      "Could not add dataset: Unable to create link (name already exists).\n",
      "Could not add dataset: Unable to create link (name already exists).\n",
      "Could not add dataset: Unable to create link (name already exists).\n",
      "Could not add dataset: Unable to create link (name already exists).\n",
      "Could not add dataset: Unable to create link (name already exists).\n",
      "Could not add dataset: Unable to create link (name already exists).\n",
      "Could not add dataset: Unable to create link (name already exists).\n",
      "Could not add dataset: Unable to create link (name already exists).\n",
      "Could not add dataset: Unable to create link (name already exists).\n",
      "Could not add dataset: Unable to create link (name already exists).\n",
      "Could not add dataset: Unable to create link (name already exists).\n",
      "Could not add dataset: Unable to create link (name already exists).\n",
      "Could not add dataset: Unable to create link (name already exists).\n",
      "Could not add dataset: Unable to create link (name already exists).\n",
      "Could not add dataset: Unable to create link (name already exists).\n",
      "Could not add dataset: Unable to create link (name already exists).\n",
      "Could not add dataset: Unable to create link (name already exists).\n",
      "Could not add dataset: Unable to create link (name already exists).\n",
      "Could not add dataset: Unable to create link (name already exists).\n",
      "Could not add dataset: Unable to create link (name already exists).\n",
      "Could not add dataset: Unable to create link (name already exists).\n",
      "Could not add dataset: Unable to create link (name already exists).\n",
      "Could not add dataset: Unable to create link (name already exists).\n",
      "Could not add dataset: Unable to create link (name already exists).\n",
      "Could not add dataset: Unable to create link (name already exists).\n",
      "Could not add dataset: Unable to create link (name already exists).\n",
      "Could not add dataset: Unable to create link (name already exists).\n",
      "Could not add dataset: Unable to create link (name already exists).\n",
      "Could not add dataset: Unable to create link (name already exists).\n",
      "Could not add dataset: Unable to create link (name already exists).\n",
      "Could not add dataset: Unable to create link (name already exists).\n",
      "Could not add dataset: Unable to create link (name already exists).\n",
      "Could not add dataset: Unable to create link (name already exists).\n",
      "Could not add dataset: Unable to create link (name already exists).\n",
      "Could not add dataset: Unable to create link (name already exists).\n",
      "Could not add dataset: Unable to create link (name already exists).\n",
      "Could not add dataset: Unable to create link (name already exists).\n",
      "Could not add dataset: Unable to create link (name already exists).\n",
      "Could not add dataset: Unable to create link (name already exists).\n",
      "Could not add dataset: Unable to create link (name already exists).\n",
      "Could not add dataset: Unable to create link (name already exists).\n",
      "Could not add dataset: Unable to create link (name already exists).\n",
      "Could not add dataset: Unable to create link (name already exists).\n",
      "Could not add dataset: Unable to create link (name already exists).\n",
      "Could not add dataset: Unable to create link (name already exists).\n",
      "Could not add dataset: Unable to create link (name already exists).\n",
      "Could not add dataset: Unable to create link (name already exists).\n",
      "Could not add dataset: Unable to create link (name already exists).\n",
      "Could not add dataset: Unable to create link (name already exists).\n",
      "Could not add dataset: Unable to create link (name already exists).\n",
      "Could not add dataset: Unable to create link (name already exists).\n"
     ]
    },
    {
     "name": "stderr",
     "output_type": "stream",
     "text": [
      " ██░░░░░░░░░░░░░░░░░░░░░░░░░░░░░░░░░░░░░░░░░░░░░░░░   5% ETA 0:00:02"
     ]
    },
    {
     "name": "stdout",
     "output_type": "stream",
     "text": [
      "Could not add dataset: Unable to create link (name already exists).\n",
      "Could not add dataset: Unable to create link (name already exists).\n",
      "Could not add dataset: Unable to create link (name already exists).\n",
      "Could not add dataset: Unable to create link (name already exists).\n"
     ]
    },
    {
     "name": "stderr",
     "output_type": "stream",
     "text": [
      " ███████████████████░░░░░░░░░░░░░░░░░░░░░░░░░░░░░░░  38% ETA 0:00:00"
     ]
    },
    {
     "name": "stdout",
     "output_type": "stream",
     "text": [
      "Could not add dataset: Unable to create link (name already exists).\n",
      "Could not add dataset: Unable to create link (name already exists).\n",
      "Could not add dataset: Unable to create link (name already exists).\n",
      "Could not add dataset: Unable to create link (name already exists).\n",
      "Could not add dataset: Unable to create link (name already exists).\n",
      "Could not add dataset: Unable to create link (name already exists).\n",
      "Could not add dataset: Unable to create link (name already exists).\n",
      "Could not add dataset: Unable to create link (name already exists).\n",
      "Could not add dataset: Unable to create link (name already exists).\n",
      "Could not add dataset: Unable to create link (name already exists).\n",
      "Could not add dataset: Unable to create link (name already exists).\n",
      "Could not add dataset: Unable to create link (name already exists).\n",
      "Could not add dataset: Unable to create link (name already exists).\n",
      "Could not add dataset: Unable to create link (name already exists).\n",
      "Could not add dataset: Unable to create link (name already exists).\n",
      "Could not add dataset: Unable to create link (name already exists).\n",
      "Could not add dataset: Unable to create link (name already exists).\n",
      "Could not add dataset: Unable to create link (name already exists).\n",
      "Could not add dataset: Unable to create link (name already exists).\n",
      "Could not add dataset: Unable to create link (name already exists).\n",
      "Could not add dataset: Unable to create link (name already exists).\n",
      "Could not add dataset: Unable to create link (name already exists).\n",
      "Could not add dataset: Unable to create link (name already exists).\n",
      "Could not add dataset: Unable to create link (name already exists).\n",
      "Could not add dataset: Unable to create link (name already exists).\n",
      "Could not add dataset: Unable to create link (name already exists).\n",
      "Could not add dataset: Unable to create link (name already exists).\n",
      "Could not add dataset: Unable to create link (name already exists).\n"
     ]
    },
    {
     "name": "stderr",
     "output_type": "stream",
     "text": [
      " ██████████████████████████████████████████████████ 100% ETA 0:00:00\n"
     ]
    },
    {
     "name": "stdout",
     "output_type": "stream",
     "text": [
      "Could not add dataset: Unable to create link (name already exists).\n",
      "Could not add dataset: Unable to create link (name already exists).\n",
      "Could not add dataset: Unable to create link (name already exists).\n",
      "Could not add dataset: Unable to create link (name already exists).\n",
      "Could not add dataset: Unable to create link (name already exists).\n",
      "Could not add dataset: Unable to create link (name already exists).\n",
      "Could not add dataset: Unable to create link (name already exists).\n",
      "Could not add dataset: Unable to create link (name already exists).\n",
      "Could not add dataset: Unable to create link (name already exists).\n",
      "Could not add dataset: Unable to create link (name already exists).\n",
      "Could not add dataset: Unable to create link (name already exists).\n",
      "Could not add dataset: Unable to create link (name already exists).\n",
      "Could not add dataset: Unable to create link (name already exists).\n",
      "Could not add dataset: Unable to create link (name already exists).\n",
      "Could not add dataset: Unable to create link (name already exists).\n",
      "Could not add dataset: Unable to create link (name already exists).\n",
      "Could not add dataset: Unable to create link (name already exists).\n",
      "Could not add dataset: Unable to create link (name already exists).\n",
      "Could not add dataset: Unable to create link (name already exists).\n",
      "Could not add dataset: Unable to create link (name already exists).\n",
      "Could not add dataset: Unable to create link (name already exists).\n",
      "Could not add dataset: Unable to create link (name already exists).\n",
      "Could not add dataset: Unable to create link (name already exists).\n",
      "Could not add dataset: Unable to create link (name already exists).\n",
      "Could not add dataset: Unable to create link (name already exists).\n",
      "Could not add dataset: Unable to create link (name already exists).\n",
      "Could not add dataset: Unable to create link (name already exists).\n",
      "Could not add dataset: Unable to create link (name already exists).\n",
      "Could not add dataset: Unable to create link (name already exists).\n",
      "Could not add dataset: Unable to create link (name already exists).\n",
      "Could not add dataset: Unable to create link (name already exists).\n",
      "Could not add dataset: Unable to create link (name already exists).\n",
      "Could not add dataset: Unable to create link (name already exists).\n",
      "Could not add dataset: Unable to create link (name already exists).\n",
      "Could not add dataset: Unable to create link (name already exists).\n",
      "Could not add dataset: Unable to create link (name already exists).\n",
      "Could not add dataset: Unable to create link (name already exists).\n",
      "Could not add dataset: Unable to create link (name already exists).\n",
      "Could not add dataset: Unable to create link (name already exists).\n",
      "Could not add dataset: Unable to create link (name already exists).\n",
      "Could not add dataset: Unable to create link (name already exists).\n",
      "Could not add dataset: Unable to create link (name already exists).\n",
      "Could not add dataset: Unable to create link (name already exists).\n",
      "Could not add dataset: Unable to create link (name already exists).\n",
      "Could not add dataset: Unable to create link (name already exists).\n",
      "Could not add dataset: Unable to create link (name already exists).\n",
      "Could not add dataset: Unable to create link (name already exists).\n",
      "Could not add dataset: Unable to create link (name already exists).\n",
      "Could not add dataset: Unable to create link (name already exists).\n"
     ]
    },
    {
     "name": "stderr",
     "output_type": "stream",
     "text": [
      " █░░░░░░░░░░░░░░░░░░░░░░░░░░░░░░░░░░░░░░░░░░░░░░░░░   2% ETA 0:00:10"
     ]
    },
    {
     "name": "stdout",
     "output_type": "stream",
     "text": [
      "Could not add dataset: Unable to create link (name already exists).\n",
      "Could not add dataset: Unable to create link (name already exists).\n"
     ]
    },
    {
     "name": "stderr",
     "output_type": "stream",
     "text": [
      " ████████████████████████████████████████████████░░  96% ETA 0:00:00"
     ]
    },
    {
     "name": "stdout",
     "output_type": "stream",
     "text": [
      "Could not add dataset: Unable to create link (name already exists).\n",
      "Could not add dataset: Unable to create link (name already exists).\n",
      "Could not add dataset: Unable to create link (name already exists).\n",
      "Could not add dataset: Unable to create link (name already exists).\n",
      "Could not add dataset: Unable to create link (name already exists).\n",
      "Could not add dataset: Unable to create link (name already exists).\n",
      "Could not add dataset: Unable to create link (name already exists).\n",
      "Could not add dataset: Unable to create link (name already exists).\n",
      "Could not add dataset: Unable to create link (name already exists).\n",
      "Could not add dataset: Unable to create link (name already exists).\n",
      "Could not add dataset: Unable to create link (name already exists).\n",
      "Could not add dataset: Unable to create link (name already exists).\n",
      "Could not add dataset: Unable to create link (name already exists).\n",
      "Could not add dataset: Unable to create link (name already exists).\n",
      "Could not add dataset: Unable to create link (name already exists).\n",
      "Could not add dataset: Unable to create link (name already exists).\n",
      "Could not add dataset: Unable to create link (name already exists).\n",
      "Could not add dataset: Unable to create link (name already exists).\n",
      "Could not add dataset: Unable to create link (name already exists).\n",
      "Could not add dataset: Unable to create link (name already exists).\n",
      "Could not add dataset: Unable to create link (name already exists).\n",
      "Could not add dataset: Unable to create link (name already exists).\n",
      "Could not add dataset: Unable to create link (name already exists).\n",
      "Could not add dataset: Unable to create link (name already exists).\n",
      "Could not add dataset: Unable to create link (name already exists).\n",
      "Could not add dataset: Unable to create link (name already exists).\n",
      "Could not add dataset: Unable to create link (name already exists).\n",
      "Could not add dataset: Unable to create link (name already exists).\n",
      "Could not add dataset: Unable to create link (name already exists).\n",
      "Could not add dataset: Unable to create link (name already exists).\n",
      "Could not add dataset: Unable to create link (name already exists).\n",
      "Could not add dataset: Unable to create link (name already exists).\n",
      "Could not add dataset: Unable to create link (name already exists).\n",
      "Could not add dataset: Unable to create link (name already exists).\n",
      "Could not add dataset: Unable to create link (name already exists).\n",
      "Could not add dataset: Unable to create link (name already exists).\n",
      "Could not add dataset: Unable to create link (name already exists).\n",
      "Could not add dataset: Unable to create link (name already exists).\n",
      "Could not add dataset: Unable to create link (name already exists).\n",
      "Could not add dataset: Unable to create link (name already exists).\n",
      "Could not add dataset: Unable to create link (name already exists).\n",
      "Could not add dataset: Unable to create link (name already exists).\n",
      "Could not add dataset: Unable to create link (name already exists).\n",
      "Could not add dataset: Unable to create link (name already exists).\n",
      "Could not add dataset: Unable to create link (name already exists).\n",
      "Could not add dataset: Unable to create link (name already exists).\n",
      "Could not add dataset: Unable to create link (name already exists).\n",
      "Could not add dataset: Unable to create link (name already exists).\n",
      "Could not add dataset: Unable to create link (name already exists).\n",
      "Could not add dataset: Unable to create link (name already exists).\n",
      "Could not add dataset: Unable to create link (name already exists).\n",
      "Could not add dataset: Unable to create link (name already exists).\n",
      "Could not add dataset: Unable to create link (name already exists).\n",
      "Could not add dataset: Unable to create link (name already exists).\n",
      "Could not add dataset: Unable to create link (name already exists).\n",
      "Could not add dataset: Unable to create link (name already exists).\n",
      "Could not add dataset: Unable to create link (name already exists).\n",
      "Could not add dataset: Unable to create link (name already exists).\n",
      "Could not add dataset: Unable to create link (name already exists).\n",
      "Could not add dataset: Unable to create link (name already exists).\n",
      "Could not add dataset: Unable to create link (name already exists).\n",
      "Could not add dataset: Unable to create link (name already exists).\n",
      "Could not add dataset: Unable to create link (name already exists).\n",
      "Could not add dataset: Unable to create link (name already exists).\n",
      "Could not add dataset: Unable to create link (name already exists).\n",
      "Could not add dataset: Unable to create link (name already exists).\n",
      "Could not add dataset: Unable to create link (name already exists).\n",
      "Could not add dataset: Unable to create link (name already exists).\n",
      "Could not add dataset: Unable to create link (name already exists).\n",
      "Could not add dataset: Unable to create link (name already exists).\n",
      "Could not add dataset: Unable to create link (name already exists).\n",
      "Could not add dataset: Unable to create link (name already exists).\n",
      "Could not add dataset: Unable to create link (name already exists).\n",
      "Could not add dataset: Unable to create link (name already exists).\n",
      "Could not add dataset: Unable to create link (name already exists).\n",
      "Could not add dataset: Unable to create link (name already exists).\n",
      "Could not add dataset: Unable to create link (name already exists).\n",
      "Could not add dataset: Unable to create link (name already exists).\n"
     ]
    },
    {
     "name": "stderr",
     "output_type": "stream",
     "text": [
      " ██████████████████████████████████████████████████ 100% ETA 0:00:00\n",
      " ░░░░░░░░░░░░░░░░░░░░░░░░░░░░░░░░░░░░░░░░░░░░░░░░░░   0% ETA n/a"
     ]
    },
    {
     "name": "stdout",
     "output_type": "stream",
     "text": [
      "Could not add dataset: Unable to create link (name already exists).\n"
     ]
    },
    {
     "name": "stderr",
     "output_type": "stream",
     "text": [
      " ██████████████████████████████████████████████████ 100% ETA 0:00:00\n"
     ]
    }
   ],
   "source": [
    "os.chdir(cwd)\n",
    "import damask\n",
    "import matplotlib as mpl\n",
    "mpl.use('Agg')\n",
    "import matplotlib.pyplot as PyPlot\n",
    "import numpy as np\n",
    "import h5py\n",
    "#from Plot_stress_strain import plot\n",
    "from damask_eval import eval_stress , eval_strain\n",
    "%matplotlib inline\n",
    "d = []\n",
    "stresses = []\n",
    "strains = []\n",
    "#os.chdir(cwd)\n",
    "for i,c in enumerate(concentrations):\n",
    "    path = cwd+'/'+simulation_folder[i];\n",
    "    os.chdir(path)\n",
    "    #os.chdir(simulation_folder[i])\n",
    "    d.append(damask.Result(job_file[i]))                  \n",
    "    d[i].add_Cauchy()\n",
    "    d[i].add_strain_tensor()\n",
    "    d[i].add_Mises('sigma')\n",
    "    d[i].add_Mises('epsilon_V^0.0(F)')\n",
    "    d[i].add_calculation('avg_sigma',\"np.average(#sigma_vM#)\")\n",
    "    d[i].add_calculation('avg_epsilon',\"np.average(#epsilon_V^0.0(F)_vM#)\")\n",
    "    d[i].save_vtk(['sigma','epsilon_V^0.0(F)','sigma_vM','epsilon_V^0.0(F)_vM'])\n",
    "    stresses.append(eval_stress(job_file[i]))\n",
    "    strains.append(eval_strain(job_file[i]))"
   ]
  },
  {
   "cell_type": "markdown",
   "metadata": {},
   "source": [
    "## Visualization\n",
    "Here, you can find the stress-strain relation for different concentrations of Ni in a Cu-Ni alloy. The main difference lies in the elastic part. Therefore, the stain range is modified to visualize elastic deformation better."
   ]
  },
  {
   "cell_type": "code",
   "execution_count": 23,
   "metadata": {},
   "outputs": [
    {
     "data": {
      "text/plain": [
       "Text(0.5, 1.0, 'Stress-Strain')"
      ]
     },
     "execution_count": 23,
     "metadata": {},
     "output_type": "execute_result"
    },
    {
     "data": {
      "image/png": "[encoded data removed]",
      "text/plain": [
       "<Figure size 432x288 with 1 Axes>"
      ]
     },
     "metadata": {
      "needs_background": "light"
     },
     "output_type": "display_data"
    }
   ],
   "source": [
    "import matplotlib.pyplot as plt\n",
    "i = 0;\n",
    "#stresses[0]= eval_stress(job_file[0])\n",
    "#stresses[1]= eval_stress(job_file[1])\n",
    "#stresses[2]= eval_stress(job_file[2])\n",
    "colors = ['r','g','b']\n",
    "#for color, strain, stress, c in zip(colors, strains, stresses, concentrations):\n",
    "plt.plot(strains[0], stresses[0], 'm', linestyle=\"dotted\",marker = 'X' ,markersize = 12,label = 'Ni={}%'.format(0.0001*100))\n",
    "plt.plot(strains[1], stresses[1], 'r', linewidth=1, label = 'Ni={}%'.format(0.2*100))\n",
    "plt.plot(strains[2], stresses[2], 'b', linestyle=\"dotted\",marker = 'o' ,markersize = 10,label = 'Ni={}%'.format(0.6*100))\n",
    "plt.plot(strains[3], stresses[3], 'g', linestyle=\"dotted\",marker = '*', markersize = 8 ,label = 'Ni={}%'.format(0.9999*100))\n",
    "plt.xlim(-0.0001,0.0015)\n",
    "plt.grid(True)\n",
    "plt.xlabel('$Strain$')\n",
    "plt.ylabel('Stress- MPa')\n",
    "plt.legend( loc='lower right')\n",
    "plt.title(\"Stress-Strain\")"
   ]
  },
  {
   "cell_type": "markdown",
   "metadata": {},
   "source": [
    "## VTK visualization"
   ]
  },
  {
   "cell_type": "markdown",
   "metadata": {},
   "source": [
    "Import visualization modules"
   ]
  },
  {
   "cell_type": "code",
   "execution_count": 1,
   "metadata": {},
   "outputs": [],
   "source": [
    "import pyvista as pv\n",
    "from itkwidgets import view"
   ]
  },
  {
   "cell_type": "markdown",
   "metadata": {},
   "source": [
    "Visualizing initial geometry"
   ]
  },
  {
   "cell_type": "code",
   "execution_count": 2,
   "metadata": {
    "scrolled": false
   },
   "outputs": [],
   "source": [
    "#path = cwd+'/'+simulation_folder[0]   # put the simulation number here\n",
    "#filepath = path + '/' + 'test.vtr' # put correct name for the geometry file\n",
    "filepath = '/home/pyiron_user/pyiron/projects/pyiron_workflow_examples/LAMMPS-DAMASK-workflow/Ni-20/test.vtr'"
   ]
  },
  {
   "cell_type": "code",
   "execution_count": 3,
   "metadata": {},
   "outputs": [
    {
     "data": {
      "text/html": [
       "<table><tr><th>Header</th><th>Data Arrays</th></tr><tr><td>\n",
       "<table>\n",
       "<tr><th>RectilinearGrid</th><th>Information</th></tr>\n",
       "<tr><td>N Cells</td><td>4096</td></tr>\n",
       "<tr><td>N Points</td><td>4913</td></tr>\n",
       "<tr><td>X Bounds</td><td>0.000e+00, 1.000e+00</td></tr>\n",
       "<tr><td>Y Bounds</td><td>0.000e+00, 1.000e+00</td></tr>\n",
       "<tr><td>Z Bounds</td><td>0.000e+00, 1.000e+00</td></tr>\n",
       "<tr><td>Dimensions</td><td>17, 17, 17</td></tr>\n",
       "<tr><td>N Arrays</td><td>2</td></tr>\n",
       "</table>\n",
       "\n",
       "</td><td>\n",
       "<table>\n",
       "<tr><th>Name</th><th>Field</th><th>Type</th><th>N Comp</th><th>Min</th><th>Max</th></tr>\n",
       "<tr><td><b>material</b></td><td>Cells</td><td>int64</td><td>1</td><td>1.000e+00</td><td>2.000e+01</td></tr>\n",
       "<tr><td>comments</td><td>Fields</td><td><U77</td><td>1</td><td>nan</td><td>nan</td></tr>\n",
       "</table>\n",
       "\n",
       "</td></tr> </table>"
      ],
      "text/plain": [
       "RectilinearGrid (0x7fca9a21a2e0)\n",
       "  N Cells:\t4096\n",
       "  N Points:\t4913\n",
       "  X Bounds:\t0.000e+00, 1.000e+00\n",
       "  Y Bounds:\t0.000e+00, 1.000e+00\n",
       "  Z Bounds:\t0.000e+00, 1.000e+00\n",
       "  Dimensions:\t17, 17, 17\n",
       "  N Arrays:\t2"
      ]
     },
     "execution_count": 3,
     "metadata": {},
     "output_type": "execute_result"
    }
   ],
   "source": [
    "mesh = pv.read(filepath)\n",
    "mesh"
   ]
  },
  {
   "cell_type": "markdown",
   "metadata": {},
   "source": [
    "## Input microstructure/geometry"
   ]
  },
  {
   "cell_type": "code",
   "execution_count": 4,
   "metadata": {
    "scrolled": true
   },
   "outputs": [
    {
     "data": {
      "application/vnd.jupyter.widget-view+json": {
       "model_id": "736db01c09ca4cbcbdc209ba122ff9ee",
       "version_major": 2,
       "version_minor": 0
      },
      "text/plain": [
       "Viewer(geometries=[{'vtkClass': 'vtkPolyData', 'points': {'vtkClass': 'vtkPoints', 'name': '_points', 'numberO…"
      ]
     },
     "metadata": {},
     "output_type": "display_data"
    }
   ],
   "source": [
    "pl = pv.PlotterITK()\n",
    "pl.add_mesh(mesh)\n",
    "pl.show()"
   ]
  },
  {
   "cell_type": "markdown",
   "metadata": {},
   "source": [
    "## Visualize stress strain distributions"
   ]
  },
  {
   "cell_type": "code",
   "execution_count": 5,
   "metadata": {
    "scrolled": true
   },
   "outputs": [],
   "source": [
    "#path = cwd+'/'+simulation_folder[0]\n",
    "#filepath = path + '/' + 'test_tension_Ni20_inc20.vtr'   #put the correct name for the vtr file\n",
    "filepath = '/home/pyiron_user/pyiron/projects/pyiron_workflow_examples/LAMMPS-DAMASK-workflow/Ni-20/test_tension_Ni20_inc20.vtr'\n"
   ]
  },
  {
   "cell_type": "code",
   "execution_count": 6,
   "metadata": {},
   "outputs": [
    {
     "data": {
      "text/html": [
       "<table><tr><th>Header</th><th>Data Arrays</th></tr><tr><td>\n",
       "<table>\n",
       "<tr><th>RectilinearGrid</th><th>Information</th></tr>\n",
       "<tr><td>N Cells</td><td>4096</td></tr>\n",
       "<tr><td>N Points</td><td>4913</td></tr>\n",
       "<tr><td>X Bounds</td><td>0.000e+00, 1.000e+00</td></tr>\n",
       "<tr><td>Y Bounds</td><td>0.000e+00, 1.000e+00</td></tr>\n",
       "<tr><td>Z Bounds</td><td>0.000e+00, 1.000e+00</td></tr>\n",
       "<tr><td>Dimensions</td><td>17, 17, 17</td></tr>\n",
       "<tr><td>N Arrays</td><td>5</td></tr>\n",
       "</table>\n",
       "\n",
       "</td><td>\n",
       "<table>\n",
       "<tr><th>Name</th><th>Field</th><th>Type</th><th>N Comp</th><th>Min</th><th>Max</th></tr>\n",
       "<tr><td><b>u</b></td><td>Points</td><td>float32</td><td>3</td><td>-3.292e-03</td><td>5.560e-03</td></tr>\n",
       "<tr><td>1_constituent/generic/sigma</td><td>Cells</td><td>float32</td><td>9</td><td>-8.089e+07</td><td>1.370e+08</td></tr>\n",
       "<tr><td>1_constituent/generic/epsilon_V^0.0(F)</td><td>Cells</td><td>float32</td><td>9</td><td>-1.006e-02</td><td>1.226e-02</td></tr>\n",
       "<tr><td>1_constituent/generic/sigma_vM</td><td>Cells</td><td>float32</td><td>1</td><td>5.875e+07</td><td>1.291e+08</td></tr>\n",
       "<tr><td>1_constituent/generic/epsilon_V^0.0(F)_vM</td><td>Cells</td><td>float32</td><td>1</td><td>8.379e-04</td><td>1.284e-02</td></tr>\n",
       "</table>\n",
       "\n",
       "</td></tr> </table>"
      ],
      "text/plain": [
       "RectilinearGrid (0x7fca8dd9f580)\n",
       "  N Cells:\t4096\n",
       "  N Points:\t4913\n",
       "  X Bounds:\t0.000e+00, 1.000e+00\n",
       "  Y Bounds:\t0.000e+00, 1.000e+00\n",
       "  Z Bounds:\t0.000e+00, 1.000e+00\n",
       "  Dimensions:\t17, 17, 17\n",
       "  N Arrays:\t5"
      ]
     },
     "execution_count": 6,
     "metadata": {},
     "output_type": "execute_result"
    }
   ],
   "source": [
    "mesh = pv.read(filepath)\n",
    "mesh"
   ]
  },
  {
   "cell_type": "code",
   "execution_count": 7,
   "metadata": {
    "scrolled": false
   },
   "outputs": [
    {
     "data": {
      "application/vnd.jupyter.widget-view+json": {
       "model_id": "aeac1ac4462145669aa54eb49e7d14d2",
       "version_major": 2,
       "version_minor": 0
      },
      "text/plain": [
       "Viewer(geometries=[{'vtkClass': 'vtkPolyData', 'points': {'vtkClass': 'vtkPoints', 'name': '_points', 'numberO…"
      ]
     },
     "metadata": {},
     "output_type": "display_data"
    }
   ],
   "source": [
    "pl = pv.PlotterITK()\n",
    "pl.add_mesh(mesh)\n",
    "pl.show()"
   ]
  },
  {
   "cell_type": "code",
   "execution_count": null,
   "metadata": {},
   "outputs": [],
   "source": []
  }
 ],
 "metadata": {
  "kernelspec": {
   "display_name": "Python 3",
   "language": "python",
   "name": "python3"
  },
  "language_info": {
   "codemirror_mode": {
    "name": "ipython",
    "version": 3
   },
   "file_extension": ".py",
   "mimetype": "text/x-python",
   "name": "python",
   "nbconvert_exporter": "python",
   "pygments_lexer": "ipython3",
   "version": "3.8.5"
  }
 },
 "nbformat": 4,
 "nbformat_minor": 4
}
