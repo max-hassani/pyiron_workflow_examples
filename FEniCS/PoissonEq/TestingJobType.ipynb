{
 "cells": [
  {
   "cell_type": "code",
   "execution_count": 3,
   "metadata": {},
   "outputs": [],
   "source": [
    "from pyiron_base import Project\n",
    "import fenics as FEN\n",
    "import FEN_Poisson as FEP"
   ]
  },
  {
   "cell_type": "code",
   "execution_count": 4,
   "metadata": {},
   "outputs": [],
   "source": [
    "pr = Project('test')"
   ]
  },
  {
   "cell_type": "code",
   "execution_count": 5,
   "metadata": {},
   "outputs": [],
   "source": [
    "pr.remove_jobs_silently(recursive=True)\n",
    "job = pr.create_job(job_type=FEP.FEN_Poisson, job_name=\"fen\")"
   ]
  },
  {
   "cell_type": "code",
   "execution_count": 6,
   "metadata": {},
   "outputs": [
    {
     "data": {
      "text/html": [
       "<div>\n",
       "<style scoped>\n",
       "    .dataframe tbody tr th:only-of-type {\n",
       "        vertical-align: middle;\n",
       "    }\n",
       "\n",
       "    .dataframe tbody tr th {\n",
       "        vertical-align: top;\n",
       "    }\n",
       "\n",
       "    .dataframe thead th {\n",
       "        text-align: right;\n",
       "    }\n",
       "</style>\n",
       "<table border=\"1\" class=\"dataframe\">\n",
       "  <thead>\n",
       "    <tr style=\"text-align: right;\">\n",
       "      <th></th>\n",
       "      <th>Parameter</th>\n",
       "      <th>Value</th>\n",
       "      <th>Comment</th>\n",
       "    </tr>\n",
       "  </thead>\n",
       "  <tbody>\n",
       "    <tr>\n",
       "      <th>0</th>\n",
       "      <td>a</td>\n",
       "      <td></td>\n",
       "      <td></td>\n",
       "    </tr>\n",
       "    <tr>\n",
       "      <th>1</th>\n",
       "      <td>L</td>\n",
       "      <td></td>\n",
       "      <td></td>\n",
       "    </tr>\n",
       "    <tr>\n",
       "      <th>2</th>\n",
       "      <td>vtk_filename</td>\n",
       "      <td>/output.pvd</td>\n",
       "      <td></td>\n",
       "    </tr>\n",
       "    <tr>\n",
       "      <th>3</th>\n",
       "      <td>mesh</td>\n",
       "      <td>None</td>\n",
       "      <td></td>\n",
       "    </tr>\n",
       "    <tr>\n",
       "      <th>4</th>\n",
       "      <td>BC</td>\n",
       "      <td>None</td>\n",
       "      <td></td>\n",
       "    </tr>\n",
       "    <tr>\n",
       "      <th>5</th>\n",
       "      <td>V</td>\n",
       "      <td>None</td>\n",
       "      <td></td>\n",
       "    </tr>\n",
       "  </tbody>\n",
       "</table>\n",
       "</div>"
      ],
      "text/plain": [
       "      Parameter        Value Comment\n",
       "0             a                     \n",
       "1             L                     \n",
       "2  vtk_filename  /output.pvd        \n",
       "3          mesh         None        \n",
       "4            BC         None        \n",
       "5             V         None        "
      ]
     },
     "execution_count": 6,
     "metadata": {},
     "output_type": "execute_result"
    }
   ],
   "source": [
    "job.input"
   ]
  },
  {
   "cell_type": "code",
   "execution_count": 7,
   "metadata": {},
   "outputs": [
    {
     "name": "stdout",
     "output_type": "stream",
     "text": [
      "Calling FFC just-in-time (JIT) compiler, this may take some time.\n"
     ]
    },
    {
     "data": {
      "image/png": "[encoded data removed]",
      "text/plain": [
       "<Figure size 432x288 with 1 Axes>"
      ]
     },
     "metadata": {
      "needs_background": "light"
     },
     "output_type": "display_data"
    }
   ],
   "source": [
    "job.mesh_gen_default(8)\n",
    "job.plot_mesh()"
   ]
  },
  {
   "cell_type": "code",
   "execution_count": 8,
   "metadata": {},
   "outputs": [],
   "source": [
    "u_D = FEN.Expression('1 + x[0]*x[0] + 2*x[1]*x[1]', degree=2)"
   ]
  },
  {
   "cell_type": "code",
   "execution_count": 9,
   "metadata": {},
   "outputs": [],
   "source": [
    "def boundary(x,on_boundary):\n",
    "    return on_boundary\n",
    "\n",
    "job.BC = job.DirichletBC(u_D, boundary)"
   ]
  },
  {
   "cell_type": "code",
   "execution_count": 10,
   "metadata": {},
   "outputs": [],
   "source": [
    "job.f = job.Constant(-6.0)\n",
    "job.a = job.dxProd(job.dot(FEN.grad(job._u), FEN.grad(job._v)))\n",
    "job.L = job.dxProd(job.f*job._v)"
   ]
  },
  {
   "cell_type": "code",
   "execution_count": 11,
   "metadata": {},
   "outputs": [
    {
     "name": "stdout",
     "output_type": "stream",
     "text": [
      "The job fen was saved and received the ID: 1\n",
      "Calling FFC just-in-time (JIT) compiler, this may take some time.\n",
      "Calling FFC just-in-time (JIT) compiler, this may take some time.\n",
      "Calling FFC just-in-time (JIT) compiler, this may take some time.\n",
      "Calling FFC just-in-time (JIT) compiler, this may take some time.\n",
      "Calling FFC just-in-time (JIT) compiler, this may take some time.\n"
     ]
    }
   ],
   "source": [
    "job.run()"
   ]
  },
  {
   "cell_type": "code",
   "execution_count": 12,
   "metadata": {},
   "outputs": [
    {
     "data": {
      "image/png": "[encoded data removed]",
      "text/plain": [
       "<Figure size 432x288 with 1 Axes>"
      ]
     },
     "metadata": {
      "needs_background": "light"
     },
     "output_type": "display_data"
    }
   ],
   "source": [
    "job.plot_u()"
   ]
  },
  {
   "cell_type": "code",
   "execution_count": 13,
   "metadata": {},
   "outputs": [
    {
     "data": {
      "text/plain": [
       "dolfin.function.function.Function"
      ]
     },
     "execution_count": 13,
     "metadata": {},
     "output_type": "execute_result"
    }
   ],
   "source": [
    "type(job.u)"
   ]
  },
  {
   "cell_type": "code",
   "execution_count": 14,
   "metadata": {},
   "outputs": [
    {
     "data": {
      "text/plain": [
       "array([1.      , 1.015625, 1.0625  , 1.140625, 1.25    , 1.390625,\n",
       "       1.5625  , 1.765625, 2.      , 1.03125 , 1.046875, 1.09375 ,\n",
       "       1.171875, 1.28125 , 1.421875, 1.59375 , 1.796875, 2.03125 ,\n",
       "       1.125   , 1.140625, 1.1875  , 1.265625, 1.375   , 1.515625,\n",
       "       1.6875  , 1.890625, 2.125   , 1.28125 , 1.296875, 1.34375 ,\n",
       "       1.421875, 1.53125 , 1.671875, 1.84375 , 2.046875, 2.28125 ,\n",
       "       1.5     , 1.515625, 1.5625  , 1.640625, 1.75    , 1.890625,\n",
       "       2.0625  , 2.265625, 2.5     , 1.78125 , 1.796875, 1.84375 ,\n",
       "       1.921875, 2.03125 , 2.171875, 2.34375 , 2.546875, 2.78125 ,\n",
       "       2.125   , 2.140625, 2.1875  , 2.265625, 2.375   , 2.515625,\n",
       "       2.6875  , 2.890625, 3.125   , 2.53125 , 2.546875, 2.59375 ,\n",
       "       2.671875, 2.78125 , 2.921875, 3.09375 , 3.296875, 3.53125 ,\n",
       "       3.      , 3.015625, 3.0625  , 3.140625, 3.25    , 3.390625,\n",
       "       3.5625  , 3.765625, 4.      ])"
      ]
     },
     "execution_count": 14,
     "metadata": {},
     "output_type": "execute_result"
    }
   ],
   "source": [
    "job['output/generic/u']"
   ]
  },
  {
   "cell_type": "code",
   "execution_count": null,
   "metadata": {},
   "outputs": [],
   "source": []
  }
 ],
 "metadata": {
  "kernelspec": {
   "display_name": "Python 3",
   "language": "python",
   "name": "python3"
  },
  "language_info": {
   "codemirror_mode": {
    "name": "ipython",
    "version": 3
   },
   "file_extension": ".py",
   "mimetype": "text/x-python",
   "name": "python",
   "nbconvert_exporter": "python",
   "pygments_lexer": "ipython3",
   "version": "3.8.5"
  }
 },
 "nbformat": 4,
 "nbformat_minor": 4
}
